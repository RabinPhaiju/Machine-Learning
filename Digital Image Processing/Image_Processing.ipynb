{
 "metadata": {
  "language_info": {
   "codemirror_mode": {
    "name": "ipython",
    "version": 3
   },
   "file_extension": ".py",
   "mimetype": "text/x-python",
   "name": "python",
   "nbconvert_exporter": "python",
   "pygments_lexer": "ipython3",
   "version": "3.8.5"
  },
  "orig_nbformat": 2,
  "kernelspec": {
   "name": "python385jvsc74a57bd0a456efd1d2e2bfa10bfdad488db5626e5f8bd233a0f11ae70ce0e7717a6a7d8d",
   "display_name": "Python 3.8.5 64-bit ('base': conda)"
  }
 },
 "nbformat": 4,
 "nbformat_minor": 2,
 "cells": [
  {
   "source": [
    "# 1. What is Image Processing.\n",
    "    - Image processing is a method to perform some important operations on an image. In order to get an enhanced high quality image or to extract the most useful information.\n",
    "    - It is one type of signal processing.\n",
    "    - Input : images\n",
    "    - Output: image / characteristics / features\n"
   ],
   "cell_type": "markdown",
   "metadata": {}
  },
  {
   "source": [
    "# 2. How Image input works in computer.\n",
    "    - Converts the image into an array of pixel values where the dimension of array depends on the resolution of the image.\n",
    "- ![](files/1.png)"
   ],
   "cell_type": "markdown",
   "metadata": {}
  },
  {
   "source": [
    "# 3. What is CNN. ( Convolutional Neural Network)\n",
    "- ![](files/2.png)\n",
    "    ### Layer in CNN.\n",
    "    - a) Convolutional Layer : Converts images in to an array\n",
    "    - b) ReLu Layer: Converts negative numbers into zero\n",
    "    - c) Pooling Layer: Reduce the image size.\n",
    "    - d) Fully Connected Network: Combines the extracted features and represents a new model."
   ],
   "cell_type": "markdown",
   "metadata": {}
  },
  {
   "source": [
    "## a) Convolutional Layer:\n",
    "    - Converts images into an array.\n",
    "    - First layer of CNN\n",
    "    - Stores the pixelated values of image into an array\n",
    "    - Used for extracting the features of the iamge and reducing its dimensionlity.\n",
    "![](files/3.png)"
   ],
   "cell_type": "markdown",
   "metadata": {}
  },
  {
   "source": [
    "## b)  ReLu : Activation function\n",
    "    - Converts negative values into zero.\n",
    "    - ReLu is a half recifier\n",
    "         - f(y) = 0 when y<0\n",
    "         - f(y) = y when y >= 0\n",
    "    - Range of Relu : [0 to infinity]\n",
    "![](files/4.png)"
   ],
   "cell_type": "markdown",
   "metadata": {}
  },
  {
   "source": [
    "## c) Pooling Layer\n",
    "    - Reduces the spatial size and the numbers of parameters.\n",
    "    - Helps to control overfitting\n",
    "        - When your model start performing very well in your training data, but when you give a test data/new data then the model start giving very bad results.\n",
    "    - Filters of size 2x2 are commonly used in it.\n",
    "![](files/5.png)\n",
    "![](files/6.png)"
   ],
   "cell_type": "markdown",
   "metadata": {}
  },
  {
   "source": [
    "## d) Fully connected Layer\n",
    "    - Combines all the features together to create a final model.\n",
    "![](files/7.png)"
   ],
   "cell_type": "markdown",
   "metadata": {}
  },
  {
   "cell_type": "code",
   "execution_count": null,
   "metadata": {},
   "outputs": [],
   "source": []
  }
 ]
}