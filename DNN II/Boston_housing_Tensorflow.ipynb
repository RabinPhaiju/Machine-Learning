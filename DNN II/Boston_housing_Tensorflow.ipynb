{
 "cells": [
  {
   "cell_type": "code",
   "execution_count": 61,
   "metadata": {},
   "outputs": [],
   "source": [
    "import tensorflow as tf"
   ]
  },
  {
   "cell_type": "code",
   "execution_count": 62,
   "metadata": {},
   "outputs": [
    {
     "data": {
      "text/plain": [
       "'2.3.0'"
      ]
     },
     "execution_count": 62,
     "metadata": {},
     "output_type": "execute_result"
    }
   ],
   "source": [
    "tf.__version__"
   ]
  },
  {
   "cell_type": "code",
   "execution_count": 63,
   "metadata": {},
   "outputs": [],
   "source": [
    "# Tensorflow doesnot normalize the data, we need to use sklearn to Normalized it.\n",
    "from sklearn.preprocessing import Normalizer"
   ]
  },
  {
   "cell_type": "code",
   "execution_count": 64,
   "metadata": {},
   "outputs": [],
   "source": [
    "# Load data\n",
    "(train_x,train_y),(_,_) = tf.keras.datasets.boston_housing.load_data(test_split=0)"
   ]
  },
  {
   "cell_type": "code",
   "execution_count": 65,
   "metadata": {},
   "outputs": [
    {
     "data": {
      "text/plain": [
       "(506, 13)"
      ]
     },
     "execution_count": 65,
     "metadata": {},
     "output_type": "execute_result"
    }
   ],
   "source": [
    "train_x.shape"
   ]
  },
  {
   "cell_type": "code",
   "execution_count": 66,
   "metadata": {},
   "outputs": [
    {
     "data": {
      "text/plain": [
       "(506,)"
      ]
     },
     "execution_count": 66,
     "metadata": {},
     "output_type": "execute_result"
    }
   ],
   "source": [
    "train_y.shape"
   ]
  },
  {
   "cell_type": "code",
   "execution_count": 67,
   "metadata": {},
   "outputs": [],
   "source": [
    "# Tensorflow uses 32 by default\n",
    "train_x = train_x.astype('float32')\n",
    "train_y = train_y.astype('float32')"
   ]
  },
  {
   "cell_type": "code",
   "execution_count": 68,
   "metadata": {},
   "outputs": [],
   "source": [
    "transformer = Normalizer()\n",
    "train_x = transformer.fit_transform(train_x)"
   ]
  },
  {
   "cell_type": "code",
   "execution_count": 69,
   "metadata": {},
   "outputs": [
    {
     "data": {
      "text/plain": [
       "array([0.0024119 , 0.        , 0.01592969, 0.        , 0.00105285,\n",
       "       0.01201967, 0.17945358, 0.00778265, 0.00782786, 0.60078794,\n",
       "       0.04109624, 0.776719  , 0.03663436], dtype=float32)"
      ]
     },
     "execution_count": 69,
     "metadata": {},
     "output_type": "execute_result"
    }
   ],
   "source": [
    "train_x[0]"
   ]
  },
  {
   "cell_type": "code",
   "execution_count": 76,
   "metadata": {},
   "outputs": [
    {
     "data": {
      "text/plain": [
       "<tf.Tensor: shape=(13, 1), dtype=float32, numpy=\n",
       "array([[0.],\n",
       "       [0.],\n",
       "       [0.],\n",
       "       [0.],\n",
       "       [0.],\n",
       "       [0.],\n",
       "       [0.],\n",
       "       [0.],\n",
       "       [0.],\n",
       "       [0.],\n",
       "       [0.],\n",
       "       [0.],\n",
       "       [0.]], dtype=float32)>"
      ]
     },
     "execution_count": 76,
     "metadata": {},
     "output_type": "execute_result"
    }
   ],
   "source": [
    "# We are initializing weights and Bias with Zero\n",
    "w = tf.zeros(shape=(13,1))\n",
    "b = tf.zeros(shape=(1))\n",
    "w"
   ]
  },
  {
   "cell_type": "code",
   "execution_count": 71,
   "metadata": {},
   "outputs": [],
   "source": [
    "def prediction (x,w,b):\n",
    "    xw_matmul = tf.matmul(x,w)\n",
    "    y = tf.add(xw_matmul, b)\n",
    "    return y"
   ]
  },
  {
   "cell_type": "code",
   "execution_count": 72,
   "metadata": {},
   "outputs": [],
   "source": [
    "def loss(y_actual,y_predicted):\n",
    "    diff = y_actual = y_predicted\n",
    "    sqr = tf.square(diff)\n",
    "    avg = tf.reduce_mean(sqr)\n",
    "    return avg"
   ]
  },
  {
   "cell_type": "markdown",
   "metadata": {},
   "source": [
    "## Function to train the Model\n",
    "1. Record all the mathematical steps to calculate Loss. We will record the steps using Gradient Tape\n",
    "2. Calculate Gradients of Loss w.r.t weights and bias\n",
    "3. Update Weights and bias based in gradients and learing rate."
   ]
  },
  {
   "cell_type": "code",
   "execution_count": 73,
   "metadata": {},
   "outputs": [],
   "source": [
    "def train(x, y_actual, w, b, learning_rate=0.01):\n",
    "    # Record mathematical operations on 'tape' to calculate loss\n",
    "    with tf.GradientTape() as t:\n",
    "        t.watch([w,b])\n",
    "        \n",
    "        current_prediction = prediction(x,w,b)\n",
    "        current_loss = loss(y_actual, current_prediction)\n",
    "    \n",
    "    # Calculate Gradients for Loss with respect to Weights and Bias\n",
    "    dw,db = t.gradient(current_loss,[w,b])\n",
    "    \n",
    "    # Update Weights and Bias\n",
    "    w = w - learning_rate*dw\n",
    "    b = b - learning_rate*db\n",
    "    \n",
    "    return w,b"
   ]
  },
  {
   "cell_type": "markdown",
   "metadata": {},
   "source": [
    "# Start Training"
   ]
  },
  {
   "cell_type": "code",
   "execution_count": 74,
   "metadata": {},
   "outputs": [
    {
     "name": "stdout",
     "output_type": "stream",
     "text": [
      "Current Loss in iteration 0 0.0\n",
      "Current Loss in iteration 1 0.0\n",
      "Current Loss in iteration 2 0.0\n",
      "Current Loss in iteration 3 0.0\n",
      "Current Loss in iteration 4 0.0\n",
      "Current Loss in iteration 5 0.0\n",
      "Current Loss in iteration 6 0.0\n",
      "Current Loss in iteration 7 0.0\n",
      "Current Loss in iteration 8 0.0\n",
      "Current Loss in iteration 9 0.0\n",
      "Current Loss in iteration 10 0.0\n",
      "Current Loss in iteration 11 0.0\n",
      "Current Loss in iteration 12 0.0\n",
      "Current Loss in iteration 13 0.0\n",
      "Current Loss in iteration 14 0.0\n",
      "Current Loss in iteration 15 0.0\n",
      "Current Loss in iteration 16 0.0\n",
      "Current Loss in iteration 17 0.0\n",
      "Current Loss in iteration 18 0.0\n",
      "Current Loss in iteration 19 0.0\n"
     ]
    }
   ],
   "source": [
    "# Train for 100 Times\n",
    "for i in range(20):\n",
    "    w, b = train(train_x, train_y, w, b)\n",
    "    print('Current Loss in iteration', i, loss(train_y, prediction(train_x,w,b)).numpy())"
   ]
  },
  {
   "cell_type": "code",
   "execution_count": 75,
   "metadata": {},
   "outputs": [
    {
     "data": {
      "text/plain": [
       "array([0.0024119 , 0.        , 0.01592969, 0.        , 0.00105285,\n",
       "       0.01201967, 0.17945358, 0.00778265, 0.00782786, 0.60078794,\n",
       "       0.04109624, 0.776719  , 0.03663436], dtype=float32)"
      ]
     },
     "execution_count": 75,
     "metadata": {},
     "output_type": "execute_result"
    }
   ],
   "source": [
    "train_x[0]"
   ]
  }
 ],
 "metadata": {
  "kernelspec": {
   "display_name": "Python 3",
   "language": "python",
   "name": "python3"
  },
  "language_info": {
   "codemirror_mode": {
    "name": "ipython",
    "version": 3
   },
   "file_extension": ".py",
   "mimetype": "text/x-python",
   "name": "python",
   "nbconvert_exporter": "python",
   "pygments_lexer": "ipython3",
   "version": "3.7.9"
  }
 },
 "nbformat": 4,
 "nbformat_minor": 4
}
