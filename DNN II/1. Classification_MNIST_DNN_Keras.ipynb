{
 "cells": [
  {
   "cell_type": "markdown",
   "metadata": {
    "id": "2FOkt_PVMd6h"
   },
   "source": [
    "### Load tensorflow"
   ]
  },
  {
   "cell_type": "code",
   "execution_count": 28,
   "metadata": {
    "id": "QknvBKm3Md6j"
   },
   "outputs": [],
   "source": [
    "import tensorflow as tf\n",
    "import numpy as np"
   ]
  },
  {
   "cell_type": "markdown",
   "metadata": {
    "id": "QHbDtQQJMd6m"
   },
   "source": [
    "### Collect Data\n",
    "\n",
    "We will use MNIST dataset for this exercise. This dataset contains images of hand written numbers with each image being a black & white picture of size 28x28. We will download the data using tensorflow API. The dataset has 60,000 training examples and 10,000 test examples. Please note that images have already been converted to numpy arrays."
   ]
  },
  {
   "cell_type": "code",
   "execution_count": 29,
   "metadata": {
    "id": "AJ6bJeCGMd6n"
   },
   "outputs": [],
   "source": [
    "#Download dataset\n",
    "(trainX, trainY),(testX, testY) = tf.keras.datasets.mnist.load_data()"
   ]
  },
  {
   "cell_type": "code",
   "execution_count": 30,
   "metadata": {
    "id": "OAv--_-Spq4F"
   },
   "outputs": [
    {
     "data": {
      "text/plain": [
       "(60000, 28, 28)"
      ]
     },
     "execution_count": 30,
     "metadata": {},
     "output_type": "execute_result"
    }
   ],
   "source": [
    "#Check number of training examples and size of each example\n",
    "trainX.shape"
   ]
  },
  {
   "cell_type": "code",
   "execution_count": 31,
   "metadata": {
    "id": "0SyUwzqxbEar"
   },
   "outputs": [
    {
     "name": "stdout",
     "output_type": "stream",
     "text": [
      "total pixel: 784\n"
     ]
    }
   ],
   "source": [
    "print('total pixel:',trainX.shape[2]**2)"
   ]
  },
  {
   "cell_type": "code",
   "execution_count": 32,
   "metadata": {
    "id": "mWBOngBwpy2D"
   },
   "outputs": [
    {
     "data": {
      "text/plain": [
       "(10000, 28, 28)"
      ]
     },
     "execution_count": 32,
     "metadata": {},
     "output_type": "execute_result"
    }
   ],
   "source": [
    "#Check number of test examples and size of each example\n",
    "testX.shape"
   ]
  },
  {
   "cell_type": "code",
   "execution_count": 33,
   "metadata": {
    "id": "ysUC2mxaGhKw"
   },
   "outputs": [
    {
     "data": {
      "image/png": "[encoded data removed]",
      "text/plain": [
       "<Figure size 432x288 with 1 Axes>"
      ]
     },
     "metadata": {
      "needs_background": "light"
     },
     "output_type": "display_data"
    }
   ],
   "source": [
    "#Let's review the data\n",
    "import matplotlib.pyplot as plt\n",
    "img_num = np.random.randint(0, testX.shape[0]) #Get a random integer between 0 and number of examples in test dataset\n",
    "plt.imshow(testX[img_num],cmap='gray') #Show the image from test dataset\n",
    "plt.suptitle('Number: ' + str(testY[img_num]))\n",
    "plt.show()"
   ]
  },
  {
   "cell_type": "markdown",
   "metadata": {
    "id": "8rxmqpkpMd6r"
   },
   "source": [
    "### Convert Output label to multiple values"
   ]
  },
  {
   "cell_type": "code",
   "execution_count": 34,
   "metadata": {
    "id": "EijfLL3NqABx"
   },
   "outputs": [
    {
     "data": {
      "text/plain": [
       "7"
      ]
     },
     "execution_count": 34,
     "metadata": {},
     "output_type": "execute_result"
    }
   ],
   "source": [
    "#Check current label size\n",
    "testY[0]"
   ]
  },
  {
   "cell_type": "code",
   "execution_count": 35,
   "metadata": {
    "id": "Jr8yucgyMd6s"
   },
   "outputs": [],
   "source": [
    "#Convert labels to one hot encoding\n",
    "trainY = tf.keras.utils.to_categorical(trainY, num_classes=10)\n",
    "testY = tf.keras.utils.to_categorical(testY, num_classes=10)"
   ]
  },
  {
   "cell_type": "code",
   "execution_count": 36,
   "metadata": {
    "id": "RnY9Bqx0qHkM"
   },
   "outputs": [
    {
     "data": {
      "text/plain": [
       "array([0., 0., 0., 0., 0., 0., 0., 1., 0., 0.], dtype=float32)"
      ]
     },
     "execution_count": 36,
     "metadata": {},
     "output_type": "execute_result"
    }
   ],
   "source": [
    "#Now check the label size\n",
    "testY[0]"
   ]
  },
  {
   "cell_type": "markdown",
   "metadata": {
    "id": "nACcpZ6oMd6z"
   },
   "source": [
    "## Build the Graph"
   ]
  },
  {
   "cell_type": "code",
   "execution_count": 37,
   "metadata": {
    "id": "9h6GBSH6Md61"
   },
   "outputs": [],
   "source": [
    "#Clear any existing model in memory\n",
    "tf.keras.backend.clear_session()\n",
    "\n",
    "#Initialize Sequential model\n",
    "model = tf.keras.models.Sequential()\n",
    "\n",
    "#Reshape data from 2D to 1D -> 28x28 to 784\n",
    "model.add(tf.keras.layers.Reshape((784,),input_shape=(28,28,)))\n",
    "\n",
    "#Normalize the data\n",
    "model.add(tf.keras.layers.BatchNormalization())"
   ]
  },
  {
   "cell_type": "markdown",
   "metadata": {
    "id": "imGSX5XjMd66"
   },
   "source": [
    "## Build the Graph\n",
    "We will build a model with 4 hidden layers. Number of neurons in hidden layer will be 200, 100, 60 and 30 respectively. Both number of hidden layers and number of neurons in each hidden layer are hyperparameters *i.e* you can change these values to improve the model. Output of each neuron in hidden layer will be passed through an activation function."
   ]
  },
  {
   "cell_type": "code",
   "execution_count": 38,
   "metadata": {
    "id": "Oj8TnaTxMd68"
   },
   "outputs": [],
   "source": [
    "#Add 1st hidden layer\n",
    "# 200 Nerurons\n",
    "model.add(tf.keras.layers.Dense(200, activation='relu'))\n",
    "model.add(tf.keras.layers.Dropout(0.4))"
   ]
  },
  {
   "cell_type": "code",
   "execution_count": 39,
   "metadata": {
    "id": "BQvERJeKMd7A"
   },
   "outputs": [],
   "source": [
    "#Add 2nd hidden layer\n",
    "# 100 Nerurons\n",
    "model.add(tf.keras.layers.Dense(100, activation='relu'))\n",
    "model.add(tf.keras.layers.BatchNormalization())"
   ]
  },
  {
   "cell_type": "code",
   "execution_count": 40,
   "metadata": {
    "id": "pwcz87-MMd7E"
   },
   "outputs": [],
   "source": [
    "#Add 3rd hidden layer\n",
    "# 60 Nerurons\n",
    "model.add(tf.keras.layers.Dense(60, activation='relu'))\n",
    "model.add(tf.keras.layers.BatchNormalization())"
   ]
  },
  {
   "cell_type": "code",
   "execution_count": 41,
   "metadata": {
    "id": "C4j9Cm1IMd7J"
   },
   "outputs": [],
   "source": [
    "#Add 4th hidden layer\n",
    "# 30 Nerurons\n",
    "model.add(tf.keras.layers.Dense(30, activation='relu'))\n",
    "model.add(tf.keras.layers.Dropout(0.3))"
   ]
  },
  {
   "cell_type": "code",
   "execution_count": 42,
   "metadata": {
    "id": "G05v_Zy9Md7Q"
   },
   "outputs": [],
   "source": [
    "#Add OUTPUT layer\n",
    "# 10 Neurons\n",
    "model.add(tf.keras.layers.Dense(10, activation='softmax'))"
   ]
  },
  {
   "cell_type": "markdown",
   "metadata": {
    "id": "pYNxSLydMd7U"
   },
   "source": [
    "## Build the Graph..."
   ]
  },
  {
   "cell_type": "code",
   "execution_count": 43,
   "metadata": {
    "id": "FJWmzZ2vMd7W"
   },
   "outputs": [],
   "source": [
    "#Compile the model\n",
    "sgd_optimizer = tf.keras.optimizers.SGD(lr=0.02, momentum=0.8, nesterov=True)\n",
    "model.compile(optimizer=sgd_optimizer, loss='categorical_crossentropy', \n",
    "              metrics=['accuracy'])"
   ]
  },
  {
   "cell_type": "markdown",
   "metadata": {
    "id": "gW7j_VfVMd7a"
   },
   "source": [
    "## Review model"
   ]
  },
  {
   "cell_type": "code",
   "execution_count": 44,
   "metadata": {
    "id": "ghrWVH2ZMd7b"
   },
   "outputs": [
    {
     "name": "stdout",
     "output_type": "stream",
     "text": [
      "Model: \"sequential\"\n",
      "_________________________________________________________________\n",
      "Layer (type)                 Output Shape              Param #   \n",
      "=================================================================\n",
      "reshape (Reshape)            (None, 784)               0         \n",
      "_________________________________________________________________\n",
      "batch_normalization (BatchNo (None, 784)               3136      \n",
      "_________________________________________________________________\n",
      "dense (Dense)                (None, 200)               157000    \n",
      "_________________________________________________________________\n",
      "dropout (Dropout)            (None, 200)               0         \n",
      "_________________________________________________________________\n",
      "dense_1 (Dense)              (None, 100)               20100     \n",
      "_________________________________________________________________\n",
      "batch_normalization_1 (Batch (None, 100)               400       \n",
      "_________________________________________________________________\n",
      "dense_2 (Dense)              (None, 60)                6060      \n",
      "_________________________________________________________________\n",
      "batch_normalization_2 (Batch (None, 60)                240       \n",
      "_________________________________________________________________\n",
      "dense_3 (Dense)              (None, 30)                1830      \n",
      "_________________________________________________________________\n",
      "dropout_1 (Dropout)          (None, 30)                0         \n",
      "_________________________________________________________________\n",
      "dense_4 (Dense)              (None, 10)                310       \n",
      "=================================================================\n",
      "Total params: 189,076\n",
      "Trainable params: 187,188\n",
      "Non-trainable params: 1,888\n",
      "_________________________________________________________________\n"
     ]
    }
   ],
   "source": [
    "model.summary()"
   ]
  },
  {
   "cell_type": "markdown",
   "metadata": {
    "id": "Lblu99B6Md7l"
   },
   "source": [
    "## Train the model"
   ]
  },
  {
   "cell_type": "code",
   "execution_count": 45,
   "metadata": {
    "id": "zwTNkQ54ageG"
   },
   "outputs": [],
   "source": [
    "# Store the model in mnist_v1.h5\n",
    "mckpt = tf.keras.callbacks.ModelCheckpoint('mnist_v1.h5', \n",
    "                                           monitor='val_accuracy', save_best_only=True, verbose=1)"
   ]
  },
  {
   "cell_type": "code",
   "execution_count": 47,
   "metadata": {
    "id": "HyDVYzwxMd7m"
   },
   "outputs": [
    {
     "name": "stdout",
     "output_type": "stream",
     "text": [
      "Epoch 1/40\n",
      "1864/1875 [============================>.] - ETA: 0s - loss: 0.3022 - accuracy: 0.9148\n",
      "Epoch 00001: val_accuracy improved from 0.95280 to 0.96090, saving model to mnist_v1.h5\n",
      "1875/1875 [==============================] - 10s 5ms/step - loss: 0.3019 - accuracy: 0.9150 - val_loss: 0.1634 - val_accuracy: 0.9609\n",
      "Epoch 2/40\n",
      "1865/1875 [============================>.] - ETA: 0s - loss: 0.2575 - accuracy: 0.9271\n",
      "Epoch 00002: val_accuracy improved from 0.96090 to 0.96350, saving model to mnist_v1.h5\n",
      "1875/1875 [==============================] - 9s 5ms/step - loss: 0.2571 - accuracy: 0.9272 - val_loss: 0.1604 - val_accuracy: 0.9635\n",
      "Epoch 3/40\n",
      "1873/1875 [============================>.] - ETA: 0s - loss: 0.2262 - accuracy: 0.9371\n",
      "Epoch 00003: val_accuracy improved from 0.96350 to 0.96710, saving model to mnist_v1.h5\n",
      "1875/1875 [==============================] - 9s 5ms/step - loss: 0.2262 - accuracy: 0.9371 - val_loss: 0.2154 - val_accuracy: 0.9671\n",
      "Epoch 4/40\n",
      "1870/1875 [============================>.] - ETA: 0s - loss: 0.2073 - accuracy: 0.9416\n",
      "Epoch 00004: val_accuracy improved from 0.96710 to 0.96920, saving model to mnist_v1.h5\n",
      "1875/1875 [==============================] - 10s 5ms/step - loss: 0.2073 - accuracy: 0.9416 - val_loss: 0.1461 - val_accuracy: 0.9692\n",
      "Epoch 5/40\n",
      "1865/1875 [============================>.] - ETA: 0s - loss: 0.1940 - accuracy: 0.9459\n",
      "Epoch 00005: val_accuracy improved from 0.96920 to 0.96940, saving model to mnist_v1.h5\n",
      "1875/1875 [==============================] - 9s 5ms/step - loss: 0.1938 - accuracy: 0.9460 - val_loss: 0.1491 - val_accuracy: 0.9694\n",
      "Epoch 6/40\n",
      "1869/1875 [============================>.] - ETA: 0s - loss: 0.1829 - accuracy: 0.9488\n",
      "Epoch 00006: val_accuracy improved from 0.96940 to 0.97000, saving model to mnist_v1.h5\n",
      "1875/1875 [==============================] - 13s 7ms/step - loss: 0.1829 - accuracy: 0.9488 - val_loss: 0.1393 - val_accuracy: 0.9700\n",
      "Epoch 7/40\n",
      "1873/1875 [============================>.] - ETA: 0s - loss: 0.1738 - accuracy: 0.9514\n",
      "Epoch 00007: val_accuracy improved from 0.97000 to 0.97270, saving model to mnist_v1.h5\n",
      "1875/1875 [==============================] - 10s 5ms/step - loss: 0.1739 - accuracy: 0.9514 - val_loss: 0.2103 - val_accuracy: 0.9727\n",
      "Epoch 8/40\n",
      "1875/1875 [==============================] - ETA: 0s - loss: 0.1679 - accuracy: 0.9538\n",
      "Epoch 00008: val_accuracy improved from 0.97270 to 0.97520, saving model to mnist_v1.h5\n",
      "1875/1875 [==============================] - 10s 5ms/step - loss: 0.1679 - accuracy: 0.9538 - val_loss: 0.1444 - val_accuracy: 0.9752\n",
      "Epoch 9/40\n",
      "1871/1875 [============================>.] - ETA: 0s - loss: 0.1552 - accuracy: 0.9561\n",
      "Epoch 00009: val_accuracy improved from 0.97520 to 0.97600, saving model to mnist_v1.h5\n",
      "1875/1875 [==============================] - 10s 5ms/step - loss: 0.1552 - accuracy: 0.9561 - val_loss: 0.1194 - val_accuracy: 0.9760\n",
      "Epoch 10/40\n",
      "1866/1875 [============================>.] - ETA: 0s - loss: 0.1540 - accuracy: 0.9578\n",
      "Epoch 00010: val_accuracy did not improve from 0.97600\n",
      "1875/1875 [==============================] - 10s 5ms/step - loss: 0.1538 - accuracy: 0.9578 - val_loss: 0.1284 - val_accuracy: 0.9743\n",
      "Epoch 11/40\n",
      "1870/1875 [============================>.] - ETA: 0s - loss: 0.1488 - accuracy: 0.9583\n",
      "Epoch 00011: val_accuracy did not improve from 0.97600\n",
      "1875/1875 [==============================] - 10s 5ms/step - loss: 0.1488 - accuracy: 0.9584 - val_loss: 0.1107 - val_accuracy: 0.9757\n",
      "Epoch 12/40\n",
      "1870/1875 [============================>.] - ETA: 0s - loss: 0.1432 - accuracy: 0.9600\n",
      "Epoch 00012: val_accuracy did not improve from 0.97600\n",
      "1875/1875 [==============================] - 9s 5ms/step - loss: 0.1433 - accuracy: 0.9600 - val_loss: 0.1869 - val_accuracy: 0.9755\n",
      "Epoch 13/40\n",
      "1869/1875 [============================>.] - ETA: 0s - loss: 0.1365 - accuracy: 0.9619\n",
      "Epoch 00013: val_accuracy did not improve from 0.97600\n",
      "1875/1875 [==============================] - 9s 5ms/step - loss: 0.1367 - accuracy: 0.9618 - val_loss: 0.2482 - val_accuracy: 0.9753\n",
      "Epoch 14/40\n",
      "1869/1875 [============================>.] - ETA: 0s - loss: 0.1365 - accuracy: 0.9613\n",
      "Epoch 00014: val_accuracy improved from 0.97600 to 0.97760, saving model to mnist_v1.h5\n",
      "1875/1875 [==============================] - 10s 5ms/step - loss: 0.1361 - accuracy: 0.9614 - val_loss: 0.1207 - val_accuracy: 0.9776\n",
      "Epoch 15/40\n",
      "1875/1875 [==============================] - ETA: 0s - loss: 0.1300 - accuracy: 0.9638\n",
      "Epoch 00015: val_accuracy did not improve from 0.97760\n",
      "1875/1875 [==============================] - 10s 5ms/step - loss: 0.1300 - accuracy: 0.9638 - val_loss: 0.1575 - val_accuracy: 0.9770\n",
      "Epoch 16/40\n",
      "1875/1875 [==============================] - ETA: 0s - loss: 0.1258 - accuracy: 0.9647\n",
      "Epoch 00016: val_accuracy did not improve from 0.97760\n",
      "1875/1875 [==============================] - 9s 5ms/step - loss: 0.1258 - accuracy: 0.9647 - val_loss: 0.1404 - val_accuracy: 0.9773\n",
      "Epoch 17/40\n",
      "1875/1875 [==============================] - ETA: 0s - loss: 0.1243 - accuracy: 0.9650\n",
      "Epoch 00017: val_accuracy did not improve from 0.97760\n",
      "1875/1875 [==============================] - 9s 5ms/step - loss: 0.1243 - accuracy: 0.9650 - val_loss: 0.1533 - val_accuracy: 0.9775\n",
      "Epoch 18/40\n",
      "1867/1875 [============================>.] - ETA: 0s - loss: 0.1201 - accuracy: 0.9659\n",
      "Epoch 00018: val_accuracy improved from 0.97760 to 0.97800, saving model to mnist_v1.h5\n",
      "1875/1875 [==============================] - 9s 5ms/step - loss: 0.1202 - accuracy: 0.9659 - val_loss: 0.1224 - val_accuracy: 0.9780\n",
      "Epoch 19/40\n",
      "1865/1875 [============================>.] - ETA: 0s - loss: 0.1229 - accuracy: 0.9656\n",
      "Epoch 00019: val_accuracy did not improve from 0.97800\n",
      "1875/1875 [==============================] - 10s 5ms/step - loss: 0.1228 - accuracy: 0.9656 - val_loss: 0.1695 - val_accuracy: 0.9775\n",
      "Epoch 20/40\n",
      "1871/1875 [============================>.] - ETA: 0s - loss: 0.1179 - accuracy: 0.9672\n",
      "Epoch 00020: val_accuracy did not improve from 0.97800\n",
      "1875/1875 [==============================] - 9s 5ms/step - loss: 0.1180 - accuracy: 0.9672 - val_loss: 0.1964 - val_accuracy: 0.9779\n",
      "Epoch 21/40\n",
      "1873/1875 [============================>.] - ETA: 0s - loss: 0.1175 - accuracy: 0.9671\n",
      "Epoch 00021: val_accuracy improved from 0.97800 to 0.97920, saving model to mnist_v1.h5\n",
      "1875/1875 [==============================] - 9s 5ms/step - loss: 0.1174 - accuracy: 0.9671 - val_loss: 0.1326 - val_accuracy: 0.9792\n",
      "Epoch 22/40\n",
      "1872/1875 [============================>.] - ETA: 0s - loss: 0.1099 - accuracy: 0.9688\n",
      "Epoch 00022: val_accuracy did not improve from 0.97920\n",
      "1875/1875 [==============================] - 9s 5ms/step - loss: 0.1100 - accuracy: 0.9688 - val_loss: 0.1351 - val_accuracy: 0.9780\n",
      "Epoch 23/40\n",
      "1869/1875 [============================>.] - ETA: 0s - loss: 0.1132 - accuracy: 0.9683\n",
      "Epoch 00023: val_accuracy did not improve from 0.97920\n",
      "1875/1875 [==============================] - 10s 6ms/step - loss: 0.1132 - accuracy: 0.9683 - val_loss: 0.2119 - val_accuracy: 0.9771\n",
      "Epoch 24/40\n",
      "1871/1875 [============================>.] - ETA: 0s - loss: 0.1098 - accuracy: 0.9687\n",
      "Epoch 00024: val_accuracy did not improve from 0.97920\n",
      "1875/1875 [==============================] - 10s 5ms/step - loss: 0.1098 - accuracy: 0.9688 - val_loss: 0.2044 - val_accuracy: 0.9780\n",
      "Epoch 25/40\n",
      "1869/1875 [============================>.] - ETA: 0s - loss: 0.1050 - accuracy: 0.9707\n",
      "Epoch 00025: val_accuracy did not improve from 0.97920\n",
      "1875/1875 [==============================] - 9s 5ms/step - loss: 0.1051 - accuracy: 0.9707 - val_loss: 0.1249 - val_accuracy: 0.9792\n",
      "Epoch 26/40\n",
      "1868/1875 [============================>.] - ETA: 0s - loss: 0.1060 - accuracy: 0.9696\n",
      "Epoch 00026: val_accuracy did not improve from 0.97920\n",
      "1875/1875 [==============================] - 9s 5ms/step - loss: 0.1060 - accuracy: 0.9696 - val_loss: 0.1671 - val_accuracy: 0.9787\n",
      "Epoch 27/40\n",
      "1870/1875 [============================>.] - ETA: 0s - loss: 0.1055 - accuracy: 0.9701\n",
      "Epoch 00027: val_accuracy did not improve from 0.97920\n",
      "1875/1875 [==============================] - 10s 5ms/step - loss: 0.1054 - accuracy: 0.9701 - val_loss: 0.1699 - val_accuracy: 0.9791\n",
      "Epoch 28/40\n"
     ]
    },
    {
     "name": "stdout",
     "output_type": "stream",
     "text": [
      "1874/1875 [============================>.] - ETA: 0s - loss: 0.1027 - accuracy: 0.9711\n",
      "Epoch 00028: val_accuracy improved from 0.97920 to 0.97980, saving model to mnist_v1.h5\n",
      "1875/1875 [==============================] - 9s 5ms/step - loss: 0.1026 - accuracy: 0.9711 - val_loss: 0.1437 - val_accuracy: 0.9798\n",
      "Epoch 29/40\n",
      "1874/1875 [============================>.] - ETA: 0s - loss: 0.1034 - accuracy: 0.9712\n",
      "Epoch 00029: val_accuracy improved from 0.97980 to 0.98010, saving model to mnist_v1.h5\n",
      "1875/1875 [==============================] - 9s 5ms/step - loss: 0.1034 - accuracy: 0.9711 - val_loss: 0.1379 - val_accuracy: 0.9801\n",
      "Epoch 30/40\n",
      "1875/1875 [==============================] - ETA: 0s - loss: 0.0979 - accuracy: 0.9722\n",
      "Epoch 00030: val_accuracy did not improve from 0.98010\n",
      "1875/1875 [==============================] - 9s 5ms/step - loss: 0.0979 - accuracy: 0.9722 - val_loss: 0.1125 - val_accuracy: 0.9785\n",
      "Epoch 31/40\n",
      "1870/1875 [============================>.] - ETA: 0s - loss: 0.0994 - accuracy: 0.9715\n",
      "Epoch 00031: val_accuracy did not improve from 0.98010\n",
      "1875/1875 [==============================] - 9s 5ms/step - loss: 0.0994 - accuracy: 0.9715 - val_loss: 0.2108 - val_accuracy: 0.9778\n",
      "Epoch 32/40\n",
      "1865/1875 [============================>.] - ETA: 0s - loss: 0.0996 - accuracy: 0.9725\n",
      "Epoch 00032: val_accuracy did not improve from 0.98010\n",
      "1875/1875 [==============================] - 9s 5ms/step - loss: 0.0994 - accuracy: 0.9726 - val_loss: 0.1721 - val_accuracy: 0.9780\n",
      "Epoch 33/40\n",
      "1867/1875 [============================>.] - ETA: 0s - loss: 0.0949 - accuracy: 0.9727\n",
      "Epoch 00033: val_accuracy did not improve from 0.98010\n",
      "1875/1875 [==============================] - 9s 5ms/step - loss: 0.0950 - accuracy: 0.9727 - val_loss: 0.1630 - val_accuracy: 0.9784\n",
      "Epoch 34/40\n",
      "1870/1875 [============================>.] - ETA: 0s - loss: 0.0972 - accuracy: 0.9728 ETA: \n",
      "Epoch 00034: val_accuracy did not improve from 0.98010\n",
      "1875/1875 [==============================] - 9s 5ms/step - loss: 0.0972 - accuracy: 0.9728 - val_loss: 0.1387 - val_accuracy: 0.9795\n",
      "Epoch 35/40\n",
      "1868/1875 [============================>.] - ETA: 0s - loss: 0.0948 - accuracy: 0.9736\n",
      "Epoch 00035: val_accuracy did not improve from 0.98010\n",
      "1875/1875 [==============================] - 9s 5ms/step - loss: 0.0948 - accuracy: 0.9736 - val_loss: 0.1893 - val_accuracy: 0.9788\n",
      "Epoch 36/40\n",
      "1867/1875 [============================>.] - ETA: 0s - loss: 0.0920 - accuracy: 0.9738\n",
      "Epoch 00036: val_accuracy did not improve from 0.98010\n",
      "1875/1875 [==============================] - 9s 5ms/step - loss: 0.0923 - accuracy: 0.9737 - val_loss: 0.1509 - val_accuracy: 0.9799\n",
      "Epoch 37/40\n",
      "1875/1875 [==============================] - ETA: 0s - loss: 0.0956 - accuracy: 0.9731\n",
      "Epoch 00037: val_accuracy did not improve from 0.98010\n",
      "1875/1875 [==============================] - 10s 5ms/step - loss: 0.0956 - accuracy: 0.9731 - val_loss: 0.1795 - val_accuracy: 0.9787\n",
      "Epoch 38/40\n",
      "1875/1875 [==============================] - ETA: 0s - loss: 0.0913 - accuracy: 0.9740\n",
      "Epoch 00038: val_accuracy did not improve from 0.98010\n",
      "1875/1875 [==============================] - 9s 5ms/step - loss: 0.0913 - accuracy: 0.9740 - val_loss: 0.1757 - val_accuracy: 0.9789\n",
      "Epoch 39/40\n",
      "1873/1875 [============================>.] - ETA: 0s - loss: 0.0926 - accuracy: 0.9745\n",
      "Epoch 00039: val_accuracy did not improve from 0.98010\n",
      "1875/1875 [==============================] - 9s 5ms/step - loss: 0.0925 - accuracy: 0.9745 - val_loss: 0.1852 - val_accuracy: 0.9785\n",
      "Epoch 40/40\n",
      "1866/1875 [============================>.] - ETA: 0s - loss: 0.0913 - accuracy: 0.9739\n",
      "Epoch 00040: val_accuracy did not improve from 0.98010\n",
      "1875/1875 [==============================] - 9s 5ms/step - loss: 0.0917 - accuracy: 0.9739 - val_loss: 0.1999 - val_accuracy: 0.9794\n"
     ]
    },
    {
     "data": {
      "text/plain": [
       "<tensorflow.python.keras.callbacks.History at 0x25f96b6e6c8>"
      ]
     },
     "execution_count": 47,
     "metadata": {},
     "output_type": "execute_result"
    }
   ],
   "source": [
    "model.fit(trainX,trainY,          \n",
    "          validation_data=(testX,testY),\n",
    "          epochs=40,\n",
    "          batch_size=32, \n",
    "          callbacks = [mckpt])\n",
    "# Using batch for low memory or have lager number of inputs (10000000)\n",
    "# batch size should not be tooo low."
   ]
  },
  {
   "cell_type": "code",
   "execution_count": 48,
   "metadata": {
    "id": "HfGTgJZJsdW5"
   },
   "outputs": [],
   "source": [
    "model.save('mnist_sgd_nm.h5')\n",
    "# Saving model. Model has adjusted weights and bias with model structure."
   ]
  },
  {
   "cell_type": "code",
   "execution_count": 50,
   "metadata": {
    "id": "dOGHduKLvbSu"
   },
   "outputs": [],
   "source": [
    "model = tf.keras.models.load_model('mnist_v1.h5')"
   ]
  },
  {
   "cell_type": "code",
   "execution_count": 51,
   "metadata": {
    "id": "oUPT_52NvmAN"
   },
   "outputs": [],
   "source": [
    "tf.keras.models.save_model(model, 'mnist_v2.h5', include_optimizer=False)"
   ]
  },
  {
   "cell_type": "code",
   "execution_count": 53,
   "metadata": {
    "id": "kPwIv_oUtXO1"
   },
   "outputs": [
    {
     "data": {
      "text/plain": [
       "2268912"
      ]
     },
     "execution_count": 53,
     "metadata": {},
     "output_type": "execute_result"
    }
   ],
   "source": [
    "189076*4*3"
   ]
  },
  {
   "cell_type": "code",
   "execution_count": 94,
   "metadata": {
    "id": "s-feQ0uRECs9"
   },
   "outputs": [
    {
     "data": {
      "text/plain": [
       "784"
      ]
     },
     "execution_count": 94,
     "metadata": {},
     "output_type": "execute_result"
    }
   ],
   "source": [
    "len(model.get_weights()[0])"
   ]
  },
  {
   "cell_type": "code",
   "execution_count": 98,
   "metadata": {},
   "outputs": [
    {
     "data": {
      "text/plain": [
       "768.0169150233269"
      ]
     },
     "execution_count": 98,
     "metadata": {},
     "output_type": "execute_result"
    }
   ],
   "source": [
    "sum(model.get_weights()[0])"
   ]
  },
  {
   "cell_type": "code",
   "execution_count": 62,
   "metadata": {},
   "outputs": [
    {
     "data": {
      "text/plain": [
       "[array([1.        , 1.        , 1.        , 1.        , 1.        ,\n",
       "        1.        , 1.        , 1.        , 1.        , 1.        ,\n",
       "        1.        , 1.        , 0.99638355, 1.0018789 , 0.99905705,\n",
       "        1.0002233 , 1.        , 1.        , 1.        , 1.        ,\n",
       "        1.        , 1.        , 1.        , 1.        , 1.        ,\n",
       "        1.        , 1.        , 1.        , 1.        , 1.        ,\n",
       "        1.        , 1.        , 0.9994614 , 1.0004623 , 1.0058125 ,\n",
       "        1.0089374 , 0.9884647 , 1.0060672 , 0.99892133, 1.0010065 ,\n",
       "        1.0242969 , 0.9928925 , 1.0354102 , 1.0629761 , 1.0126883 ,\n",
       "        1.0289841 , 0.99172884, 1.0069382 , 1.0007396 , 0.9968633 ,\n",
       "        1.0036259 , 1.0019397 , 1.        , 1.        , 1.        ,\n",
       "        1.        , 1.        , 1.        , 1.0006298 , 1.0060841 ,\n",
       "        1.0028188 , 1.0032953 , 1.010071  , 0.987432  , 1.0921429 ,\n",
       "        1.0849533 , 1.055189  , 1.0631005 , 1.0059955 , 0.90569216,\n",
       "        1.0880271 , 1.0295091 , 1.03358   , 0.97077155, 1.0121281 ,\n",
       "        1.0341126 , 1.0771015 , 1.0195408 , 1.0255078 , 1.0176271 ,\n",
       "        0.98673534, 1.0046433 , 1.        , 1.        , 1.        ,\n",
       "        1.        , 1.0092975 , 1.0023843 , 1.0212582 , 1.0097475 ,\n",
       "        0.99916404, 1.0926366 , 1.1507411 , 1.0227659 , 0.92506266,\n",
       "        0.9665289 , 0.9077654 , 1.121007  , 0.95011085, 0.90557003,\n",
       "        0.8567467 , 0.81005806, 0.8914278 , 0.91696316, 0.78096616,\n",
       "        0.8761528 , 0.9744906 , 1.0708109 , 1.0506163 , 0.98316103,\n",
       "        0.9939771 , 1.        , 1.        , 0.999807  , 1.0094618 ,\n",
       "        1.0064948 , 1.0181463 , 0.9985319 , 0.9481368 , 0.984783  ,\n",
       "        0.9143248 , 0.8252014 , 0.8055306 , 0.86130714, 0.9386332 ,\n",
       "        0.8588838 , 0.8942315 , 0.8253198 , 0.86824006, 0.8199662 ,\n",
       "        0.7779907 , 0.6893544 , 0.75085044, 0.68643355, 0.6628729 ,\n",
       "        0.90659726, 0.9746128 , 1.1363554 , 1.0366126 , 1.0110309 ,\n",
       "        1.        , 1.        , 1.0152867 , 1.0407305 , 1.031623  ,\n",
       "        0.98635966, 0.886444  , 0.7938409 , 0.85828894, 0.80625266,\n",
       "        0.90240955, 0.9288358 , 0.8988231 , 1.0377024 , 1.0619375 ,\n",
       "        1.0564945 , 0.9727417 , 1.0180597 , 1.0104454 , 0.8708944 ,\n",
       "        0.85064673, 0.76492536, 0.7371392 , 0.77416396, 0.8778169 ,\n",
       "        1.0311749 , 1.0188776 , 0.9971826 , 1.        , 0.9986153 ,\n",
       "        1.0005538 , 1.0575554 , 0.9284371 , 0.9738942 , 0.82047135,\n",
       "        0.7903961 , 0.81596863, 1.02397   , 0.98531336, 0.97146577,\n",
       "        0.98001254, 1.1947328 , 1.1593459 , 1.0890796 , 1.1489613 ,\n",
       "        0.9544347 , 1.0275894 , 0.9670194 , 0.9863418 , 0.80142874,\n",
       "        0.8060756 , 0.8524806 , 0.87055457, 0.9806332 , 1.0010197 ,\n",
       "        1.0120745 , 1.000878  , 0.9895323 , 0.99903286, 0.99280936,\n",
       "        0.9121758 , 0.7575377 , 0.78873503, 0.7968617 , 0.81972927,\n",
       "        0.87030494, 1.0622549 , 0.95715004, 0.98971134, 1.1940662 ,\n",
       "        1.0962204 , 1.0707518 , 1.1081936 , 1.045242  , 1.1213197 ,\n",
       "        1.1167442 , 1.0186315 , 0.8990523 , 0.90183896, 0.8390255 ,\n",
       "        0.88766116, 0.86756325, 1.0037857 , 1.0169135 , 1.0171151 ,\n",
       "        0.99912786, 1.0056411 , 0.96680194, 0.9155491 , 0.7844675 ,\n",
       "        0.5761839 , 0.7195227 , 0.8608577 , 0.97073215, 0.88626987,\n",
       "        1.1185381 , 1.1807945 , 1.1269618 , 1.1180301 , 1.1488138 ,\n",
       "        1.1451297 , 0.9756016 , 0.96536505, 1.0840365 , 1.0117258 ,\n",
       "        0.8453961 , 0.85021245, 0.8664809 , 0.8930604 , 0.9648024 ,\n",
       "        0.9935223 , 0.9941231 , 0.9989051 , 1.0117285 , 1.0100085 ,\n",
       "        0.9611841 , 0.852288  , 0.7450639 , 0.75159997, 0.7991695 ,\n",
       "        0.86977893, 0.85305315, 0.8829929 , 1.0781267 , 1.0762895 ,\n",
       "        1.125899  , 1.329838  , 1.272882  , 1.2972013 , 1.1621405 ,\n",
       "        1.1137916 , 1.1239506 , 1.0292994 , 0.89672285, 0.9401894 ,\n",
       "        0.8789883 , 0.85290706, 1.0052913 , 1.0901763 , 1.0314981 ,\n",
       "        0.9982241 , 0.9993779 , 0.9693659 , 1.0383731 , 0.87915653,\n",
       "        0.76676685, 0.8900762 , 0.91775054, 1.146917  , 1.1821486 ,\n",
       "        1.1920927 , 1.2028857 , 1.2475961 , 1.3237234 , 1.387507  ,\n",
       "        1.0855144 , 1.1777506 , 1.2283634 , 1.2097802 , 1.1806929 ,\n",
       "        1.2206005 , 1.0750009 , 1.0708325 , 0.93534464, 0.89857167,\n",
       "        0.9638249 , 0.97729415, 1.0468181 , 0.9974842 , 1.0502257 ,\n",
       "        1.0369871 , 0.9760966 , 0.81140524, 0.7388686 , 0.86307895,\n",
       "        0.9852837 , 1.0693407 , 1.2806402 , 1.0408895 , 1.212601  ,\n",
       "        1.2759511 , 1.2276386 , 1.1622785 , 1.1431599 , 1.0731149 ,\n",
       "        1.2522924 , 1.1834993 , 1.0777797 , 1.135406  , 0.9918416 ,\n",
       "        1.0946518 , 1.0502076 , 1.0722729 , 1.039786  , 1.0985327 ,\n",
       "        0.9935243 , 0.9996834 , 0.99938256, 1.0484052 , 0.9706925 ,\n",
       "        0.8452854 , 0.7921522 , 0.8901    , 1.061852  , 1.2181989 ,\n",
       "        1.2394683 , 1.2081909 , 1.229435  , 1.2050937 , 1.2323513 ,\n",
       "        1.3178384 , 1.19217   , 1.158064  , 1.0112284 , 1.0154619 ,\n",
       "        1.1311921 , 1.0099941 , 1.0379924 , 1.0457057 , 0.970542  ,\n",
       "        1.0331448 , 1.026383  , 1.0505527 , 1.0294522 , 0.9993285 ,\n",
       "        1.004928  , 1.013478  , 0.9534821 , 1.0296929 , 0.94355494,\n",
       "        1.0441016 , 1.2272384 , 1.1468738 , 1.101534  , 1.2272457 ,\n",
       "        1.0313964 , 1.2922549 , 1.1538779 , 1.1053723 , 1.0662979 ,\n",
       "        1.1462259 , 0.86734474, 0.73220754, 0.93705165, 0.94494593,\n",
       "        1.0434022 , 1.0277342 , 0.9470962 , 1.0405756 , 1.0649203 ,\n",
       "        1.14172   , 1.0018626 , 1.0003029 , 1.008968  , 1.0239457 ,\n",
       "        1.0199891 , 0.9080409 , 1.0358516 , 1.1707848 , 1.2588794 ,\n",
       "        1.1578238 , 1.0889473 , 1.0017854 , 1.1380156 , 1.0000226 ,\n",
       "        1.1335398 , 1.0990736 , 0.78043246, 1.0403323 , 0.96388817,\n",
       "        0.90418315, 1.0548327 , 0.9499737 , 0.9745939 , 1.0749581 ,\n",
       "        0.87025154, 0.91717166, 1.0219332 , 0.9933508 , 1.003634  ,\n",
       "        1.0010564 , 0.99746263, 0.98503923, 0.99953824, 0.9382456 ,\n",
       "        0.9487851 , 0.90422785, 1.0129777 , 1.2142867 , 1.1693553 ,\n",
       "        1.1447053 , 0.9568267 , 0.95948297, 1.1541353 , 1.1445243 ,\n",
       "        0.97117865, 0.9382612 , 1.0033749 , 0.81771183, 0.9974941 ,\n",
       "        0.97851884, 1.0163503 , 0.81597483, 0.89401793, 0.84182787,\n",
       "        1.0175971 , 1.0864877 , 0.9977952 , 0.9993961 , 0.99666756,\n",
       "        1.0294152 , 0.99831754, 0.9025477 , 0.9451052 , 0.974468  ,\n",
       "        1.164464  , 1.2234768 , 1.1265348 , 1.1608294 , 1.2784995 ,\n",
       "        1.1724888 , 1.0005059 , 1.0567967 , 1.0615709 , 0.9239633 ,\n",
       "        1.013972  , 0.97095615, 0.9037538 , 0.99505424, 0.97869045,\n",
       "        0.81968087, 0.7866952 , 0.76585513, 1.2034917 , 1.1433709 ,\n",
       "        1.0160501 , 1.        , 0.9946004 , 1.018461  , 0.9414092 ,\n",
       "        0.7942836 , 0.92361075, 1.1369778 , 1.0825886 , 1.2078393 ,\n",
       "        1.2901165 , 1.3261348 , 1.0764982 , 1.1550324 , 1.1026583 ,\n",
       "        0.9486065 , 0.9563166 , 0.9814088 , 0.95645565, 1.0021706 ,\n",
       "        0.9033189 , 0.7859289 , 0.880231  , 0.74931884, 0.74976796,\n",
       "        0.8287742 , 1.0679944 , 1.0319473 , 1.0426521 , 0.9995808 ,\n",
       "        0.9967302 , 0.98504215, 0.9892731 , 0.8145097 , 0.9916754 ,\n",
       "        1.0654354 , 1.0468888 , 1.2100782 , 1.2600677 , 1.1632568 ,\n",
       "        1.2515985 , 1.305082  , 1.0791842 , 1.009482  , 1.0001776 ,\n",
       "        0.93864113, 0.8424138 , 0.8009556 , 0.8471269 , 0.80482376,\n",
       "        0.8649896 , 0.77371645, 0.8125039 , 0.9120933 , 1.0778157 ,\n",
       "        1.0235283 , 0.9978431 , 0.9993789 , 1.0350925 , 1.0072978 ,\n",
       "        0.93998146, 0.7562976 , 0.88049096, 0.94335663, 0.96404374,\n",
       "        1.1398556 , 1.0658696 , 1.180777  , 1.24904   , 1.3413006 ,\n",
       "        1.142185  , 1.0972247 , 1.0640439 , 0.9829116 , 0.90166897,\n",
       "        0.85194474, 0.89294964, 0.937417  , 0.8197271 , 0.95355755,\n",
       "        0.758376  , 0.8995406 , 0.99699795, 1.0012941 , 1.0055285 ,\n",
       "        1.        , 0.9967851 , 1.0129038 , 0.97873265, 0.8288155 ,\n",
       "        0.7894616 , 0.9190992 , 0.95493525, 0.91580695, 1.0478686 ,\n",
       "        1.0306946 , 1.0655651 , 1.1250674 , 0.90855604, 0.8947984 ,\n",
       "        0.9214434 , 0.9497882 , 1.0047634 , 0.92428565, 0.8814613 ,\n",
       "        0.96368617, 0.83504415, 0.7107481 , 0.7992637 , 0.8421533 ,\n",
       "        1.0158594 , 1.0028435 , 1.0003245 , 1.0000503 , 0.99957377,\n",
       "        0.9853474 , 0.9507041 , 0.74661535, 0.75562376, 0.81635714,\n",
       "        0.920537  , 0.9574561 , 0.90796447, 0.7577116 , 0.9201433 ,\n",
       "        0.85153145, 0.8537705 , 1.0052869 , 0.92299956, 0.8068548 ,\n",
       "        1.0483859 , 0.94292414, 0.9219385 , 0.8246741 , 0.6318696 ,\n",
       "        0.6699028 , 0.89554226, 1.0472249 , 1.0363836 , 1.0206268 ,\n",
       "        1.000155  , 1.0001142 , 1.0002736 , 1.0136577 , 0.9637405 ,\n",
       "        0.86504227, 0.77575684, 0.8168116 , 0.81769836, 0.8989819 ,\n",
       "        0.85392797, 0.8053885 , 0.9254794 , 0.8455955 , 0.81261975,\n",
       "        0.88359666, 0.8470341 , 0.8663944 , 0.8575527 , 0.85029286,\n",
       "        0.7691263 , 0.659262  , 0.75275326, 0.71732885, 0.9898499 ,\n",
       "        1.0173836 , 1.0052    , 1.049201  , 0.99984914, 1.        ,\n",
       "        1.        , 1.010518  , 1.0319993 , 0.96505636, 0.74606645,\n",
       "        0.61750406, 0.74804467, 0.7592042 , 0.75616825, 0.8576662 ,\n",
       "        0.86044914, 0.85506034, 0.92008245, 0.9093342 , 0.8697162 ,\n",
       "        0.9296221 , 0.89722586, 0.8997904 , 0.7232368 , 0.6210066 ,\n",
       "        0.68789476, 0.76412195, 1.0770139 , 1.0763948 , 1.0035325 ,\n",
       "        1.0070859 , 1.        , 1.        , 1.        , 1.0032583 ,\n",
       "        1.0269146 , 1.1385067 , 0.97021633, 0.9228978 , 0.75760555,\n",
       "        0.6161811 , 0.8396978 , 0.8057306 , 0.75199604, 0.8674487 ,\n",
       "        0.8086364 , 0.83072394, 0.77666026, 0.67370015, 0.71865106,\n",
       "        0.6963504 , 0.7077631 , 0.8031839 , 0.8573261 , 0.937931  ,\n",
       "        1.019372  , 1.0696055 , 1.0022858 , 0.99146974, 1.        ,\n",
       "        1.        , 1.        , 0.9966868 , 1.0077013 , 1.0009686 ,\n",
       "        1.0156826 , 0.9439992 , 0.9440477 , 0.75533336, 0.91088027,\n",
       "        0.8563313 , 0.78964424, 0.8396337 , 0.80653876, 0.751231  ,\n",
       "        0.7752868 , 0.74404836, 0.80061305, 0.8149021 , 0.92717344,\n",
       "        0.9357724 , 1.0294647 , 1.0576918 , 1.0480003 , 1.0274513 ,\n",
       "        0.99972564, 1.0081569 , 1.        , 1.        , 1.        ,\n",
       "        1.        , 0.99791235, 0.9873356 , 1.0546787 , 1.0536748 ,\n",
       "        1.0539194 , 1.0435177 , 0.99970084, 0.9086622 , 0.82826537,\n",
       "        0.8746896 , 0.94650215, 0.91877514, 1.0046726 , 0.8779979 ,\n",
       "        0.99204963, 1.0040905 , 0.9878619 , 1.2062315 , 1.0891589 ,\n",
       "        1.0192789 , 1.0016358 , 1.0030868 , 1.0003086 , 1.        ,\n",
       "        1.        , 1.        , 1.        , 1.        , 1.        ,\n",
       "        1.002282  , 1.0010902 , 0.9991261 , 0.99485564, 0.9848235 ,\n",
       "        1.0116013 , 1.032759  , 1.0333064 , 0.98257864, 0.99263036,\n",
       "        1.0378765 , 0.9997705 , 1.0081872 , 1.009186  , 1.0108051 ,\n",
       "        1.0196472 , 1.0018663 , 1.0131648 , 1.0288888 , 1.0100452 ,\n",
       "        1.        , 1.        , 1.        , 1.        ], dtype=float32),\n",
       " array([-9.05822292e-02,  8.98612216e-02,  2.23332513e-02,  1.10233188e-01,\n",
       "         7.60271922e-02, -1.07458048e-01,  1.60550755e-02, -7.78971659e-03,\n",
       "         7.40633830e-02, -7.64114633e-02,  9.29088145e-02, -1.97922051e-01,\n",
       "         1.38410076e-01, -1.41856864e-01, -3.79131526e-01, -1.25343859e-01,\n",
       "         1.03151776e-01, -1.97398052e-01,  1.17679819e-01, -4.13632274e-01,\n",
       "         1.80806026e-01,  1.19049788e-01, -1.37192190e-01,  7.18793366e-03,\n",
       "         1.81728115e-04, -9.95702520e-02, -1.77102491e-01, -9.40618590e-02,\n",
       "        -6.67956844e-02,  2.45388016e-01, -2.50845969e-01,  2.72180259e-01,\n",
       "        -8.81883316e-03,  1.98338822e-01,  4.38398235e-02,  1.80207714e-01,\n",
       "        -1.24271974e-01, -1.09748267e-01,  8.28452222e-03,  3.06518171e-02,\n",
       "         1.75025895e-01,  1.63559213e-01, -1.23667873e-01,  3.33478525e-02,\n",
       "        -1.25173509e-01,  3.79130878e-02, -1.56276837e-01, -6.52768910e-02,\n",
       "         1.19226649e-01, -3.11625097e-03, -2.40379333e-01,  4.50564399e-02,\n",
       "        -1.58284366e-01,  1.20019905e-01,  1.01379484e-01,  8.46103504e-02,\n",
       "         4.85542566e-01,  2.49889463e-01,  1.42472520e-01,  4.56906706e-01,\n",
       "         2.51202155e-02, -2.91997399e-02, -2.91459486e-02, -3.29846293e-01,\n",
       "         9.33252797e-02, -1.16675764e-01,  2.41763994e-01,  6.56143669e-03,\n",
       "        -2.20074818e-01, -3.18936110e-01,  1.52738154e-01, -2.15562463e-01,\n",
       "         7.21210167e-02,  2.92841811e-02,  1.48019157e-02, -1.48136899e-01,\n",
       "         6.72231615e-02,  1.32638946e-01, -1.92336068e-02,  1.19866341e-01,\n",
       "        -6.92231907e-03, -1.53158635e-01,  9.77099687e-02, -1.73586711e-01,\n",
       "        -1.69291615e-01, -1.52878121e-01,  1.09010063e-01,  1.00029245e-01,\n",
       "        -1.82243392e-01, -2.43327916e-01,  6.12121038e-02, -4.33717705e-02,\n",
       "         1.71087876e-01,  1.54558927e-01,  4.10360754e-01,  1.44669143e-02,\n",
       "        -1.09006092e-01,  3.47552121e-01,  2.12532561e-02,  5.12907133e-02,\n",
       "        -4.88818474e-02, -2.70784587e-01,  3.07961762e-01, -2.70848791e-03,\n",
       "        -2.49889828e-02,  1.90819114e-01, -7.95390606e-02,  1.91951826e-01,\n",
       "         4.15793538e-01, -5.00147976e-02, -1.88407734e-01,  1.05679572e-01,\n",
       "         1.73918128e-01, -2.02982068e-01,  8.29319283e-02,  8.81558582e-02,\n",
       "        -1.92190319e-01,  2.08580256e-01, -2.00123847e-01, -5.98729588e-02,\n",
       "         2.12347642e-01,  2.11960271e-01,  1.53401479e-01,  1.17028318e-01,\n",
       "         1.67597711e-01,  1.14070550e-01,  8.68776217e-02, -2.44289771e-01,\n",
       "        -1.27458349e-01, -6.53214604e-02, -8.57473016e-02, -2.50083338e-02,\n",
       "         1.65498346e-01,  1.82665423e-01,  4.44514185e-01,  2.79609799e-01,\n",
       "        -5.84397092e-03,  8.64217579e-02, -1.21972166e-01, -2.24467680e-01,\n",
       "        -5.15261106e-02, -2.27154046e-01,  1.32673785e-01,  8.19132626e-02,\n",
       "         3.15550536e-01, -1.46874100e-01,  6.98156878e-02,  9.81159061e-02,\n",
       "         1.69004157e-01,  6.82773516e-02,  1.17678814e-01,  1.62414595e-01,\n",
       "         2.76524395e-01, -6.03618100e-02,  2.87244797e-01,  1.33438885e-01,\n",
       "        -1.15443468e-02, -1.24769360e-01,  8.59294534e-02, -8.65336731e-02,\n",
       "         2.77016103e-01, -1.57592565e-01, -4.69320044e-02, -4.62712422e-02,\n",
       "         2.44504228e-01,  2.47388169e-01,  2.21800834e-01,  2.69909322e-01,\n",
       "         2.38578245e-01,  1.13131173e-01, -3.22868586e-01, -1.46673188e-01,\n",
       "         2.16110960e-01,  8.42195749e-02,  7.12892264e-02,  4.98462059e-02,\n",
       "         2.30809912e-01,  1.03119485e-01, -6.60116225e-02,  2.27546096e-01,\n",
       "         2.12539777e-01,  2.06245050e-01,  7.72540197e-02,  3.25172246e-01,\n",
       "         3.01791102e-01,  3.21567096e-02, -2.49488838e-02,  2.37897202e-01,\n",
       "         4.16586727e-01,  8.48279819e-02,  1.21110752e-01,  2.69054264e-01,\n",
       "         5.44504039e-02,  1.34235501e-01,  1.38180908e-02, -1.48388237e-01,\n",
       "         2.17887402e-01, -2.54954323e-02, -1.81012914e-01, -3.05644453e-01,\n",
       "         1.09135844e-01,  6.71715364e-02,  2.04463348e-01,  1.19896963e-01,\n",
       "         4.93251458e-02,  1.14796832e-01,  1.70311064e-01,  1.79199174e-01,\n",
       "         4.43396866e-02,  1.22481130e-01, -1.41354809e-02,  1.41631991e-01,\n",
       "         2.04110384e-01, -1.70858994e-01,  2.33057812e-01,  2.82113284e-01,\n",
       "         2.69028217e-01,  1.00635603e-01, -1.23890057e-01, -1.60769988e-02,\n",
       "         3.57303321e-01, -1.50438130e-01,  9.84646603e-02, -1.75864831e-01,\n",
       "        -3.34755808e-01, -1.52421057e-01,  3.84862572e-02,  2.69887540e-02,\n",
       "        -3.80257033e-02,  3.07524242e-02, -1.95855096e-01,  1.00613430e-01,\n",
       "         3.34983230e-01, -1.79249257e-01, -1.22510135e-01, -9.19198394e-02,\n",
       "         1.35743362e-03,  1.95146978e-01,  4.26844023e-02,  2.03599960e-01,\n",
       "         9.08814184e-03,  2.09254295e-01,  4.00053829e-01,  2.04673916e-01,\n",
       "         2.72101611e-02,  3.42990398e-01,  2.78901041e-01,  2.37939730e-01,\n",
       "         8.65579993e-02,  4.22279984e-02,  8.07036608e-02, -6.04362153e-02,\n",
       "        -1.09591119e-01,  3.06297839e-01,  2.97641102e-02, -2.22287044e-01,\n",
       "         6.82023540e-02,  3.30315232e-01, -9.55590606e-02,  3.67340505e-01,\n",
       "        -6.83425441e-02, -6.96854517e-02,  2.42933035e-01,  8.51933062e-02,\n",
       "        -2.99320966e-01, -6.71523213e-02, -1.40323825e-02,  4.98380624e-02,\n",
       "         1.66076452e-01, -3.90611030e-02,  3.77262905e-02,  3.78378659e-01,\n",
       "         2.35296756e-01, -5.02326228e-02,  1.67262897e-01,  3.65336627e-01,\n",
       "        -1.13996394e-01,  1.75532565e-01,  2.08465084e-01,  1.64256886e-01,\n",
       "        -4.37746532e-02,  3.21612693e-02,  6.62690327e-02, -1.32589161e-01,\n",
       "         1.12578623e-01,  5.20408042e-02,  2.88113058e-01, -1.08663552e-01,\n",
       "         1.23865820e-01,  4.32909489e-01,  2.77903020e-01, -1.68803446e-02,\n",
       "         4.73532736e-01,  4.54466254e-01,  2.08999112e-01,  1.04816206e-01,\n",
       "         1.89800471e-01,  8.41973536e-03,  3.17671716e-01,  1.76814914e-01,\n",
       "         4.42600667e-01, -1.67528614e-02,  3.20541859e-01,  4.54444349e-01,\n",
       "         1.36607185e-01, -6.18158840e-02, -2.66761065e-01,  3.10480028e-01,\n",
       "        -2.08817169e-01, -2.23837450e-01,  3.47064525e-01,  9.07005370e-02,\n",
       "         1.15774460e-01,  4.65881795e-01,  2.10094303e-01,  6.61016941e-01,\n",
       "         5.22495389e-01,  2.74770528e-01,  1.67585537e-02, -5.61972521e-02,\n",
       "         2.01043859e-01, -7.72003159e-02,  5.47407627e-01, -1.53386801e-01,\n",
       "         1.16135009e-01,  1.57033667e-01,  8.43557939e-02,  1.52474523e-01,\n",
       "         1.35555059e-01,  1.64529353e-01,  3.63508850e-01,  5.86855933e-02,\n",
       "         3.10092002e-01,  1.72646597e-01,  1.40395341e-02, -9.02711079e-02,\n",
       "        -1.24755919e-01, -2.43003786e-01, -5.49776442e-02,  1.97545573e-01,\n",
       "         2.81762540e-01,  3.04420292e-01,  4.92885560e-01,  2.95884460e-01,\n",
       "         2.57914186e-01, -1.79556772e-01,  2.51940209e-02,  1.25658348e-01,\n",
       "         3.61310005e-01,  1.42349780e-01,  5.36383912e-02,  3.65021288e-01,\n",
       "         2.71039099e-01,  2.05246076e-01,  1.85079426e-01,  2.58117050e-01,\n",
       "         1.32443786e-01,  3.78191650e-01,  1.39133826e-01,  2.47600377e-02,\n",
       "         2.27517515e-01,  1.41179666e-01, -2.01629728e-01, -2.41705030e-02,\n",
       "         1.64016992e-01,  3.34762484e-02,  5.87013513e-02,  9.97454152e-02,\n",
       "         2.02416386e-02,  3.36624861e-01,  2.60892272e-01,  3.90304297e-01,\n",
       "         3.39878589e-01,  2.43342087e-01,  9.88346860e-02, -2.20472410e-01,\n",
       "         1.77634910e-01,  2.36880541e-01,  2.77735978e-01,  1.23665996e-01,\n",
       "         1.55649871e-01,  1.69895664e-01,  3.70024949e-01,  4.25796628e-01,\n",
       "         3.14975858e-01,  1.83359385e-01,  8.01666752e-02,  1.18028961e-01,\n",
       "         4.13256586e-01,  9.63963419e-02, -3.38102013e-01, -2.99985260e-02,\n",
       "         1.36429965e-01, -1.62649542e-01,  9.22442079e-02,  2.34436765e-01,\n",
       "         1.75642982e-01,  2.46303990e-01,  2.21461430e-01,  1.66761205e-01,\n",
       "         3.12789351e-01,  1.71895295e-01, -4.42609712e-02,  4.41156328e-01,\n",
       "         1.44706070e-01,  2.65245318e-01,  1.11526325e-01, -9.05697793e-02,\n",
       "         2.38358766e-01,  2.71417666e-02,  1.82273820e-01,  1.41320661e-01,\n",
       "        -9.50645730e-02,  1.28872350e-01,  5.51258139e-02,  9.60781127e-02,\n",
       "        -3.59900072e-02,  1.27789542e-01,  1.21313736e-01, -8.73381048e-02,\n",
       "         1.48710310e-01,  1.20985985e-01, -2.41101503e-01,  7.10236281e-02,\n",
       "         1.01214029e-01,  5.79905696e-02,  3.83481950e-01, -2.72137094e-02,\n",
       "         4.78067040e-01,  4.08336788e-01,  8.14398453e-02,  1.28650740e-01,\n",
       "        -1.19294912e-01,  3.59392166e-01, -1.58755016e-02,  1.48327932e-01,\n",
       "         3.23502779e-01,  4.28090729e-02,  2.40629718e-01, -8.64767805e-02,\n",
       "         1.12463571e-01,  1.10238656e-01,  3.57513875e-03,  2.35289827e-01,\n",
       "        -7.20386058e-02,  3.25837106e-01, -2.70013183e-01,  9.56908017e-02,\n",
       "         2.72269905e-01,  1.61593109e-02,  8.13873336e-02,  2.11073712e-01,\n",
       "         2.87222862e-01,  4.06077981e-01,  2.23464936e-01,  5.11072636e-01,\n",
       "         3.20090592e-01, -4.77204397e-02,  2.20833018e-01,  4.16721851e-01,\n",
       "         2.63485968e-01, -6.47054836e-02,  1.91610396e-01, -7.19068125e-02,\n",
       "        -3.32053714e-02, -3.33561599e-02,  6.26227558e-02,  4.15417813e-02,\n",
       "         1.16526283e-01, -1.32722691e-01, -1.71001062e-01,  1.29067332e-01,\n",
       "         1.98658049e-01,  1.43275894e-02,  1.95217710e-02, -4.04907078e-01,\n",
       "         5.19216321e-02, -3.64164233e-01, -2.92620882e-02, -8.04116204e-02,\n",
       "         5.05157784e-02,  7.52758831e-02, -1.05099447e-01,  1.76962554e-01,\n",
       "         2.58272499e-01,  3.21924239e-01,  4.59130883e-01,  4.40875202e-01,\n",
       "         5.23890018e-01,  2.66094714e-01,  9.29677580e-03, -2.31217086e-01,\n",
       "         2.16329589e-01, -1.29666835e-01, -3.20714840e-04,  3.35236639e-01,\n",
       "        -1.17854886e-01,  6.82164505e-02,  1.54581308e-01,  1.84524298e-01,\n",
       "         1.27107099e-01, -1.62415639e-01,  9.07777995e-03, -3.07606757e-01,\n",
       "        -2.47436076e-01, -2.04780161e-01, -1.60786882e-01,  7.77221993e-02,\n",
       "         8.44179019e-02,  3.02549303e-01,  1.99538603e-01,  3.62055004e-01,\n",
       "         1.84760895e-02,  3.43593150e-01,  4.41275835e-01,  5.26219785e-01,\n",
       "         1.82236344e-01,  3.46857548e-01,  1.15686655e-01,  2.31127247e-01,\n",
       "         3.73692252e-02, -1.04964003e-01,  5.22942208e-02,  2.44033217e-01,\n",
       "         1.60203025e-01,  1.41584352e-01, -1.91382896e-02,  2.49042481e-01,\n",
       "         2.56765723e-01,  1.03436835e-01, -1.38246998e-01,  1.72980294e-01,\n",
       "         1.33349270e-01,  2.13549748e-01, -4.57502343e-02, -8.44198540e-02,\n",
       "         2.51657739e-02,  2.13941917e-01, -4.99154292e-02,  7.99523890e-02,\n",
       "         6.04054928e-02,  2.54393518e-01,  5.57410300e-01, -6.69412464e-02,\n",
       "         3.50906968e-01,  9.22539458e-02,  1.00549735e-01,  1.21014863e-01,\n",
       "         1.45627111e-01,  7.27260858e-02, -3.48243043e-02,  3.23270798e-01,\n",
       "         4.24397677e-01,  8.04975182e-02,  1.66485369e-01,  4.10727151e-02,\n",
       "         2.26914480e-01,  1.24712795e-01,  8.66792873e-02, -1.47403806e-01,\n",
       "        -1.13855481e-01,  8.68164152e-02,  1.66829109e-01, -2.48553634e-01,\n",
       "         1.04566664e-01, -6.11329637e-02,  1.09092139e-01,  3.23154271e-01,\n",
       "         4.48678434e-01,  3.69055808e-01,  1.98809907e-01,  7.13003576e-02,\n",
       "         8.47732127e-02,  8.62985104e-02, -1.13245443e-01,  2.88616836e-01,\n",
       "         8.23461115e-02,  1.86351031e-01,  1.64008886e-01,  2.10409969e-01,\n",
       "         1.29226834e-01,  4.18016523e-01, -2.96502449e-02,  9.81242582e-02,\n",
       "        -1.75475419e-01, -2.43645251e-01,  2.42801934e-01, -1.18396832e-02,\n",
       "        -1.97210789e-01, -5.43736331e-02,  4.70287167e-02, -4.93381061e-02,\n",
       "        -2.26113368e-02,  3.00617009e-01,  2.72363126e-01,  1.95263386e-01,\n",
       "         3.97990227e-01, -1.00247450e-01,  1.79980963e-01,  1.98645666e-01,\n",
       "         2.47892916e-01,  5.22807725e-02,  6.12861440e-02,  3.07908148e-01,\n",
       "         1.36639088e-01,  1.36502624e-01,  2.76085645e-01, -5.85099086e-02,\n",
       "         3.30421031e-01,  2.28045970e-01, -8.74701291e-02,  9.52291265e-02,\n",
       "         2.72922218e-01, -2.81809792e-02,  1.85986422e-02,  1.02527991e-01,\n",
       "        -2.52415836e-01,  2.22244322e-01, -1.37120977e-01,  7.41450265e-02,\n",
       "         1.92245264e-02,  3.41330208e-02,  4.54753280e-01,  1.33281305e-01,\n",
       "         2.90169895e-01, -8.59571397e-02, -9.40832570e-02,  1.00398749e-01,\n",
       "         3.50093216e-01,  7.33271092e-02, -1.15176275e-01,  2.15766624e-01,\n",
       "         2.96835676e-02,  2.14512944e-01,  3.27329308e-01, -2.55952273e-02,\n",
       "         2.40796849e-01,  2.25130722e-01,  1.59166738e-01, -1.65604185e-02,\n",
       "        -3.22126225e-02,  1.69891492e-02,  1.93511382e-01, -4.40179706e-02,\n",
       "        -1.17230274e-01,  2.72553802e-01,  1.17065318e-01,  7.46687949e-02,\n",
       "        -4.12873104e-02,  1.90536603e-01,  2.21583515e-01,  8.02886188e-02,\n",
       "        -6.28952961e-03, -1.34467468e-01,  5.03024608e-02, -1.86496794e-01,\n",
       "        -6.16416372e-02,  1.77144095e-01, -1.08988315e-01,  3.92747521e-01,\n",
       "         4.18786854e-01,  2.85665989e-01,  2.17085674e-01,  2.48702958e-01,\n",
       "         2.75552690e-01,  2.87417173e-01, -1.84705794e-01,  9.69891995e-02,\n",
       "        -2.70772018e-02, -6.96735755e-02,  2.26404786e-01, -3.35199833e-01,\n",
       "         5.06709423e-03, -2.18399595e-02,  2.19008744e-01, -6.17442187e-03,\n",
       "        -7.48040676e-02,  1.14453197e-01,  1.46248536e-02,  1.77957252e-01,\n",
       "         3.96591760e-02,  2.16650754e-01,  1.55468002e-01,  2.02801764e-01,\n",
       "        -1.86444178e-01, -8.12167749e-02,  5.18793948e-02,  1.16920233e-01,\n",
       "         2.54352212e-01,  1.87215969e-01, -9.40616988e-03,  3.70371789e-01,\n",
       "         1.84597909e-01,  1.42935112e-01,  1.06503598e-01,  3.51084769e-01,\n",
       "         3.77071537e-02,  1.04414932e-01,  2.19544068e-01,  2.51237243e-01,\n",
       "         3.88347469e-02, -1.54136583e-01,  8.15544128e-02, -2.45863423e-01,\n",
       "         8.10036138e-02, -2.32895374e-01,  1.64697394e-02,  1.50106877e-01,\n",
       "         3.76873463e-01, -7.69243808e-03, -3.17350090e-01,  1.92734629e-01,\n",
       "        -1.15238264e-01,  1.26122981e-01,  3.26523818e-02, -1.18980870e-01,\n",
       "        -2.33121336e-01,  2.00565591e-01,  1.00269757e-01, -1.11725591e-02,\n",
       "         2.68007159e-01,  1.98340528e-02,  4.68800925e-02,  9.65052098e-02,\n",
       "        -3.04766089e-01, -2.86796782e-02, -9.24786627e-02,  3.49622890e-02,\n",
       "        -1.08632863e-01,  2.21943036e-02,  1.16883136e-01, -7.50016049e-03,\n",
       "        -4.12873000e-01,  1.67374149e-01,  4.66434918e-02,  2.45992750e-01,\n",
       "        -5.12902439e-02,  5.94593994e-02, -1.08682355e-02,  1.93473950e-01,\n",
       "         1.00729577e-01, -2.31868044e-01,  5.82712367e-02,  2.20101431e-01,\n",
       "         1.69897117e-02, -2.48547539e-01, -6.76213428e-02, -1.51844054e-01,\n",
       "        -6.41058711e-03,  3.63814346e-02, -6.09652922e-02,  3.75213981e-01,\n",
       "         9.97823924e-02, -2.09447995e-01, -1.71623960e-01,  2.23342031e-01,\n",
       "         1.44856632e-01, -2.48489961e-01, -6.38441369e-02, -1.60691664e-01,\n",
       "        -1.08500227e-01,  9.36167911e-02, -1.47180349e-01, -3.13198566e-01,\n",
       "        -7.49908164e-02,  3.09568077e-01,  5.08074425e-02, -1.98870096e-02,\n",
       "         1.04699107e-02, -1.34004116e-01,  8.86277631e-02,  1.91828057e-01,\n",
       "        -7.01786131e-02, -1.38244852e-01, -9.11669582e-02,  1.15435347e-01,\n",
       "        -5.90086654e-02, -3.12050376e-02, -1.34291977e-01,  2.86341663e-02,\n",
       "         1.20682329e-01, -3.17849427e-01, -2.92357057e-02,  1.09139316e-01],\n",
       "       dtype=float32),\n",
       " array([0.00000000e+00, 0.00000000e+00, 0.00000000e+00, 0.00000000e+00,\n",
       "        0.00000000e+00, 0.00000000e+00, 0.00000000e+00, 0.00000000e+00,\n",
       "        0.00000000e+00, 0.00000000e+00, 0.00000000e+00, 0.00000000e+00,\n",
       "        1.82124227e-02, 4.52073589e-02, 5.92953712e-03, 2.47063872e-04,\n",
       "        0.00000000e+00, 0.00000000e+00, 0.00000000e+00, 0.00000000e+00,\n",
       "        0.00000000e+00, 0.00000000e+00, 0.00000000e+00, 0.00000000e+00,\n",
       "        0.00000000e+00, 0.00000000e+00, 0.00000000e+00, 0.00000000e+00,\n",
       "        0.00000000e+00, 0.00000000e+00, 0.00000000e+00, 0.00000000e+00,\n",
       "        7.53769686e-11, 1.28920903e-04, 2.57506454e-03, 6.24082005e-03,\n",
       "        5.04598115e-03, 6.72324281e-03, 5.27833253e-02, 1.35486498e-01,\n",
       "        1.39011070e-01, 1.41058281e-01, 1.53692544e-01, 1.26783252e-01,\n",
       "        1.90228283e-01, 1.74015269e-01, 8.49806219e-02, 6.35757372e-02,\n",
       "        3.43409218e-02, 2.79682279e-02, 2.47647036e-02, 2.01963214e-03,\n",
       "        0.00000000e+00, 0.00000000e+00, 0.00000000e+00, 0.00000000e+00,\n",
       "        0.00000000e+00, 0.00000000e+00, 5.78218540e-08, 3.47787791e-05,\n",
       "        2.15424534e-05, 1.15216710e-03, 1.97977033e-02, 8.56801048e-02,\n",
       "        1.38508856e-01, 4.49333012e-01, 9.77275193e-01, 1.25353122e+00,\n",
       "        1.52068675e+00, 2.11928034e+00, 3.06209254e+00, 3.97692132e+00,\n",
       "        3.94848108e+00, 2.92330527e+00, 2.16769218e+00, 1.63651216e+00,\n",
       "        1.14677262e+00, 5.37910044e-01, 1.81564867e-01, 1.28373101e-01,\n",
       "        4.17728461e-02, 7.60766724e-03, 0.00000000e+00, 0.00000000e+00,\n",
       "        0.00000000e+00, 0.00000000e+00, 1.51252653e-03, 5.75164333e-04,\n",
       "        1.69618167e-02, 8.02354068e-02, 2.79357553e-01, 4.69623357e-01,\n",
       "        9.49271321e-01, 2.18564916e+00, 3.52631140e+00, 5.13060284e+00,\n",
       "        7.19552326e+00, 9.59704113e+00, 1.21754541e+01, 1.37067337e+01,\n",
       "        1.36262941e+01, 1.22018852e+01, 9.59804535e+00, 7.13545275e+00,\n",
       "        4.35345078e+00, 2.13993335e+00, 1.07938969e+00, 5.73594451e-01,\n",
       "        1.92218363e-01, 1.69403199e-02, 1.07072003e-03, 0.00000000e+00,\n",
       "        0.00000000e+00, 9.22851726e-11, 5.70838572e-03, 2.64199753e-03,\n",
       "        1.13375150e-01, 6.08684838e-01, 1.40546179e+00, 2.53559589e+00,\n",
       "        4.85422993e+00, 8.33566475e+00, 1.32502146e+01, 1.90829754e+01,\n",
       "        2.68162689e+01, 3.52941284e+01, 4.15617218e+01, 4.39971733e+01,\n",
       "        4.33421631e+01, 3.81369743e+01, 3.03874149e+01, 2.29207649e+01,\n",
       "        1.53712778e+01, 9.06609440e+00, 4.80995750e+00, 2.13758588e+00,\n",
       "        7.50084698e-01, 1.37667999e-01, 2.44377516e-02, 1.13401097e-06,\n",
       "        0.00000000e+00, 0.00000000e+00, 1.00642014e-02, 2.30179634e-02,\n",
       "        6.45180643e-01, 1.97578883e+00, 3.87016606e+00, 7.36117983e+00,\n",
       "        1.33347960e+01, 2.14350567e+01, 3.17968941e+01, 4.44480515e+01,\n",
       "        5.90710526e+01, 7.45131836e+01, 8.52912292e+01, 8.96203156e+01,\n",
       "        8.77382202e+01, 7.83789368e+01, 6.34817696e+01, 4.82524567e+01,\n",
       "        3.46918945e+01, 2.22424240e+01, 1.30666504e+01, 6.88823414e+00,\n",
       "        3.26230907e+00, 7.92467535e-01, 1.60025969e-01, 5.18102606e-05,\n",
       "        0.00000000e+00, 6.00438966e-07, 4.17804867e-02, 2.07926676e-01,\n",
       "        1.39002538e+00, 3.83097172e+00, 7.48621416e+00, 1.43164377e+01,\n",
       "        2.50748653e+01, 3.85336914e+01, 5.35818939e+01, 7.12095871e+01,\n",
       "        8.96460648e+01, 1.06904816e+02, 1.18890335e+02, 1.24486923e+02,\n",
       "        1.21859703e+02, 1.11689613e+02, 9.53124084e+01, 7.45446320e+01,\n",
       "        5.41163597e+01, 3.57365227e+01, 2.15258064e+01, 1.21148043e+01,\n",
       "        5.98821783e+00, 2.03338170e+00, 4.19762224e-01, 3.58509757e-02,\n",
       "        1.48672858e-04, 8.39428627e-04, 1.00034773e-01, 5.96557856e-01,\n",
       "        2.67648792e+00, 6.30635786e+00, 1.26602478e+01, 2.29674587e+01,\n",
       "        3.75040817e+01, 5.50237808e+01, 7.36504974e+01, 9.37187881e+01,\n",
       "        1.11330101e+02, 1.26025909e+02, 1.35045837e+02, 1.37068268e+02,\n",
       "        1.34546616e+02, 1.26497955e+02, 1.14360596e+02, 9.42736893e+01,\n",
       "        6.98877258e+01, 4.68026810e+01, 2.83350315e+01, 1.60110016e+01,\n",
       "        7.48281670e+00, 2.63883400e+00, 4.36219901e-01, 5.40207326e-02,\n",
       "        7.85870361e-04, 1.38124335e-03, 3.42833102e-01, 1.56732786e+00,\n",
       "        4.07435083e+00, 8.41656113e+00, 1.68704128e+01, 2.96871853e+01,\n",
       "        4.70947647e+01, 6.84857941e+01, 8.98837357e+01, 1.07239311e+02,\n",
       "        1.19119102e+02, 1.24168404e+02, 1.23621750e+02, 1.23408432e+02,\n",
       "        1.23564850e+02, 1.22418877e+02, 1.16298271e+02, 1.00868126e+02,\n",
       "        7.69490128e+01, 5.21679955e+01, 3.13977604e+01, 1.62800274e+01,\n",
       "        6.87181091e+00, 2.58077002e+00, 3.66647363e-01, 5.74340560e-02,\n",
       "        1.21299708e-02, 2.31205374e-02, 4.95698452e-01, 1.74560881e+00,\n",
       "        4.38796997e+00, 9.18626308e+00, 1.90278664e+01, 3.43328857e+01,\n",
       "        5.46945534e+01, 7.79663544e+01, 9.77500916e+01, 1.08286331e+02,\n",
       "        1.09284103e+02, 1.04315262e+02, 9.85598373e+01, 1.00437332e+02,\n",
       "        1.05384132e+02, 1.10463371e+02, 1.10619240e+02, 9.87046280e+01,\n",
       "        7.57497635e+01, 5.11663857e+01, 3.02791462e+01, 1.46547832e+01,\n",
       "        5.61671257e+00, 1.74208689e+00, 2.76892364e-01, 3.14103626e-02,\n",
       "        2.89021637e-02, 8.21866691e-02, 4.77568269e-01, 1.59555757e+00,\n",
       "        4.05016851e+00, 9.27794838e+00, 2.00227299e+01, 3.68582115e+01,\n",
       "        5.99035988e+01, 8.35764313e+01, 9.87382812e+01, 1.00250000e+02,\n",
       "        9.18232269e+01, 8.20238419e+01, 7.99252167e+01, 8.60744629e+01,\n",
       "        9.55732346e+01, 1.04156433e+02, 1.06245338e+02, 9.31588974e+01,\n",
       "        7.06363831e+01, 4.71050682e+01, 2.76806183e+01, 1.29456272e+01,\n",
       "        4.56059074e+00, 1.10207975e+00, 1.97491959e-01, 3.41278240e-02,\n",
       "        8.59241839e-03, 6.67833909e-02, 2.79609621e-01, 1.10756421e+00,\n",
       "        3.56746674e+00, 9.19220352e+00, 2.08299961e+01, 3.96023903e+01,\n",
       "        6.41175613e+01, 8.66581726e+01, 9.69828491e+01, 9.23746796e+01,\n",
       "        7.99847031e+01, 7.29444885e+01, 7.73711624e+01, 8.67162323e+01,\n",
       "        9.87567368e+01, 1.08227905e+02, 1.06426338e+02, 8.83591537e+01,\n",
       "        6.38014679e+01, 4.19668617e+01, 2.45543613e+01, 1.19573421e+01,\n",
       "        3.98942566e+00, 6.15292966e-01, 6.35276064e-02, 3.53580853e-03,\n",
       "        1.03797961e-03, 1.60428882e-02, 1.91846296e-01, 7.37303615e-01,\n",
       "        3.16948915e+00, 9.43909836e+00, 2.25540409e+01, 4.30927773e+01,\n",
       "        6.83880463e+01, 8.84848862e+01, 9.48746796e+01, 8.87815247e+01,\n",
       "        7.78784714e+01, 7.83700027e+01, 9.00581207e+01, 1.03608597e+02,\n",
       "        1.14674095e+02, 1.18581146e+02, 1.08354446e+02, 8.44643936e+01,\n",
       "        5.77973938e+01, 3.73487320e+01, 2.26098003e+01, 1.22287645e+01,\n",
       "        4.28297138e+00, 4.64172930e-01, 4.22779359e-02, 7.56851223e-05,\n",
       "        1.49799875e-04, 1.48488628e-02, 1.12234406e-01, 5.04196942e-01,\n",
       "        2.93426347e+00, 1.04637632e+01, 2.57826691e+01, 4.69256287e+01,\n",
       "        7.23285141e+01, 8.97703552e+01, 9.45491333e+01, 8.95817337e+01,\n",
       "        8.55369873e+01, 9.64918671e+01, 1.12380089e+02, 1.26098007e+02,\n",
       "        1.30226547e+02, 1.26717903e+02, 1.09274712e+02, 8.15673599e+01,\n",
       "        5.49598961e+01, 3.64739761e+01, 2.29116917e+01, 1.32537508e+01,\n",
       "        5.11859417e+00, 5.11139154e-01, 2.72662435e-02, 4.61054624e-05,\n",
       "        1.50604887e-04, 3.01456021e-04, 5.33616692e-02, 5.04388213e-01,\n",
       "        3.20559025e+00, 1.26719570e+01, 2.86872311e+01, 5.00906715e+01,\n",
       "        7.39213638e+01, 8.98595123e+01, 9.45976486e+01, 9.33586578e+01,\n",
       "        9.83405380e+01, 1.16130074e+02, 1.32566559e+02, 1.41912796e+02,\n",
       "        1.37556747e+02, 1.28424759e+02, 1.06464516e+02, 7.98168259e+01,\n",
       "        5.65277176e+01, 3.83910103e+01, 2.44776592e+01, 1.43694859e+01,\n",
       "        5.46812391e+00, 6.71013653e-01, 5.52070476e-02, 5.28957298e-06,\n",
       "        6.06056128e-05, 8.77598268e-07, 5.17257787e-02, 6.13206446e-01,\n",
       "        3.77411461e+00, 1.44222317e+01, 3.09184704e+01, 5.03720741e+01,\n",
       "        7.14726639e+01, 8.71466522e+01, 9.27467499e+01, 9.61551895e+01,\n",
       "        1.07281914e+02, 1.25188560e+02, 1.38873367e+02, 1.42272705e+02,\n",
       "        1.32716660e+02, 1.20495049e+02, 1.00474777e+02, 7.83176498e+01,\n",
       "        5.80949440e+01, 4.09894905e+01, 2.68016052e+01, 1.49347143e+01,\n",
       "        5.62372732e+00, 9.41313863e-01, 1.47377998e-01, 2.69291271e-03,\n",
       "        6.45285108e-05, 2.17808280e-04, 5.33063523e-02, 7.05957651e-01,\n",
       "        4.68024683e+00, 1.66635303e+01, 3.21859741e+01, 4.97004662e+01,\n",
       "        6.75339279e+01, 7.92216721e+01, 8.52569122e+01, 9.19260178e+01,\n",
       "        1.03471916e+02, 1.18170822e+02, 1.30073196e+02, 1.30036499e+02,\n",
       "        1.22358925e+02, 1.11119728e+02, 9.47892532e+01, 7.64151840e+01,\n",
       "        5.95336227e+01, 4.20897789e+01, 2.67892570e+01, 1.44494085e+01,\n",
       "        5.53682423e+00, 1.32999539e+00, 2.21704692e-01, 6.50276523e-03,\n",
       "        0.00000000e+00, 6.74883078e-04, 1.02968104e-01, 9.00539696e-01,\n",
       "        5.80747271e+00, 1.86231289e+01, 3.38669052e+01, 4.87534943e+01,\n",
       "        6.13848305e+01, 6.91637421e+01, 7.55298691e+01, 8.32769470e+01,\n",
       "        9.21805725e+01, 1.04378906e+02, 1.15611450e+02, 1.17464302e+02,\n",
       "        1.13463631e+02, 1.04315193e+02, 9.20835724e+01, 7.59302368e+01,\n",
       "        5.89763985e+01, 4.11124001e+01, 2.53241940e+01, 1.32064190e+01,\n",
       "        5.38575220e+00, 1.48105729e+00, 2.89223075e-01, 1.11930817e-02,\n",
       "        8.22827133e-05, 4.08743887e-04, 2.39768669e-01, 1.38609755e+00,\n",
       "        7.21612883e+00, 2.04294949e+01, 3.55089836e+01, 4.81826057e+01,\n",
       "        5.79722443e+01, 6.55058060e+01, 7.21091614e+01, 7.80623322e+01,\n",
       "        8.52711258e+01, 9.73765793e+01, 1.08550720e+02, 1.14376717e+02,\n",
       "        1.13311325e+02, 1.04919968e+02, 9.26004791e+01, 7.54931793e+01,\n",
       "        5.73679771e+01, 3.87664986e+01, 2.33454762e+01, 1.20009146e+01,\n",
       "        4.83657074e+00, 1.45459306e+00, 1.83663264e-01, 1.06648300e-02,\n",
       "        2.55535082e-09, 7.62477168e-04, 3.60156000e-01, 1.90448892e+00,\n",
       "        8.09157085e+00, 2.19112663e+01, 3.75363617e+01, 5.09219093e+01,\n",
       "        6.13542252e+01, 7.10013504e+01, 7.80179977e+01, 8.33631363e+01,\n",
       "        9.20931549e+01, 1.03037659e+02, 1.13698730e+02, 1.19510361e+02,\n",
       "        1.16689796e+02, 1.06351379e+02, 9.09152908e+01, 7.15899658e+01,\n",
       "        5.19682007e+01, 3.38499298e+01, 1.97507572e+01, 1.02482538e+01,\n",
       "        4.06965113e+00, 1.29149210e+00, 2.03324884e-01, 1.00468937e-02,\n",
       "        0.00000000e+00, 2.42617656e-03, 3.31004322e-01, 2.03236842e+00,\n",
       "        7.80375051e+00, 2.11416092e+01, 3.78345833e+01, 5.40396729e+01,\n",
       "        6.79833298e+01, 8.07368622e+01, 8.98545227e+01, 9.77098160e+01,\n",
       "        1.07078369e+02, 1.16896461e+02, 1.24747574e+02, 1.25826622e+02,\n",
       "        1.18020782e+02, 1.02557396e+02, 8.27729645e+01, 6.22109528e+01,\n",
       "        4.26150246e+01, 2.63974590e+01, 1.51636648e+01, 7.36743975e+00,\n",
       "        3.28757548e+00, 1.06765103e+00, 1.66145697e-01, 1.41454598e-06,\n",
       "        3.40015731e-08, 9.14299686e-04, 3.14139009e-01, 1.70062256e+00,\n",
       "        6.54731989e+00, 1.74119606e+01, 3.34219971e+01, 5.20892868e+01,\n",
       "        6.99148026e+01, 8.52765884e+01, 9.89605865e+01, 1.11865776e+02,\n",
       "        1.21967514e+02, 1.29171906e+02, 1.30917389e+02, 1.24228554e+02,\n",
       "        1.08818359e+02, 8.76547165e+01, 6.72117844e+01, 4.73124695e+01,\n",
       "        2.97763100e+01, 1.71263351e+01, 9.33596802e+00, 4.53174305e+00,\n",
       "        1.84585667e+00, 5.06965160e-01, 7.93343708e-02, 2.19468120e-07,\n",
       "        3.29391057e-08, 4.72247302e-05, 1.85725719e-01, 9.26165819e-01,\n",
       "        3.95730042e+00, 1.11949844e+01, 2.39013634e+01, 4.13100624e+01,\n",
       "        6.16276970e+01, 8.06480637e+01, 9.79280090e+01, 1.11835678e+02,\n",
       "        1.21232231e+02, 1.23618874e+02, 1.19081123e+02, 1.05888458e+02,\n",
       "        8.71518936e+01, 6.57414703e+01, 4.58788414e+01, 2.90073910e+01,\n",
       "        1.72743778e+01, 9.18197250e+00, 4.76652670e+00, 2.60077143e+00,\n",
       "        9.84124243e-01, 1.92284837e-01, 1.91951112e-03, 4.05171903e-07,\n",
       "        0.00000000e+00, 0.00000000e+00, 3.91667187e-02, 4.85681176e-01,\n",
       "        1.94335616e+00, 4.99286699e+00, 1.19258137e+01, 2.38377399e+01,\n",
       "        4.07842560e+01, 5.93929825e+01, 7.71353912e+01, 9.11129532e+01,\n",
       "        9.76212616e+01, 9.68215027e+01, 8.90706253e+01, 7.58804245e+01,\n",
       "        5.84922142e+01, 4.11323395e+01, 2.58882141e+01, 1.58017826e+01,\n",
       "        8.80829048e+00, 4.27895832e+00, 1.95396090e+00, 9.16344881e-01,\n",
       "        3.92426163e-01, 9.82153490e-02, 2.07127436e-04, 0.00000000e+00,\n",
       "        0.00000000e+00, 0.00000000e+00, 6.13417244e-03, 1.83055431e-01,\n",
       "        5.82885563e-01, 1.47594297e+00, 4.00211668e+00, 9.10820389e+00,\n",
       "        1.69219418e+01, 2.71649265e+01, 3.82477798e+01, 4.67306061e+01,\n",
       "        5.07986336e+01, 4.95859299e+01, 4.45441742e+01, 3.69855194e+01,\n",
       "        2.83497524e+01, 1.98105564e+01, 1.24294033e+01, 7.68651199e+00,\n",
       "        4.40186119e+00, 1.77646196e+00, 7.30393767e-01, 3.13820302e-01,\n",
       "        6.56481236e-02, 2.33865925e-03, 4.86146973e-07, 0.00000000e+00,\n",
       "        0.00000000e+00, 0.00000000e+00, 1.03920291e-03, 2.99671054e-04,\n",
       "        7.47023150e-02, 4.95157719e-01, 1.36200356e+00, 3.09714413e+00,\n",
       "        5.93276024e+00, 9.85447502e+00, 1.35367537e+01, 1.59487839e+01,\n",
       "        1.64449120e+01, 1.67070637e+01, 1.57250204e+01, 1.33603086e+01,\n",
       "        1.01408291e+01, 7.54502392e+00, 5.21586037e+00, 3.47472668e+00,\n",
       "        2.05511761e+00, 7.76901722e-01, 2.28382081e-01, 3.63633409e-02,\n",
       "        1.89700210e-03, 3.08962345e-09, 3.31043748e-10, 0.00000000e+00,\n",
       "        0.00000000e+00, 0.00000000e+00, 0.00000000e+00, 3.61781216e-10,\n",
       "        2.34905761e-02, 2.01521039e-01, 6.40807033e-01, 1.24855602e+00,\n",
       "        2.07045674e+00, 2.83280087e+00, 4.17420912e+00, 5.51708364e+00,\n",
       "        5.62020683e+00, 5.54840422e+00, 5.43479300e+00, 4.48687410e+00,\n",
       "        3.52262807e+00, 2.51697230e+00, 1.50784719e+00, 8.79394770e-01,\n",
       "        5.90423942e-01, 2.43356213e-01, 4.60169762e-02, 8.42780154e-03,\n",
       "        1.33880740e-05, 5.04779106e-04, 0.00000000e+00, 0.00000000e+00,\n",
       "        0.00000000e+00, 0.00000000e+00, 0.00000000e+00, 0.00000000e+00,\n",
       "        7.77189769e-07, 7.53768580e-03, 5.84770963e-02, 1.33489996e-01,\n",
       "        7.85496235e-02, 1.13201164e-01, 3.13324720e-01, 3.28589261e-01,\n",
       "        3.96641105e-01, 5.03551304e-01, 6.23194933e-01, 5.60969472e-01,\n",
       "        4.53983247e-01, 3.04360837e-01, 1.41301796e-01, 5.99394068e-02,\n",
       "        5.65425977e-02, 3.96383852e-02, 3.15234251e-02, 1.45342885e-04,\n",
       "        0.00000000e+00, 0.00000000e+00, 0.00000000e+00, 0.00000000e+00],\n",
       "       dtype=float32),\n",
       " array([1.17198604e-36, 1.17198604e-36, 1.17198604e-36, 1.17198604e-36,\n",
       "        1.17198604e-36, 1.17198604e-36, 1.17198604e-36, 1.17198604e-36,\n",
       "        1.17198604e-36, 1.17198604e-36, 1.17198604e-36, 1.17198604e-36,\n",
       "        2.01843143e+00, 1.09055500e+01, 1.24075603e+00, 2.15408904e-03,\n",
       "        1.17198604e-36, 1.17198604e-36, 1.17198604e-36, 1.17198604e-36,\n",
       "        1.17198604e-36, 1.17198604e-36, 1.17198604e-36, 1.17198604e-36,\n",
       "        1.17198604e-36, 1.17198604e-36, 1.17198604e-36, 1.17198604e-36,\n",
       "        1.17198604e-36, 1.17198604e-36, 1.17198604e-36, 1.17198604e-36,\n",
       "        1.16834231e-09, 9.99144511e-04, 3.84905696e-01, 7.73714662e-01,\n",
       "        7.62092233e-01, 5.73144615e-01, 9.84996414e+00, 2.30987206e+01,\n",
       "        2.25118599e+01, 2.56644020e+01, 2.74447422e+01, 2.15657806e+01,\n",
       "        3.74701385e+01, 2.94000111e+01, 1.42305202e+01, 1.29955330e+01,\n",
       "        5.45986366e+00, 3.48887467e+00, 4.41180897e+00, 3.01460102e-02,\n",
       "        1.17198604e-36, 1.17198604e-36, 1.17198604e-36, 1.17198604e-36,\n",
       "        1.17198604e-36, 1.17198604e-36, 3.58495367e-06, 9.69017099e-04,\n",
       "        3.35867982e-04, 4.54785340e-02, 2.09448719e+00, 1.80251827e+01,\n",
       "        2.45240517e+01, 7.03876419e+01, 1.87925385e+02, 2.28574814e+02,\n",
       "        2.79673737e+02, 3.72659698e+02, 5.44267212e+02, 7.56384644e+02,\n",
       "        7.60401306e+02, 5.25064270e+02, 4.01963928e+02, 2.99927399e+02,\n",
       "        2.38469223e+02, 9.10969086e+01, 2.90233536e+01, 2.38248272e+01,\n",
       "        5.62278128e+00, 1.11964834e+00, 1.17198604e-36, 1.17198604e-36,\n",
       "        1.17198604e-36, 1.17198604e-36, 6.15531206e-02, 1.89975426e-02,\n",
       "        1.29376137e+00, 1.36088505e+01, 4.87597809e+01, 7.35477066e+01,\n",
       "        1.46351898e+02, 4.04487122e+02, 6.77992432e+02, 9.54596130e+02,\n",
       "        1.34295044e+03, 1.75760742e+03, 2.28667725e+03, 2.61253687e+03,\n",
       "        2.47890796e+03, 2.26329980e+03, 1.81941553e+03, 1.37845020e+03,\n",
       "        8.01810669e+02, 3.91718536e+02, 2.00722198e+02, 1.16578835e+02,\n",
       "        2.65380669e+01, 2.55752969e+00, 5.13633974e-02, 1.17198604e-36,\n",
       "        1.17198604e-36, 3.39724848e-09, 7.49195814e-01, 1.09181620e-01,\n",
       "        9.44767475e+00, 9.69561310e+01, 2.58421722e+02, 4.44593719e+02,\n",
       "        8.24378723e+02, 1.51376501e+03, 2.39562402e+03, 3.39548120e+03,\n",
       "        4.59114648e+03, 5.85268945e+03, 6.72920117e+03, 7.08985449e+03,\n",
       "        7.00740527e+03, 6.34856152e+03, 5.20118115e+03, 4.06677271e+03,\n",
       "        2.79588477e+03, 1.61813330e+03, 8.18213867e+02, 3.81785919e+02,\n",
       "        1.16584641e+02, 1.62916241e+01, 3.20161963e+00, 6.48693167e-05,\n",
       "        1.17198604e-36, 1.17198604e-36, 7.65225828e-01, 1.45300055e+00,\n",
       "        9.73372726e+01, 3.64345245e+02, 7.30470947e+02, 1.33570813e+03,\n",
       "        2.41061646e+03, 3.73703638e+03, 5.40557129e+03, 7.17449561e+03,\n",
       "        8.92143555e+03, 1.03865205e+04, 1.11474150e+04, 1.12691592e+04,\n",
       "        1.10601992e+04, 1.04671934e+04, 9.15861621e+03, 7.60931641e+03,\n",
       "        5.78529053e+03, 3.86437817e+03, 2.27406470e+03, 1.24405566e+03,\n",
       "        5.75310974e+02, 1.10349182e+02, 2.80474415e+01, 1.70147605e-03,\n",
       "        1.17198604e-36, 4.05347646e-06, 4.50201797e+00, 3.47653275e+01,\n",
       "        2.31405609e+02, 6.89392578e+02, 1.37505908e+03, 2.56457300e+03,\n",
       "        4.39609814e+03, 6.42545752e+03, 8.24430469e+03, 9.94093457e+03,\n",
       "        1.12722002e+04, 1.20502139e+04, 1.21769775e+04, 1.21997139e+04,\n",
       "        1.22832041e+04, 1.21218135e+04, 1.15316611e+04, 1.02260820e+04,\n",
       "        8.43116797e+03, 5.94972070e+03, 3.79002734e+03, 2.19813110e+03,\n",
       "        1.06294092e+03, 3.39644379e+02, 6.03373375e+01, 3.74011374e+00,\n",
       "        6.76926086e-03, 1.23869933e-01, 1.42155132e+01, 9.95966110e+01,\n",
       "        4.57926239e+02, 1.13892822e+03, 2.32863477e+03, 4.07297534e+03,\n",
       "        6.24462988e+03, 8.39037793e+03, 9.98534863e+03, 1.11825742e+04,\n",
       "        1.17611035e+04, 1.18656152e+04, 1.18906592e+04, 1.18756719e+04,\n",
       "        1.17833203e+04, 1.17367285e+04, 1.18868301e+04, 1.14370664e+04,\n",
       "        9.92877051e+03, 7.44217871e+03, 4.93966602e+03, 2.86505981e+03,\n",
       "        1.30638452e+03, 4.36681427e+02, 6.04419212e+01, 5.56674862e+00,\n",
       "        1.21120937e-01, 2.69548625e-01, 5.18882751e+01, 3.00214417e+02,\n",
       "        8.03745911e+02, 1.58716650e+03, 3.06334302e+03, 5.15174170e+03,\n",
       "        7.52845068e+03, 9.62048730e+03, 1.11458262e+04, 1.19115498e+04,\n",
       "        1.20659902e+04, 1.20258896e+04, 1.20141504e+04, 1.20160723e+04,\n",
       "        1.19701680e+04, 1.19388105e+04, 1.21090928e+04, 1.17553916e+04,\n",
       "        1.06274922e+04, 8.16162354e+03, 5.41827100e+03, 2.90500024e+03,\n",
       "        1.21036609e+03, 4.59609100e+02, 5.61589317e+01, 7.76597118e+00,\n",
       "        9.00925398e-01, 3.07172036e+00, 7.86899719e+01, 3.45248779e+02,\n",
       "        8.37445557e+02, 1.73380640e+03, 3.39847998e+03, 5.79310645e+03,\n",
       "        8.32197266e+03, 1.05421455e+04, 1.18343652e+04, 1.20363271e+04,\n",
       "        1.19870859e+04, 1.17454609e+04, 1.14070215e+04, 1.15312031e+04,\n",
       "        1.16427061e+04, 1.18047686e+04, 1.19143389e+04, 1.16177988e+04,\n",
       "        1.04625400e+04, 8.17939746e+03, 5.21376416e+03, 2.58144434e+03,\n",
       "        9.82083984e+02, 2.96721100e+02, 4.33335075e+01, 3.39837384e+00,\n",
       "        5.17995834e+00, 1.79647713e+01, 8.40699692e+01, 3.04081268e+02,\n",
       "        7.44654419e+02, 1.71052356e+03, 3.61707202e+03, 6.13712158e+03,\n",
       "        9.01508594e+03, 1.10253223e+04, 1.18646826e+04, 1.17426445e+04,\n",
       "        1.13593623e+04, 1.04319805e+04, 1.03023926e+04, 1.07717373e+04,\n",
       "        1.13588545e+04, 1.15808936e+04, 1.18518906e+04, 1.14249131e+04,\n",
       "        1.00955664e+04, 7.67417676e+03, 4.79657910e+03, 2.34525488e+03,\n",
       "        8.05664551e+02, 1.79829147e+02, 3.32203102e+01, 6.27387524e+00,\n",
       "        4.57879692e-01, 1.18004551e+01, 5.18210373e+01, 2.07970184e+02,\n",
       "        6.65382751e+02, 1.68957788e+03, 3.71439697e+03, 6.53428076e+03,\n",
       "        9.53813477e+03, 1.11833604e+04, 1.17049541e+04, 1.13612090e+04,\n",
       "        1.03938662e+04, 9.72176074e+03, 1.03840098e+04, 1.10848311e+04,\n",
       "        1.13577148e+04, 1.17239980e+04, 1.18318125e+04, 1.11535283e+04,\n",
       "        9.30696387e+03, 6.95290332e+03, 4.29969775e+03, 2.17428711e+03,\n",
       "        6.89332825e+02, 9.95965652e+01, 7.12744331e+00, 2.69703984e-01,\n",
       "        6.54527918e-02, 1.77303720e+00, 3.04398537e+01, 1.37098251e+02,\n",
       "        5.82336426e+02, 1.72974451e+03, 3.98230225e+03, 7.08360254e+03,\n",
       "        9.92832031e+03, 1.14102188e+04, 1.15261016e+04, 1.11473164e+04,\n",
       "        1.03604863e+04, 1.01544219e+04, 1.15507383e+04, 1.18152686e+04,\n",
       "        1.15284561e+04, 1.19787871e+04, 1.20482910e+04, 1.10169131e+04,\n",
       "        8.61685547e+03, 6.25080518e+03, 4.12632227e+03, 2.25131860e+03,\n",
       "        7.40890869e+02, 6.99895477e+01, 4.09281445e+00, 7.52785010e-03,\n",
       "        4.64379555e-03, 1.29391825e+00, 1.83339806e+01, 9.14105759e+01,\n",
       "        5.30399902e+02, 1.89653503e+03, 4.59461377e+03, 7.59792480e+03,\n",
       "        1.04353740e+04, 1.14929248e+04, 1.14329727e+04, 1.13328193e+04,\n",
       "        1.08366963e+04, 1.14722402e+04, 1.25501328e+04, 1.19374160e+04,\n",
       "        1.17275557e+04, 1.22569346e+04, 1.21512539e+04, 1.06319766e+04,\n",
       "        8.33134473e+03, 6.16017334e+03, 4.18557666e+03, 2.51077661e+03,\n",
       "        9.28416748e+02, 8.21277084e+01, 2.47011781e+00, 1.07618310e-02,\n",
       "        1.64865311e-02, 6.29904855e-04, 6.94155836e+00, 8.20005798e+01,\n",
       "        5.90052979e+02, 2.26970068e+03, 5.09592285e+03, 8.06878320e+03,\n",
       "        1.06497314e+04, 1.15476094e+04, 1.13786816e+04, 1.12875010e+04,\n",
       "        1.12789658e+04, 1.20449551e+04, 1.24472021e+04, 1.13187363e+04,\n",
       "        1.16260400e+04, 1.22333398e+04, 1.19081211e+04, 1.05698125e+04,\n",
       "        8.65968066e+03, 6.47955566e+03, 4.46890869e+03, 2.70749780e+03,\n",
       "        9.88774353e+02, 1.02685699e+02, 7.54673481e+00, 1.43466299e-04,\n",
       "        1.84414478e-03, 1.91976200e-04, 7.01342583e+00, 1.12450478e+02,\n",
       "        6.65101501e+02, 2.57063062e+03, 5.45525488e+03, 8.18972998e+03,\n",
       "        1.03610508e+04, 1.13896504e+04, 1.14645479e+04, 1.14337217e+04,\n",
       "        1.17094600e+04, 1.22364619e+04, 1.21420264e+04, 1.14564424e+04,\n",
       "        1.20715801e+04, 1.23021445e+04, 1.17517070e+04, 1.05064961e+04,\n",
       "        8.86549414e+03, 6.91861133e+03, 4.84782617e+03, 2.73843335e+03,\n",
       "        1.03357690e+03, 1.47549286e+02, 2.66155949e+01, 1.64872974e-01,\n",
       "        2.50048283e-03, 1.29116829e-02, 4.74611568e+00, 1.13056816e+02,\n",
       "        8.45629517e+02, 2.97723340e+03, 5.69162646e+03, 8.09359033e+03,\n",
       "        9.99744043e+03, 1.08144551e+04, 1.08700889e+04, 1.12699658e+04,\n",
       "        1.18624082e+04, 1.24020752e+04, 1.22544863e+04, 1.19832695e+04,\n",
       "        1.23818027e+04, 1.19817510e+04, 1.13241045e+04, 1.04412783e+04,\n",
       "        9.07972754e+03, 7.01321045e+03, 4.78373340e+03, 2.65186304e+03,\n",
       "        1.02899219e+03, 2.32125732e+02, 3.79617195e+01, 7.09659874e-01,\n",
       "        1.17198604e-36, 3.84745300e-02, 1.38132448e+01, 1.54427750e+02,\n",
       "        1.06243787e+03, 3.38991260e+03, 5.88771484e+03, 7.97896484e+03,\n",
       "        9.34108691e+03, 9.93183594e+03, 1.04713721e+04, 1.11167217e+04,\n",
       "        1.16056016e+04, 1.20144697e+04, 1.21115156e+04, 1.21039111e+04,\n",
       "        1.20106348e+04, 1.16619971e+04, 1.13496875e+04, 1.04549854e+04,\n",
       "        9.01261035e+03, 6.95487109e+03, 4.52220068e+03, 2.44811890e+03,\n",
       "        9.60475464e+02, 2.76856262e+02, 4.58779907e+01, 9.75962162e-01,\n",
       "        4.06533107e-03, 1.62787121e-02, 4.24365273e+01, 2.55591217e+02,\n",
       "        1.32618359e+03, 3.73229858e+03, 6.21250928e+03, 7.85942383e+03,\n",
       "        8.88563770e+03, 9.61135449e+03, 1.03699268e+04, 1.06545156e+04,\n",
       "        1.11646104e+04, 1.16681533e+04, 1.21235244e+04, 1.19985039e+04,\n",
       "        1.18245107e+04, 1.17531719e+04, 1.14897461e+04, 1.03944229e+04,\n",
       "        8.90493359e+03, 6.58706934e+03, 4.19221094e+03, 2.24249072e+03,\n",
       "        8.17528076e+02, 2.55652939e+02, 1.80139236e+01, 1.25423777e+00,\n",
       "        3.71324482e-08, 4.90111522e-02, 5.51136971e+01, 3.56916840e+02,\n",
       "        1.51455261e+03, 4.06007056e+03, 6.54637402e+03, 8.22746973e+03,\n",
       "        9.31789453e+03, 1.02273027e+04, 1.08484404e+04, 1.12467178e+04,\n",
       "        1.15913662e+04, 1.18977842e+04, 1.19631865e+04, 1.20071797e+04,\n",
       "        1.19208984e+04, 1.20167656e+04, 1.14605957e+04, 1.01287588e+04,\n",
       "        8.28972363e+03, 5.86413379e+03, 3.59555615e+03, 1.88474878e+03,\n",
       "        7.06637085e+02, 2.24846680e+02, 3.25603485e+01, 1.24544907e+00,\n",
       "        1.17198604e-36, 3.71009767e-01, 5.95394936e+01, 3.82866638e+02,\n",
       "        1.47625073e+03, 3.91766235e+03, 6.61266113e+03, 8.73495703e+03,\n",
       "        9.99839062e+03, 1.09445752e+04, 1.14693545e+04, 1.18288975e+04,\n",
       "        1.20522500e+04, 1.21435879e+04, 1.20835225e+04, 1.19153076e+04,\n",
       "        1.19632227e+04, 1.18586650e+04, 1.09507139e+04, 9.45208789e+03,\n",
       "        7.05892041e+03, 4.72701172e+03, 2.78321436e+03, 1.30259546e+03,\n",
       "        5.82266235e+02, 1.89919830e+02, 2.69299889e+01, 6.85931591e-05,\n",
       "        1.05405138e-06, 1.20402306e-01, 5.95413246e+01, 2.92816681e+02,\n",
       "        1.18901526e+03, 3.16163257e+03, 5.82772607e+03, 8.51822461e+03,\n",
       "        1.03198184e+04, 1.13453408e+04, 1.18581533e+04, 1.18957363e+04,\n",
       "        1.19030723e+04, 1.17275068e+04, 1.19735361e+04, 1.19667617e+04,\n",
       "        1.18721494e+04, 1.11385410e+04, 9.78090332e+03, 7.61887891e+03,\n",
       "        5.11628516e+03, 3.04561035e+03, 1.69798206e+03, 8.00815369e+02,\n",
       "        3.14598816e+02, 8.20743027e+01, 1.30331516e+01, 8.29176406e-06,\n",
       "        9.89200316e-07, 3.33406439e-04, 3.12682171e+01, 1.41525970e+02,\n",
       "        6.92031677e+02, 1.99356677e+03, 4.19388916e+03, 6.83089258e+03,\n",
       "        9.39172363e+03, 1.11036689e+04, 1.20103975e+04, 1.23048164e+04,\n",
       "        1.23366172e+04, 1.22204131e+04, 1.20904072e+04, 1.19613682e+04,\n",
       "        1.11852686e+04, 9.61737891e+03, 7.34749365e+03, 5.02048438e+03,\n",
       "        3.04055542e+03, 1.63767334e+03, 8.52886475e+02, 4.71159088e+02,\n",
       "        1.66113632e+02, 2.09170837e+01, 5.38912676e-02, 2.82607944e-05,\n",
       "        1.17198604e-36, 1.17198604e-36, 4.55706406e+00, 7.67264709e+01,\n",
       "        3.36960114e+02, 8.62985474e+02, 2.02905432e+03, 4.00773730e+03,\n",
       "        6.54082812e+03, 8.97336230e+03, 1.05488232e+04, 1.16207354e+04,\n",
       "        1.17726982e+04, 1.16679414e+04, 1.11937627e+04, 1.03458809e+04,\n",
       "        8.69826562e+03, 6.59880176e+03, 4.38456152e+03, 2.86791675e+03,\n",
       "        1.59780981e+03, 7.52074097e+02, 3.27602478e+02, 1.54163132e+02,\n",
       "        6.80513229e+01, 1.30690041e+01, 1.19602708e-02, 1.17198604e-36,\n",
       "        1.17198604e-36, 1.17198604e-36, 2.47127980e-01, 2.56895256e+01,\n",
       "        9.18621368e+01, 2.41014816e+02, 6.92583618e+02, 1.59136206e+03,\n",
       "        2.96985840e+03, 4.70381934e+03, 6.35545850e+03, 7.54357275e+03,\n",
       "        7.99074121e+03, 7.75684082e+03, 6.99892627e+03, 5.95869238e+03,\n",
       "        4.81173486e+03, 3.46651416e+03, 2.25122852e+03, 1.41873718e+03,\n",
       "        7.97301147e+02, 3.11640869e+02, 1.29898438e+02, 5.21718712e+01,\n",
       "        5.62239790e+00, 1.51001304e-01, 8.50136530e-06, 1.17198604e-36,\n",
       "        1.17198604e-36, 1.17198604e-36, 3.62422913e-02, 2.47120410e-02,\n",
       "        1.01143169e+01, 9.33174820e+01, 2.52918045e+02, 5.94592102e+02,\n",
       "        1.14278162e+03, 1.82629163e+03, 2.56676123e+03, 3.01950073e+03,\n",
       "        3.09223682e+03, 3.09130371e+03, 2.90107837e+03, 2.47509814e+03,\n",
       "        1.87534485e+03, 1.40869714e+03, 9.63806519e+02, 6.77611755e+02,\n",
       "        3.73957001e+02, 1.33030670e+02, 3.35242424e+01, 3.99711680e+00,\n",
       "        3.13320488e-01, 3.69389710e-07, 3.33525954e-08, 1.17198604e-36,\n",
       "        1.17198604e-36, 1.17198604e-36, 1.17198604e-36, 1.33180880e-08,\n",
       "        1.90558887e+00, 3.80986824e+01, 1.21758202e+02, 2.34559479e+02,\n",
       "        4.10906464e+02, 4.82763184e+02, 7.98245483e+02, 1.04153113e+03,\n",
       "        1.07389697e+03, 1.02801172e+03, 1.04039502e+03, 8.17346252e+02,\n",
       "        6.55824036e+02, 4.70413422e+02, 2.59604858e+02, 1.71354919e+02,\n",
       "        1.21249939e+02, 3.50854416e+01, 6.18338633e+00, 9.94954467e-01,\n",
       "        3.63144150e-04, 2.88513042e-02, 1.17198604e-36, 1.17198604e-36,\n",
       "        1.17198604e-36, 1.17198604e-36, 1.17198604e-36, 1.17198604e-36,\n",
       "        3.84228697e-05, 9.39971149e-01, 7.41364479e+00, 2.67534924e+01,\n",
       "        9.59506989e+00, 2.02999744e+01, 5.47724762e+01, 5.06245766e+01,\n",
       "        7.28716354e+01, 8.81651230e+01, 1.19390770e+02, 9.70097961e+01,\n",
       "        8.40226669e+01, 6.29838524e+01, 2.55776520e+01, 1.06576481e+01,\n",
       "        1.00510435e+01, 6.42045832e+00, 3.75788498e+00, 8.65483005e-03,\n",
       "        1.17198604e-36, 1.17198604e-36, 1.17198604e-36, 1.17198604e-36],\n",
       "       dtype=float32),\n",
       " array([[-0.04471929, -0.02857156,  0.01915293, ..., -0.02508708,\n",
       "         -0.01357662, -0.01941222],\n",
       "        [ 0.01075483,  0.04496151,  0.00486324, ..., -0.07740425,\n",
       "          0.00996559,  0.0330038 ],\n",
       "        [-0.06739151,  0.0376704 ,  0.02217859, ...,  0.06183554,\n",
       "          0.07304235, -0.07602087],\n",
       "        ...,\n",
       "        [-0.05476321,  0.02435652,  0.0157485 , ...,  0.02081129,\n",
       "          0.04306692,  0.03320137],\n",
       "        [ 0.0210858 ,  0.02618531, -0.01339316, ...,  0.06004364,\n",
       "          0.02237459,  0.05332505],\n",
       "        [ 0.04257518, -0.00107547, -0.07044645, ..., -0.06680346,\n",
       "         -0.01849078,  0.00867286]], dtype=float32),\n",
       " array([-0.09025808, -0.10448677, -0.24441741, -0.08228258, -0.2545651 ,\n",
       "        -0.04325168, -0.20715062, -0.08213672, -0.13385668, -0.13460222,\n",
       "        -0.11740938, -0.13050222, -0.17757794, -0.15680578, -0.15598157,\n",
       "        -0.2901936 , -0.11177443, -0.23616521, -0.19101404, -0.19122627,\n",
       "        -0.16976535, -0.14399715, -0.13394386, -0.15913896, -0.23692451,\n",
       "        -0.10072687, -0.2597148 , -0.1860264 , -0.1338619 , -0.2111846 ,\n",
       "        -0.11365265, -0.22311579, -0.16562611, -0.15142126, -0.05623142,\n",
       "        -0.17682123, -0.05680319, -0.13583794, -0.17299093, -0.25174034,\n",
       "        -0.17365344, -0.17967439, -0.13045321, -0.23145434, -0.17644754,\n",
       "        -0.14922914, -0.06458827, -0.28430018, -0.22982606, -0.23526236,\n",
       "        -0.2310205 , -0.17778559, -0.06645177, -0.16336921, -0.25449157,\n",
       "        -0.18590033, -0.1344716 , -0.12222823, -0.06680197, -0.14648755,\n",
       "        -0.2156068 , -0.20630363, -0.20629697, -0.15194708, -0.12661144,\n",
       "        -0.23333938, -0.26185516, -0.15463871, -0.14863789, -0.23024006,\n",
       "        -0.07635389, -0.22124332, -0.17457357, -0.00663588, -0.23866937,\n",
       "        -0.16814828, -0.20695338, -0.28343454, -0.13202979, -0.12875363,\n",
       "        -0.1666342 , -0.2584556 , -0.20228142, -0.21586545, -0.31182265,\n",
       "        -0.22715081, -0.11438702, -0.16602932, -0.15578197, -0.22155519,\n",
       "        -0.16647734, -0.15616006, -0.13532498, -0.19261535, -0.13819961,\n",
       "        -0.1608185 , -0.18556829, -0.21698855, -0.16308022, -0.23619582,\n",
       "        -0.11142124, -0.0672265 , -0.17595685, -0.08766962, -0.23061335,\n",
       "        -0.18411382, -0.10556863, -0.18676966, -0.1222614 , -0.08623782,\n",
       "        -0.12195745, -0.17774875, -0.14773944, -0.17451301, -0.18221262,\n",
       "        -0.25589302, -0.13215388, -0.11479542, -0.2770131 , -0.13472016,\n",
       "        -0.17036691, -0.19304451, -0.22571853, -0.17152587, -0.10434875,\n",
       "        -0.19631813, -0.20840931, -0.14944848, -0.27373454, -0.1375239 ,\n",
       "        -0.16340409, -0.2120751 , -0.13652137, -0.17298923, -0.09366548,\n",
       "        -0.14780968, -0.20676456, -0.12938799, -0.15518175, -0.10443555,\n",
       "        -0.19587393, -0.07604034, -0.21431078, -0.20140384, -0.09123905,\n",
       "        -0.21390742, -0.23032945, -0.29517168, -0.15353413, -0.08794801,\n",
       "        -0.15018624, -0.2544458 , -0.12745285, -0.0991422 , -0.25038996,\n",
       "        -0.12840573, -0.15514915, -0.15413012, -0.14079793, -0.16908951,\n",
       "        -0.09210244, -0.15708417, -0.18711221, -0.10250608, -0.14964469,\n",
       "        -0.06228766, -0.18564048, -0.16740286, -0.27782962, -0.15289266,\n",
       "        -0.2089849 , -0.08001743, -0.10640456, -0.2432488 , -0.16599515,\n",
       "        -0.17264132, -0.17219825, -0.23529057, -0.2283567 , -0.11205301,\n",
       "        -0.27191365, -0.1349754 , -0.1464108 , -0.24912581, -0.19945686,\n",
       "        -0.16519977, -0.24844158, -0.11810193, -0.13271719, -0.12221666,\n",
       "        -0.05905453, -0.2099162 , -0.10005014, -0.14939411, -0.20812273,\n",
       "        -0.22574352, -0.0871443 , -0.1682973 , -0.24048549, -0.10313008],\n",
       "       dtype=float32),\n",
       " array([[ 0.09453385, -0.12818989,  0.03701276, ..., -0.00571503,\n",
       "         -0.06682363, -0.08661989],\n",
       "        [-0.05372465, -0.33561713, -0.22638842, ..., -0.10059614,\n",
       "          0.22733302, -0.12200236],\n",
       "        [ 0.43619958,  0.05025722,  0.07914601, ...,  0.12843604,\n",
       "         -0.03655945,  0.17057236],\n",
       "        ...,\n",
       "        [ 0.29430142, -0.02101728, -0.17792642, ..., -0.23368661,\n",
       "          0.0524098 ,  0.265732  ],\n",
       "        [-0.06667272,  0.1330345 ,  0.12320007, ...,  0.08119541,\n",
       "         -0.08367023, -0.10924824],\n",
       "        [-0.19934724,  0.05624274,  0.20191796, ..., -0.18182474,\n",
       "          0.17653874,  0.08141864]], dtype=float32),\n",
       " array([ 0.04414786,  0.06625852,  0.1573877 ,  0.08304808, -0.10511341,\n",
       "         0.03365075, -0.02476236,  0.04432043,  0.03614199,  0.07224931,\n",
       "        -0.01488233,  0.06056033,  0.00875085, -0.02114176,  0.06134511,\n",
       "         0.06172081,  0.00377387, -0.04683518,  0.02821674, -0.02036781,\n",
       "        -0.02892216,  0.0030219 ,  0.00437864, -0.03428157,  0.01740916,\n",
       "        -0.0222996 ,  0.03725734, -0.03013117, -0.03202303,  0.05608307,\n",
       "         0.03396862,  0.13655542, -0.05583019, -0.00741376,  0.08835392,\n",
       "         0.16369942,  0.03546463,  0.03816497,  0.01697683,  0.02761359,\n",
       "        -0.04445419,  0.02997807,  0.00738701, -0.01283737, -0.09318037,\n",
       "         0.12062179,  0.0214737 ,  0.15535186,  0.12209303, -0.02895029,\n",
       "         0.11615852,  0.04787166, -0.0522199 ,  0.0496219 , -0.01260235,\n",
       "        -0.031585  ,  0.03803869, -0.09853254,  0.10459761,  0.02323254,\n",
       "        -0.00699859, -0.02576024, -0.00974954, -0.01625673, -0.00458842,\n",
       "         0.08954926, -0.01265758,  0.00355905,  0.10533707,  0.01145753,\n",
       "         0.01409339,  0.10114454, -0.05672153,  0.12570132,  0.07909707,\n",
       "        -0.06234897,  0.05327023, -0.00482791, -0.03437572,  0.14190075,\n",
       "         0.01166446, -0.00790095, -0.04278556,  0.08541165, -0.05570116,\n",
       "         0.08731878,  0.02534414,  0.02044984,  0.0407671 , -0.02836233,\n",
       "         0.14062366, -0.01017804,  0.0874691 ,  0.0058349 , -0.01198811,\n",
       "         0.09911322,  0.04717458,  0.16238764,  0.12266469, -0.01714842],\n",
       "       dtype=float32),\n",
       " array([1.1106068 , 0.9713401 , 0.97775286, 1.0916063 , 1.120918  ,\n",
       "        1.1397076 , 0.95449287, 0.89501095, 1.0856787 , 1.259794  ,\n",
       "        0.95878845, 0.9961557 , 0.8241213 , 1.0375189 , 1.268456  ,\n",
       "        0.91250944, 1.070865  , 1.0373389 , 0.9107602 , 1.0539466 ,\n",
       "        1.1968906 , 0.91027826, 0.7948595 , 1.0452889 , 0.9125874 ,\n",
       "        0.985842  , 0.8675648 , 0.9919059 , 1.0312601 , 0.9059333 ,\n",
       "        1.08863   , 1.0213475 , 0.8633658 , 1.0185318 , 0.9452394 ,\n",
       "        1.2932328 , 1.2707276 , 0.9801335 , 1.036847  , 1.0683544 ,\n",
       "        1.143969  , 0.93293756, 0.9686773 , 1.0365385 , 1.2840267 ,\n",
       "        0.9764292 , 0.95973283, 1.2384478 , 1.0810052 , 0.9112481 ,\n",
       "        1.0415937 , 1.183197  , 0.84989154, 1.2435678 , 0.92643785,\n",
       "        1.2987872 , 0.8392488 , 1.0182542 , 0.95453936, 0.9135783 ,\n",
       "        0.8941075 , 1.0898097 , 1.0202132 , 0.97546566, 0.8747232 ,\n",
       "        0.8552265 , 1.1419307 , 0.8323303 , 1.015219  , 1.1630849 ,\n",
       "        0.8104642 , 1.1405604 , 1.0891562 , 1.0758165 , 1.0810009 ,\n",
       "        0.9288504 , 1.1517246 , 0.77389854, 0.95320743, 0.98075056,\n",
       "        0.9601306 , 0.72443545, 1.0046356 , 0.9254144 , 1.1504328 ,\n",
       "        0.8307416 , 1.2525235 , 0.8217065 , 1.2352515 , 0.8771119 ,\n",
       "        1.009518  , 0.97023094, 1.1417676 , 0.98156667, 0.9391094 ,\n",
       "        1.2437171 , 1.0911148 , 0.9935657 , 1.0811731 , 0.7784551 ],\n",
       "       dtype=float32),\n",
       " array([ 0.09101887,  0.09013103, -0.11724029,  0.2010013 ,  0.13014048,\n",
       "         0.03464152,  0.07902931, -0.01997845,  0.22813368,  0.17494984,\n",
       "         0.16523601,  0.15783048,  0.13492799,  0.00319605,  0.13836855,\n",
       "         0.06190312,  0.09748229,  0.05060457, -0.03721983,  0.13598932,\n",
       "         0.08518125,  0.17785034,  0.06771224,  0.0424613 , -0.2866742 ,\n",
       "         0.07986671,  0.04369481, -0.00746318,  0.15039667,  0.0153588 ,\n",
       "         0.30384445, -0.01939623,  0.10859758,  0.10160346,  0.1399263 ,\n",
       "         0.13107266,  0.21583736,  0.11663228,  0.13843977,  0.09529395,\n",
       "         0.21251997,  0.21129297,  0.02233124,  0.11483028,  0.20891444,\n",
       "         0.04682677,  0.04158787,  0.15664487,  0.13733411,  0.06651972,\n",
       "         0.03483624,  0.16223845,  0.05240759,  0.1253903 ,  0.02927042,\n",
       "         0.09865628, -0.08065277,  0.14703874,  0.074779  , -0.05746707,\n",
       "         0.08638043, -0.02132023,  0.00680565,  0.12203595,  0.05757389,\n",
       "         0.04246162,  0.08429308,  0.19980769, -0.00270787,  0.07419199,\n",
       "        -0.08645894,  0.11830378,  0.10307951,  0.00285567,  0.04145214,\n",
       "         0.17608541,  0.09807561,  0.08661518,  0.07474067,  0.10806347,\n",
       "         0.04294772,  0.10617305,  0.21852165, -0.02627345,  0.15502802,\n",
       "        -0.02610621,  0.2810598 ,  0.11608891,  0.13102798,  0.10987382,\n",
       "        -0.08340344,  0.10435822,  0.06887254,  0.16144997,  0.14138806,\n",
       "         0.18644913,  0.17962041, -0.14826979,  0.13627928,  0.16542149],\n",
       "       dtype=float32),\n",
       " array([3.070133 , 2.0318594, 2.1143122, 5.3433204, 2.737036 , 1.9197098,\n",
       "        1.7023771, 2.876751 , 2.2223046, 2.0001884, 1.8794951, 2.472524 ,\n",
       "        1.7529546, 3.311309 , 6.0659127, 3.505299 , 5.065521 , 3.2907143,\n",
       "        3.0660827, 4.0066876, 6.1862087, 2.8498561, 1.284871 , 1.8034065,\n",
       "        1.7454529, 3.2157445, 5.0244575, 4.4156585, 1.1597863, 3.344288 ,\n",
       "        3.301593 , 2.6992054, 1.7061152, 1.6019572, 1.5729078, 4.4803796,\n",
       "        5.9477997, 3.5901961, 2.6154587, 3.1856368, 7.207604 , 2.8888266,\n",
       "        2.2273016, 1.874773 , 4.823153 , 3.9527004, 1.8785036, 2.2680273,\n",
       "        3.937972 , 2.4931555, 2.7152135, 1.8864857, 2.4008398, 2.3048482,\n",
       "        2.1409173, 2.9423826, 1.5142148, 0.6183989, 1.7038683, 2.5168443,\n",
       "        3.646369 , 3.179277 , 1.8803996, 4.2465396, 3.5101757, 2.1242344,\n",
       "        5.037517 , 5.757527 , 3.4436138, 3.8080473, 1.3974885, 2.391145 ,\n",
       "        4.3251314, 2.7900553, 2.8149137, 4.0885243, 2.6885085, 3.9467165,\n",
       "        2.2416172, 3.0347157, 2.8450415, 1.6352116, 2.4513006, 1.9896277,\n",
       "        6.808545 , 1.3783525, 2.842254 , 1.4573054, 3.2390227, 1.199431 ,\n",
       "        3.9022665, 4.492662 , 2.804768 , 4.0828853, 2.3766274, 3.628642 ,\n",
       "        2.108967 , 1.6351345, 2.9281833, 6.138059 ], dtype=float32),\n",
       " array([26.830975 , 18.355526 , 12.531915 , 32.485886 , 22.3331   ,\n",
       "        13.002007 ,  9.69833  , 20.497082 , 15.723616 , 14.661564 ,\n",
       "        11.795103 , 14.228629 ,  8.312327 , 26.717512 , 46.461338 ,\n",
       "        18.356657 , 32.484623 , 22.340645 , 17.32691  , 21.164225 ,\n",
       "        45.717747 , 14.8524275,  7.446198 , 12.521323 , 11.406551 ,\n",
       "        20.327248 , 24.67205  , 20.095177 ,  5.8982353, 17.73103  ,\n",
       "        21.655264 , 16.8203   ,  9.673031 , 10.5915785,  9.161377 ,\n",
       "        34.758465 , 45.21688  , 21.672054 , 20.623234 , 25.379848 ,\n",
       "        36.61109  , 16.123531 , 14.278174 , 12.918758 , 43.892727 ,\n",
       "        24.890232 , 12.591893 , 15.714369 , 25.856794 , 15.783038 ,\n",
       "        18.143255 , 12.216466 , 15.084065 , 16.522053 , 11.615631 ,\n",
       "        23.436134 ,  8.900736 ,  3.3183546, 10.161216 , 13.931427 ,\n",
       "        25.248966 , 24.47834  , 13.069419 , 29.254656 , 16.839314 ,\n",
       "        13.38658  , 29.72831  , 28.849792 , 19.578924 , 33.46653  ,\n",
       "         8.252887 , 17.119112 , 28.34632  , 16.450308 , 16.681358 ,\n",
       "        26.4325   , 21.921019 , 20.434906 , 15.709671 , 17.190966 ,\n",
       "        17.045916 ,  9.831037 , 16.843924 , 12.781925 , 46.812023 ,\n",
       "         5.096285 , 21.521511 ,  7.7944074, 23.783878 ,  6.016342 ,\n",
       "        25.529655 , 28.415995 , 17.044928 , 22.586655 , 16.636656 ,\n",
       "        29.860464 , 16.527737 ,  8.935686 , 18.632849 , 23.670467 ],\n",
       "       dtype=float32),\n",
       " array([[ 0.04892306, -0.01547753, -0.26804334, ..., -0.04136199,\n",
       "          0.37392944, -0.09737672],\n",
       "        [-0.2743983 ,  0.00961894, -0.23448996, ..., -0.2151505 ,\n",
       "          0.00064701,  0.11388439],\n",
       "        [-0.00180961,  0.12449183,  0.178038  , ..., -0.27582186,\n",
       "         -0.00833369,  0.07426468],\n",
       "        ...,\n",
       "        [-0.04315717,  0.19765723, -0.15528361, ..., -0.02281339,\n",
       "          0.04972767, -0.01338891],\n",
       "        [-0.21038795, -0.23502555, -0.21873824, ...,  0.00192066,\n",
       "          0.07434941,  0.13377874],\n",
       "        [-0.07065433, -0.40254453, -0.06647931, ...,  0.21817818,\n",
       "          0.02241907, -0.19633035]], dtype=float32),\n",
       " array([-0.091002  , -0.16703849,  0.07740747,  0.14972606, -0.0655475 ,\n",
       "         0.16006385,  0.25194284,  0.07591388, -0.02832395,  0.06304263,\n",
       "        -0.16667886,  0.08980316,  0.10246572, -0.05632973, -0.01624102,\n",
       "         0.25040594, -0.12228782, -0.08118162,  0.15493003, -0.12706213,\n",
       "         0.15760182, -0.0537657 ,  0.17319064,  0.23053296,  0.18926916,\n",
       "         0.07631709,  0.04048124,  0.11779369,  0.16788866,  0.09677652,\n",
       "        -0.05169877, -0.04698657,  0.06381816, -0.0080005 , -0.07028045,\n",
       "         0.05793026, -0.03983697,  0.07923384,  0.04827645,  0.02194769,\n",
       "        -0.04500803,  0.02471558, -0.14620528,  0.06266804, -0.05732002,\n",
       "         0.09975312,  0.06078587,  0.05228861,  0.13710286, -0.1188961 ,\n",
       "        -0.05102539,  0.01121813,  0.07471134, -0.02951658, -0.12326815,\n",
       "        -0.10442363, -0.18157189,  0.12206107,  0.02509651, -0.11732554],\n",
       "       dtype=float32),\n",
       " array([0.68967986, 0.88833755, 0.8596627 , 1.1698788 , 0.97081345,\n",
       "        0.59281033, 0.8232991 , 0.73320735, 0.95156276, 0.66366494,\n",
       "        0.8490907 , 0.9019742 , 0.86590576, 1.0206561 , 0.7540711 ,\n",
       "        0.7418507 , 0.80325615, 0.8379642 , 0.72298473, 0.7602515 ,\n",
       "        0.7660922 , 0.6006714 , 0.8109824 , 1.1690743 , 1.1411376 ,\n",
       "        0.75128514, 0.91734445, 0.8147385 , 0.9633584 , 0.57863235,\n",
       "        0.83901083, 0.7146928 , 0.83541304, 0.7222602 , 0.81731   ,\n",
       "        0.9343801 , 0.816351  , 0.6719971 , 0.71081066, 0.6308188 ,\n",
       "        0.92168206, 0.7751813 , 0.7969952 , 1.0507339 , 0.80230373,\n",
       "        0.7729895 , 0.6028617 , 0.7005609 , 0.7471894 , 0.94384515,\n",
       "        0.72558635, 0.88522667, 1.1749794 , 0.73712766, 0.95764667,\n",
       "        0.760207  , 0.7871888 , 1.0031365 , 0.7008909 , 0.7453334 ],\n",
       "       dtype=float32),\n",
       " array([ 0.16008557,  0.10085217,  0.12772498,  0.03730693,  0.1592605 ,\n",
       "         0.26787212,  0.04275203,  0.04625194,  0.08334536, -0.09385668,\n",
       "         0.10168065,  0.21358682,  0.1318986 ,  0.29385996, -0.03021645,\n",
       "         0.08043   ,  0.13733774,  0.04881956,  0.1293573 , -0.05219397,\n",
       "         0.12537831,  0.08674002,  0.07796241,  0.24725825,  0.26767096,\n",
       "         0.04560795,  0.15126845,  0.04093772,  0.05790436,  0.12011994,\n",
       "         0.04057873,  0.06676281,  0.17169239, -0.01328418,  0.12580785,\n",
       "         0.19334216,  0.02457898,  0.08194845,  0.17596686,  0.2025505 ,\n",
       "         0.2096367 ,  0.06863261,  0.06295434,  0.2224986 ,  0.08897986,\n",
       "         0.23520653, -0.00173752,  0.12009862,  0.06265227,  0.15188415,\n",
       "         0.09519992,  0.1167809 ,  0.12190898,  0.01947553,  0.14276856,\n",
       "         0.09312197,  0.0774071 ,  0.1691358 , -0.04462032,  0.13461946],\n",
       "       dtype=float32),\n",
       " array([1.135524 , 1.2364854, 1.858982 , 1.2530408, 1.2922997, 0.8366126,\n",
       "        1.2980981, 1.3047087, 1.8592257, 1.1478384, 1.0691453, 1.7568874,\n",
       "        1.2655154, 1.6010895, 1.3578948, 1.7763062, 1.2002202, 1.3720555,\n",
       "        1.2760187, 1.1304044, 1.4271481, 1.1382585, 1.2048259, 1.9367436,\n",
       "        1.9213969, 1.3130585, 1.6871325, 1.3049357, 1.8433954, 1.3743286,\n",
       "        1.333414 , 0.9250418, 1.6576618, 1.2581418, 1.309815 , 1.6117294,\n",
       "        1.360762 , 1.0586945, 1.3966378, 0.933846 , 1.0907973, 1.0129617,\n",
       "        1.0383817, 1.8143424, 1.0062666, 1.4078305, 1.1228092, 1.0518703,\n",
       "        1.5781232, 1.1340758, 1.1994344, 1.4601943, 1.9161628, 0.9692063,\n",
       "        1.3041433, 1.1135089, 0.8347255, 2.295904 , 1.2172908, 1.0660387],\n",
       "       dtype=float32),\n",
       " array([3.1192553, 3.230874 , 7.0102425, 7.805499 , 4.3307037, 1.456081 ,\n",
       "        3.2717762, 2.8428974, 6.5476046, 2.6371608, 2.8866224, 6.0197153,\n",
       "        2.9670863, 6.7397842, 3.2445316, 4.0183134, 4.6240487, 3.4340181,\n",
       "        3.4803033, 2.8404033, 3.2940075, 2.9597173, 2.7847703, 6.765777 ,\n",
       "        7.186428 , 4.0739613, 5.852614 , 2.5084603, 5.990858 , 3.775275 ,\n",
       "        3.7812538, 2.224607 , 5.6390996, 2.9906132, 3.1286664, 5.6346254,\n",
       "        3.5098875, 2.7903886, 3.5396724, 2.657233 , 3.0493171, 2.7225645,\n",
       "        2.8744261, 6.9472184, 2.2001958, 3.5260231, 2.2322013, 2.1508448,\n",
       "        4.2371464, 3.6203294, 3.186457 , 5.3476586, 6.89581  , 1.4779959,\n",
       "        3.8387067, 3.3064644, 2.3843994, 8.043197 , 2.5702705, 3.3887937],\n",
       "       dtype=float32),\n",
       " array([[ 0.10708918,  0.02916982,  0.07209899, ...,  0.24966903,\n",
       "         -0.13777593,  0.14502177],\n",
       "        [ 0.40165034, -0.32243958,  0.06980085, ..., -0.00950243,\n",
       "          0.31173453,  0.21013837],\n",
       "        [-0.28569597,  0.24101609,  0.07684891, ...,  0.31211403,\n",
       "          0.01581023,  0.05924108],\n",
       "        ...,\n",
       "        [ 0.41445506,  0.10608015,  0.16682947, ..., -0.14095351,\n",
       "          0.5228187 , -0.12172327],\n",
       "        [ 0.17176926, -0.04162575, -0.02581892, ..., -0.06198413,\n",
       "         -0.00071303,  0.06679067],\n",
       "        [-0.20821941,  0.02304803, -0.18619008, ..., -0.02064073,\n",
       "         -0.1986485 , -0.1366548 ]], dtype=float32),\n",
       " array([ 0.05874672, -0.29152107, -0.10184619, -0.16083294, -0.29673195,\n",
       "        -0.02877741, -0.08885351, -0.1460716 , -0.09120803, -0.19487648,\n",
       "        -0.06031365,  0.08301897, -0.19642513,  0.05460658, -0.0724596 ,\n",
       "        -0.3783036 , -0.08001556, -0.00765545,  0.06498936, -0.00594886,\n",
       "        -0.29930747, -0.08963887,  0.0110046 , -0.31066132,  0.1796688 ,\n",
       "         0.12375086,  0.0566944 , -0.14277667, -0.30396578, -0.18361239],\n",
       "       dtype=float32),\n",
       " array([[ 0.542678  ,  0.38418812, -0.30912456, -0.28877282,  0.4337457 ,\n",
       "         -0.54737365, -0.3411581 ,  0.34130368,  0.32440382, -0.2199893 ],\n",
       "        [-0.4880829 ,  0.4573779 , -0.32206118, -0.00845555, -0.3597275 ,\n",
       "          0.44042984, -0.38595363,  0.38151655, -0.17738399,  0.08591764],\n",
       "        [-0.30741978, -0.10147717,  0.53747696,  0.514357  , -0.19757892,\n",
       "         -0.05776208,  0.60122496,  0.5410393 , -0.23023212, -0.21743153],\n",
       "        [-0.54718935, -0.01899764, -0.35603532,  0.4443399 ,  0.6217525 ,\n",
       "         -0.2178191 , -0.32985696,  0.55368817, -0.28369135,  0.49581966],\n",
       "        [-0.5749255 , -0.00890728,  0.45019636, -0.1309526 ,  0.47918296,\n",
       "         -0.10539973, -0.3235255 ,  0.4169428 , -0.46617326, -0.2592686 ],\n",
       "        [-0.19815156,  0.62343097,  0.60738885,  0.52028495, -0.19670579,\n",
       "          0.5798769 , -0.10923994, -0.14409186, -0.08145759, -0.38420773],\n",
       "        [-0.5388155 ,  0.5732988 ,  0.52123356,  0.53278816, -0.35154098,\n",
       "         -0.14837436, -0.29906538,  0.5398041 , -0.04167152, -0.31187227],\n",
       "        [ 0.05697251, -0.28982845,  0.5742017 ,  0.57557786,  0.00327075,\n",
       "         -0.1153104 , -0.4858474 , -0.1963529 ,  0.5583094 ,  0.5714242 ],\n",
       "        [-0.43432984, -0.13756195,  0.4351845 , -0.42040464,  0.48804095,\n",
       "         -0.10891127,  0.46588257, -0.1439326 , -0.30421272,  0.3787    ],\n",
       "        [ 0.36881125,  0.3721387 , -0.09017093, -0.4864562 , -0.2311186 ,\n",
       "         -0.375747  ,  0.3982872 , -0.188423  , -0.3238753 ,  0.20263846],\n",
       "        [ 0.6116945 , -0.39681312, -0.02843994, -0.1485305 , -0.44776505,\n",
       "          0.5573298 , -0.15670697,  0.49089506,  0.49680045,  0.09226407],\n",
       "        [-0.7258471 ,  0.48731387, -0.24867181,  0.47667247,  0.56031835,\n",
       "          0.574816  , -0.69808394, -0.11074854, -0.10598303,  0.5757957 ],\n",
       "        [ 0.43296033, -0.50959605,  0.47085428, -0.23792168, -0.378108  ,\n",
       "         -0.26725647, -0.43083945,  0.40592262, -0.24272884,  0.33507192],\n",
       "        [-0.3058397 ,  0.5640543 , -0.13356073, -0.35700873,  0.45723525,\n",
       "          0.40267867,  0.5552453 , -0.27190024,  0.37813658, -0.29430857],\n",
       "        [-0.21544825, -0.0557619 ,  0.6421015 ,  0.6061811 , -0.4374607 ,\n",
       "         -0.14247462, -0.53004706,  0.52260554,  0.5523642 , -0.19002381],\n",
       "        [-0.4775456 ,  0.4056351 , -0.39811155, -0.01399673, -0.2634647 ,\n",
       "         -0.58077914, -0.52295125, -0.07209904,  0.31770882,  0.28120556],\n",
       "        [ 0.59890944, -0.26714507,  0.36108968, -0.4306189 ,  0.47897452,\n",
       "         -0.4162891 ,  0.4551879 , -0.35978568, -0.293696  ,  0.33915302],\n",
       "        [ 0.36930555, -0.55833495, -0.47836256, -0.28845906, -0.11336611,\n",
       "          0.44145322, -0.32199234,  0.4078795 , -0.32238886,  0.3387948 ],\n",
       "        [-0.47960135,  0.5809586 , -0.41347298,  0.27506688,  0.55550474,\n",
       "         -0.20297828, -0.23332511,  0.5840978 , -0.00397994,  0.6322527 ],\n",
       "        [-0.7332427 , -0.5315813 , -0.4148084 ,  0.49147955,  0.4768916 ,\n",
       "          0.51722866, -0.5663485 , -0.221955  ,  0.47368446,  0.5325157 ],\n",
       "        [-0.04295606,  0.6747478 , -0.0044141 , -0.01257417, -0.21430297,\n",
       "          0.0769725 ,  0.5568697 , -0.19920573,  0.48278952, -0.42175463],\n",
       "        [ 0.5695953 , -0.33506823, -0.28373352,  0.41481397,  0.46787247,\n",
       "         -0.15895121,  0.42410105, -0.4235837 , -0.11375271, -0.36837354],\n",
       "        [-0.62082326, -0.11057886, -0.2459058 ,  0.40671447, -0.43421218,\n",
       "         -0.06836205, -0.6592878 ,  0.39858273,  0.45599654,  0.38229156],\n",
       "        [ 0.4994919 , -0.49166694,  0.00809257,  0.43634382, -0.6579461 ,\n",
       "          0.47773197, -0.3062389 , -0.41644803, -0.14628609, -0.21225576],\n",
       "        [ 0.42518935,  0.47030008,  0.45607826,  0.41314876, -0.37681523,\n",
       "         -0.45399594, -0.20925242, -0.40051052,  0.4019561 , -0.3687611 ],\n",
       "        [ 0.54810584, -0.48681042, -0.3118457 ,  0.41800654, -0.36980796,\n",
       "          0.47252616,  0.55246514, -0.21669826, -0.24852   ,  0.31764045],\n",
       "        [ 0.49330258, -0.52625144, -0.3120085 , -0.18831939, -0.35913044,\n",
       "          0.4857059 ,  0.4921415 , -0.40447524,  0.4536076 ,  0.37846684],\n",
       "        [-0.35254648, -0.15566856, -0.4264448 ,  0.46730497, -0.6254733 ,\n",
       "          0.45553976,  0.5123901 , -0.30269808,  0.05182027, -0.28975493],\n",
       "        [-0.32665542, -0.5201242 , -0.26393628, -0.49849287,  0.3848546 ,\n",
       "          0.00385901,  0.4013719 , -0.18150842,  0.39697316, -0.14698005],\n",
       "        [-0.21204548, -0.14178108,  0.469733  ,  0.00411957, -0.41037303,\n",
       "          0.49829534,  0.5086483 , -0.6421985 ,  0.48778164, -0.2644613 ]],\n",
       "       dtype=float32),\n",
       " array([-0.03145408, -0.00090361,  0.37090734, -0.67551976,  0.6241509 ,\n",
       "        -0.07414617, -0.24823539,  0.20403197,  0.04953335, -0.21840091],\n",
       "       dtype=float32)]"
      ]
     },
     "execution_count": 62,
     "metadata": {},
     "output_type": "execute_result"
    }
   ],
   "source": [
    "model.get_weights()"
   ]
  },
  {
   "cell_type": "code",
   "execution_count": 56,
   "metadata": {
    "id": "CKZ7-LXUOGry"
   },
   "outputs": [],
   "source": [
    "#Save the model in current directory\n",
    "model.save('mnist_dnn_v1.h5')"
   ]
  },
  {
   "cell_type": "markdown",
   "metadata": {
    "id": "movBsiduFlld"
   },
   "source": [
    "### Downloading the model on local machine from google colab"
   ]
  },
  {
   "cell_type": "code",
   "execution_count": 64,
   "metadata": {
    "id": "SDeJUanOM8xO"
   },
   "outputs": [],
   "source": [
    "# from google.colab import files\n",
    "# files.download('mnist_dnn_v1.h5')"
   ]
  },
  {
   "cell_type": "markdown",
   "metadata": {
    "id": "o3p9qJTFFuUS"
   },
   "source": [
    "### Model Prediction"
   ]
  },
  {
   "cell_type": "code",
   "execution_count": 144,
   "metadata": {
    "id": "ToXxgw8i-gcQ"
   },
   "outputs": [],
   "source": [
    "import numpy as np"
   ]
  },
  {
   "cell_type": "code",
   "execution_count": 145,
   "metadata": {
    "id": "7wKsQvi93GOY"
   },
   "outputs": [],
   "source": [
    "#Check if model is available in current directory\n",
    "# !ls -l"
   ]
  },
  {
   "cell_type": "code",
   "execution_count": 146,
   "metadata": {
    "id": "7uUcaIZw-CHH"
   },
   "outputs": [],
   "source": [
    "#Load the model in memory\n",
    "model = tf.keras.models.load_model('mnist_dnn_v1.h5')"
   ]
  },
  {
   "cell_type": "code",
   "execution_count": 147,
   "metadata": {
    "id": "Vw6RNxyS-R6G"
   },
   "outputs": [
    {
     "name": "stdout",
     "output_type": "stream",
     "text": [
      "Model: \"sequential\"\n",
      "_________________________________________________________________\n",
      "Layer (type)                 Output Shape              Param #   \n",
      "=================================================================\n",
      "reshape (Reshape)            (None, 784)               0         \n",
      "_________________________________________________________________\n",
      "batch_normalization (BatchNo (None, 784)               3136      \n",
      "_________________________________________________________________\n",
      "dense (Dense)                (None, 200)               157000    \n",
      "_________________________________________________________________\n",
      "dropout (Dropout)            (None, 200)               0         \n",
      "_________________________________________________________________\n",
      "dense_1 (Dense)              (None, 100)               20100     \n",
      "_________________________________________________________________\n",
      "batch_normalization_1 (Batch (None, 100)               400       \n",
      "_________________________________________________________________\n",
      "dense_2 (Dense)              (None, 60)                6060      \n",
      "_________________________________________________________________\n",
      "batch_normalization_2 (Batch (None, 60)                240       \n",
      "_________________________________________________________________\n",
      "dense_3 (Dense)              (None, 30)                1830      \n",
      "_________________________________________________________________\n",
      "dropout_1 (Dropout)          (None, 30)                0         \n",
      "_________________________________________________________________\n",
      "dense_4 (Dense)              (None, 10)                310       \n",
      "=================================================================\n",
      "Total params: 189,076\n",
      "Trainable params: 187,188\n",
      "Non-trainable params: 1,888\n",
      "_________________________________________________________________\n"
     ]
    }
   ],
   "source": [
    "#Review the model (optional)\n",
    "model.summary()"
   ]
  },
  {
   "cell_type": "code",
   "execution_count": 148,
   "metadata": {
    "id": "SS7x9cawOVrf"
   },
   "outputs": [
    {
     "data": {
      "text/plain": [
       "<tf.Tensor 'reshape_input_4:0' shape=(None, 28, 28) dtype=float32>"
      ]
     },
     "execution_count": 148,
     "metadata": {},
     "output_type": "execute_result"
    }
   ],
   "source": [
    "#What should be the shape of model input\n",
    "model.input"
   ]
  },
  {
   "cell_type": "code",
   "execution_count": 149,
   "metadata": {
    "id": "iIXUb0DSOj46"
   },
   "outputs": [
    {
     "data": {
      "text/plain": [
       "(28, 28)"
      ]
     },
     "execution_count": 149,
     "metadata": {},
     "output_type": "execute_result"
    }
   ],
   "source": [
    "#Shape of each example in test dataset\n",
    "testX[0].shape"
   ]
  },
  {
   "cell_type": "code",
   "execution_count": 150,
   "metadata": {},
   "outputs": [
    {
     "data": {
      "text/plain": [
       "array([0., 0., 0., 0., 0., 0., 0., 1., 0., 0.], dtype=float32)"
      ]
     },
     "execution_count": 150,
     "metadata": {},
     "output_type": "execute_result"
    }
   ],
   "source": [
    "testY[0]"
   ]
  },
  {
   "cell_type": "code",
   "execution_count": 151,
   "metadata": {
    "id": "qTPk1-1-OnMN"
   },
   "outputs": [
    {
     "data": {
      "text/plain": [
       "(1, 28, 28)"
      ]
     },
     "execution_count": 151,
     "metadata": {},
     "output_type": "execute_result"
    }
   ],
   "source": [
    "#Make it 3 dimension data\n",
    "input_data = np.expand_dims(testX[0], axis=0)\n",
    "input_data.shape"
   ]
  },
  {
   "cell_type": "code",
   "execution_count": 152,
   "metadata": {
    "id": "kF2Pc1xZxmn_"
   },
   "outputs": [
    {
     "data": {
      "text/plain": [
       "array([[2.56858812e-10, 4.86474562e-07, 7.16712876e-08, 1.33716485e-05,\n",
       "        8.95649421e-08, 1.80825765e-07, 1.09909009e-11, 9.99975324e-01,\n",
       "        2.01880439e-07, 1.02019540e-05]], dtype=float32)"
      ]
     },
     "execution_count": 152,
     "metadata": {},
     "output_type": "execute_result"
    }
   ],
   "source": [
    "#Model prediction\n",
    "pred = model.predict(input_data)\n",
    "pred"
   ]
  },
  {
   "cell_type": "code",
   "execution_count": 153,
   "metadata": {
    "id": "81RPh-28PQRE"
   },
   "outputs": [
    {
     "data": {
      "text/plain": [
       "(1, 10)"
      ]
     },
     "execution_count": 153,
     "metadata": {},
     "output_type": "execute_result"
    }
   ],
   "source": [
    "#Model prediction shape\n",
    "pred.shape"
   ]
  },
  {
   "cell_type": "code",
   "execution_count": 154,
   "metadata": {
    "id": "ZHX4aemJzRRF"
   },
   "outputs": [
    {
     "data": {
      "text/plain": [
       "array([2.56858812e-10, 4.86474562e-07, 7.16712876e-08, 1.33716485e-05,\n",
       "       8.95649421e-08, 1.80825765e-07, 1.09909009e-11, 9.99975324e-01,\n",
       "       2.01880439e-07, 1.02019540e-05], dtype=float32)"
      ]
     },
     "execution_count": 154,
     "metadata": {},
     "output_type": "execute_result"
    }
   ],
   "source": [
    "#Model prediction for first example\n",
    "pred[0]"
   ]
  },
  {
   "cell_type": "code",
   "execution_count": 163,
   "metadata": {},
   "outputs": [
    {
     "name": "stdout",
     "output_type": "stream",
     "text": [
      "7\n"
     ]
    }
   ],
   "source": [
    "max = 0\n",
    "for i in pred[0]:\n",
    "    if max<i:\n",
    "        max = i\n",
    "\n",
    "for i,pre in enumerate(pred[0]):\n",
    "    if max == pre:\n",
    "        print(i)\n",
    "        break"
   ]
  },
  {
   "cell_type": "code",
   "execution_count": 164,
   "metadata": {},
   "outputs": [
    {
     "name": "stdout",
     "output_type": "stream",
     "text": [
      "[0. 0. 0. 0. 0. 0. 0. 1. 0. 0.]\n"
     ]
    }
   ],
   "source": [
    "print(testY[0])"
   ]
  },
  {
   "cell_type": "code",
   "execution_count": 156,
   "metadata": {
    "id": "QXuDg_kTzoFS"
   },
   "outputs": [
    {
     "data": {
      "text/plain": [
       "7"
      ]
     },
     "execution_count": 156,
     "metadata": {},
     "output_type": "execute_result"
    }
   ],
   "source": [
    "#Find the index of highest probability value\n",
    "np.argmax(pred[0])"
   ]
  },
  {
   "cell_type": "code",
   "execution_count": 157,
   "metadata": {
    "id": "Oq28b6Q60bGm"
   },
   "outputs": [
    {
     "data": {
      "text/plain": [
       "7"
      ]
     },
     "execution_count": 157,
     "metadata": {},
     "output_type": "execute_result"
    }
   ],
   "source": [
    "#Actual label # Which index of the list have the highest value.\n",
    "np.argmax(testY[0])"
   ]
  },
  {
   "cell_type": "code",
   "execution_count": 158,
   "metadata": {
    "id": "C_dlOJjQzzPa"
   },
   "outputs": [
    {
     "data": {
      "text/plain": [
       "<matplotlib.image.AxesImage at 0x25f9d8e3388>"
      ]
     },
     "execution_count": 158,
     "metadata": {},
     "output_type": "execute_result"
    },
    {
     "data": {
      "image/png": "[encoded data removed]",
      "text/plain": [
       "<Figure size 432x288 with 1 Axes>"
      ]
     },
     "metadata": {
      "needs_background": "light"
     },
     "output_type": "display_data"
    }
   ],
   "source": [
    "#Lets print the image as well\n",
    "import matplotlib.pyplot as plt\n",
    "plt.imshow(testX[0],cmap='gray')"
   ]
  }
 ],
 "metadata": {
  "colab": {
   "collapsed_sections": [],
   "name": "1. Classification_MNIST_DNN_Keras.ipynb",
   "private_outputs": true,
   "provenance": []
  },
  "kernelspec": {
   "display_name": "Python 3",
   "language": "python",
   "name": "python3"
  },
  "language_info": {
   "codemirror_mode": {
    "name": "ipython",
    "version": 3
   },
   "file_extension": ".py",
   "mimetype": "text/x-python",
   "name": "python",
   "nbconvert_exporter": "python",
   "pygments_lexer": "ipython3",
   "version": "3.7.9"
  }
 },
 "nbformat": 4,
 "nbformat_minor": 1
}
