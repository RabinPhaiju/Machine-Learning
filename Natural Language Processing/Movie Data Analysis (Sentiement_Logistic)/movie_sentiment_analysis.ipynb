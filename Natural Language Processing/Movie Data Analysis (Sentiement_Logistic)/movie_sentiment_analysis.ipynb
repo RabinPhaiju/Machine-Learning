{
 "cells": [
  {
   "cell_type": "markdown",
   "source": [
    "## Dataset description: <br>\n",
    "IMDB dataset having 50K movie reviews for natural language processing or Text analytics.\n",
    "This is a dataset for binary sentiment classification containing substantially more data than previous benchmark datasets. We provide a set of 25,000 highly polar movie reviews for training and 25,000 for testing. So, predict the number of positive and negative reviews using either classification or deep learning algorithms."
   ],
   "metadata": {
    "id": "POQvaNYb25Ta"
   }
  },
  {
   "cell_type": "code",
   "execution_count": 1,
   "source": [
    "import numpy as np\r\n",
    "import pandas as pd"
   ],
   "outputs": [],
   "metadata": {}
  },
  {
   "cell_type": "code",
   "execution_count": 2,
   "source": [
    "data=pd.read_csv(\"IMDB_Dataset.csv\")\r\n",
    "data.head()"
   ],
   "outputs": [
    {
     "output_type": "execute_result",
     "data": {
      "text/plain": [
       "                                              review sentiment\n",
       "0  One of the other reviewers has mentioned that ...  positive\n",
       "1  A wonderful little production. <br /><br />The...  positive\n",
       "2  I thought this was a wonderful way to spend ti...  positive\n",
       "3  Basically there's a family where a little boy ...  negative\n",
       "4  Petter Mattei's \"Love in the Time of Money\" is...  positive"
      ],
      "text/html": [
       "<div>\n",
       "<style scoped>\n",
       "    .dataframe tbody tr th:only-of-type {\n",
       "        vertical-align: middle;\n",
       "    }\n",
       "\n",
       "    .dataframe tbody tr th {\n",
       "        vertical-align: top;\n",
       "    }\n",
       "\n",
       "    .dataframe thead th {\n",
       "        text-align: right;\n",
       "    }\n",
       "</style>\n",
       "<table border=\"1\" class=\"dataframe\">\n",
       "  <thead>\n",
       "    <tr style=\"text-align: right;\">\n",
       "      <th></th>\n",
       "      <th>review</th>\n",
       "      <th>sentiment</th>\n",
       "    </tr>\n",
       "  </thead>\n",
       "  <tbody>\n",
       "    <tr>\n",
       "      <th>0</th>\n",
       "      <td>One of the other reviewers has mentioned that ...</td>\n",
       "      <td>positive</td>\n",
       "    </tr>\n",
       "    <tr>\n",
       "      <th>1</th>\n",
       "      <td>A wonderful little production. &lt;br /&gt;&lt;br /&gt;The...</td>\n",
       "      <td>positive</td>\n",
       "    </tr>\n",
       "    <tr>\n",
       "      <th>2</th>\n",
       "      <td>I thought this was a wonderful way to spend ti...</td>\n",
       "      <td>positive</td>\n",
       "    </tr>\n",
       "    <tr>\n",
       "      <th>3</th>\n",
       "      <td>Basically there's a family where a little boy ...</td>\n",
       "      <td>negative</td>\n",
       "    </tr>\n",
       "    <tr>\n",
       "      <th>4</th>\n",
       "      <td>Petter Mattei's \"Love in the Time of Money\" is...</td>\n",
       "      <td>positive</td>\n",
       "    </tr>\n",
       "  </tbody>\n",
       "</table>\n",
       "</div>"
      ]
     },
     "metadata": {},
     "execution_count": 2
    }
   ],
   "metadata": {
    "id": "DQgpaxkFusT8"
   }
  },
  {
   "cell_type": "code",
   "execution_count": 3,
   "source": [
    "data.isnull().any()"
   ],
   "outputs": [
    {
     "output_type": "execute_result",
     "data": {
      "text/plain": [
       "review       False\n",
       "sentiment    False\n",
       "dtype: bool"
      ]
     },
     "metadata": {},
     "execution_count": 3
    }
   ],
   "metadata": {
    "colab": {
     "base_uri": "https://localhost:8080/"
    },
    "id": "6b1cyXSXzbuO",
    "outputId": "030ce6ef-3b26-4412-f50d-0876101f3f9f"
   }
  },
  {
   "cell_type": "code",
   "execution_count": 4,
   "source": [
    "data.isnull().sum()"
   ],
   "outputs": [
    {
     "output_type": "execute_result",
     "data": {
      "text/plain": [
       "review       0\n",
       "sentiment    0\n",
       "dtype: int64"
      ]
     },
     "metadata": {},
     "execution_count": 4
    }
   ],
   "metadata": {
    "colab": {
     "base_uri": "https://localhost:8080/"
    },
    "id": "LGAG2enjzdXe",
    "outputId": "658fbf45-cb47-4eb9-853d-9983a113390a"
   }
  },
  {
   "cell_type": "code",
   "execution_count": 5,
   "source": [
    "data.describe()"
   ],
   "outputs": [
    {
     "output_type": "execute_result",
     "data": {
      "text/plain": [
       "                                                   review sentiment\n",
       "count                                               50000     50000\n",
       "unique                                              49582         2\n",
       "top     Loved today's show!!! It was a variety and not...  negative\n",
       "freq                                                    5     25000"
      ],
      "text/html": [
       "<div>\n",
       "<style scoped>\n",
       "    .dataframe tbody tr th:only-of-type {\n",
       "        vertical-align: middle;\n",
       "    }\n",
       "\n",
       "    .dataframe tbody tr th {\n",
       "        vertical-align: top;\n",
       "    }\n",
       "\n",
       "    .dataframe thead th {\n",
       "        text-align: right;\n",
       "    }\n",
       "</style>\n",
       "<table border=\"1\" class=\"dataframe\">\n",
       "  <thead>\n",
       "    <tr style=\"text-align: right;\">\n",
       "      <th></th>\n",
       "      <th>review</th>\n",
       "      <th>sentiment</th>\n",
       "    </tr>\n",
       "  </thead>\n",
       "  <tbody>\n",
       "    <tr>\n",
       "      <th>count</th>\n",
       "      <td>50000</td>\n",
       "      <td>50000</td>\n",
       "    </tr>\n",
       "    <tr>\n",
       "      <th>unique</th>\n",
       "      <td>49582</td>\n",
       "      <td>2</td>\n",
       "    </tr>\n",
       "    <tr>\n",
       "      <th>top</th>\n",
       "      <td>Loved today's show!!! It was a variety and not...</td>\n",
       "      <td>negative</td>\n",
       "    </tr>\n",
       "    <tr>\n",
       "      <th>freq</th>\n",
       "      <td>5</td>\n",
       "      <td>25000</td>\n",
       "    </tr>\n",
       "  </tbody>\n",
       "</table>\n",
       "</div>"
      ]
     },
     "metadata": {},
     "execution_count": 5
    }
   ],
   "metadata": {
    "colab": {
     "base_uri": "https://localhost:8080/",
     "height": 173
    },
    "id": "x5015AXvzhhL",
    "outputId": "2a97bf7a-7816-45ac-bdb2-63274de0bfb8"
   }
  },
  {
   "cell_type": "code",
   "execution_count": 6,
   "source": [
    "data['sentiment'].value_counts()"
   ],
   "outputs": [
    {
     "output_type": "execute_result",
     "data": {
      "text/plain": [
       "negative    25000\n",
       "positive    25000\n",
       "Name: sentiment, dtype: int64"
      ]
     },
     "metadata": {},
     "execution_count": 6
    }
   ],
   "metadata": {
    "colab": {
     "base_uri": "https://localhost:8080/"
    },
    "id": "3qyfTIVsznCR",
    "outputId": "b7426834-5583-40d6-b785-f92034704ce3"
   }
  },
  {
   "cell_type": "code",
   "execution_count": 7,
   "source": [
    "data.shape"
   ],
   "outputs": [
    {
     "output_type": "execute_result",
     "data": {
      "text/plain": [
       "(50000, 2)"
      ]
     },
     "metadata": {},
     "execution_count": 7
    }
   ],
   "metadata": {
    "colab": {
     "base_uri": "https://localhost:8080/"
    },
    "id": "UNx0gfdyz0t9",
    "outputId": "01f11b4e-9be0-45b1-c906-0928e19c3116"
   }
  },
  {
   "cell_type": "markdown",
   "source": [
    "# Text normalization\n",
    "## tokenization"
   ],
   "metadata": {
    "id": "FF9MA1Zw1Zj8"
   }
  },
  {
   "cell_type": "code",
   "execution_count": 8,
   "source": [
    "import seaborn as sns\r\n",
    "import matplotlib.pyplot as plt\r\n",
    "import nltk\r\n",
    "from sklearn.feature_extraction.text import CountVectorizer\r\n",
    "from sklearn.feature_extraction.text import TfidfVectorizer\r\n",
    "from sklearn.preprocessing import LabelBinarizer\r\n",
    "from nltk.corpus import stopwords\r\n",
    "from nltk.stem.porter import PorterStemmer\r\n",
    "from wordcloud import WordCloud,STOPWORDS\r\n",
    "from nltk.stem import WordNetLemmatizer\r\n",
    "from nltk.tokenize import word_tokenize,sent_tokenize"
   ],
   "outputs": [],
   "metadata": {
    "id": "Jw926llo1Uxx"
   }
  },
  {
   "cell_type": "code",
   "execution_count": 9,
   "source": [
    "import spacy\r\n",
    "import re,string,unicodedata\r\n",
    "from nltk.tokenize.toktok import ToktokTokenizer\r\n",
    "from nltk.stem import LancasterStemmer,WordNetLemmatizer\r\n",
    "from sklearn.linear_model import LogisticRegression,SGDClassifier\r\n",
    "from sklearn.naive_bayes import MultinomialNB\r\n",
    "from sklearn.svm import SVC\r\n",
    "from textblob import TextBlob\r\n",
    "from textblob import Word\r\n",
    "from sklearn.metrics import classification_report,confusion_matrix,accuracy_score\r\n",
    "from bs4 import BeautifulSoup\r\n"
   ],
   "outputs": [],
   "metadata": {
    "id": "fzaq4DdC1mvJ"
   }
  },
  {
   "cell_type": "code",
   "execution_count": 10,
   "source": [
    "import nltk\r\n",
    "nltk.download('stopwords')"
   ],
   "outputs": [
    {
     "output_type": "stream",
     "name": "stderr",
     "text": [
      "[nltk_data] Downloading package stopwords to\n",
      "[nltk_data]     C:\\Users\\rabin\\AppData\\Roaming\\nltk_data...\n",
      "[nltk_data]   Package stopwords is already up-to-date!\n"
     ]
    },
    {
     "output_type": "execute_result",
     "data": {
      "text/plain": [
       "True"
      ]
     },
     "metadata": {},
     "execution_count": 10
    }
   ],
   "metadata": {
    "colab": {
     "base_uri": "https://localhost:8080/"
    },
    "id": "iWo8JHXV3Fhg",
    "outputId": "05b668d3-1274-41f8-be54-5b762a272605"
   }
  },
  {
   "cell_type": "code",
   "execution_count": 11,
   "source": [
    "#Tokenization of text\r\n",
    "tokenizers=ToktokTokenizer()\r\n",
    "#Setting English stopwords\r\n",
    "stopwords=nltk.corpus.stopwords.words('english')"
   ],
   "outputs": [],
   "metadata": {
    "id": "3mschY5u1qeW"
   }
  },
  {
   "cell_type": "code",
   "execution_count": 12,
   "source": [
    "#Removing the noisy text\r\n",
    "def noiseremoval_text(text):\r\n",
    "  soup = BeautifulSoup(text, \"html.parser\")\r\n",
    "  text = soup.get_text()\r\n",
    "  text = re.sub('\\[[^]]*\\]', '', text)\r\n",
    "  return text\r\n"
   ],
   "outputs": [],
   "metadata": {
    "id": "vAQgpkNls3ol"
   }
  },
  {
   "cell_type": "code",
   "execution_count": 13,
   "source": [
    "#Apply function on review column\r\n",
    "data['review']=data['review'].apply(noiseremoval_text)\r\n",
    "data.head()"
   ],
   "outputs": [],
   "metadata": {
    "id": "ZmRHbHz97oQh"
   }
  },
  {
   "cell_type": "markdown",
   "source": [
    "## Stemming"
   ],
   "metadata": {
    "id": "IFAmqgo_tbUW"
   }
  },
  {
   "cell_type": "code",
   "execution_count": 14,
   "source": [
    "#Stemming the text\r\n",
    "def stemmer(text):\r\n",
    "    ps=nltk.porter.PorterStemmer()\r\n",
    "    text= ' '.join([ps.stem(word) for word in text.split()])\r\n",
    "    return text\r\n"
   ],
   "outputs": [],
   "metadata": {
    "id": "m_p_UX2Z8VuA"
   }
  },
  {
   "cell_type": "code",
   "execution_count": 15,
   "source": [
    "#Apply function on review column\r\n",
    "data['review']=data['review'].apply(stemmer)\r\n",
    "data.head()"
   ],
   "outputs": [],
   "metadata": {
    "id": "iRLXDoHPupAm"
   }
  },
  {
   "cell_type": "markdown",
   "source": [
    "## Removing stop words"
   ],
   "metadata": {
    "id": "udDe4pIA0uO0"
   }
  },
  {
   "cell_type": "code",
   "execution_count": 16,
   "source": [
    "from nltk.corpus import stopwords  \r\n",
    "from nltk.tokenize import word_tokenize"
   ],
   "outputs": [],
   "metadata": {
    "id": "wl5Kat8T-Ob7"
   }
  },
  {
   "cell_type": "code",
   "execution_count": 17,
   "source": [
    "#set stopwords to english\r\n",
    "\r\n",
    "stop_wr=set(stopwords.words('english'))\r\n",
    "print(stop_wr)"
   ],
   "outputs": [
    {
     "output_type": "stream",
     "name": "stdout",
     "text": [
      "{'we', \"won't\", 'do', 'and', 'ourselves', 'hadn', 'shouldn', 'not', \"hadn't\", 'whom', 'its', 'y', 'very', 'being', 'each', \"shouldn't\", 'have', \"you'll\", 'him', \"you've\", 'own', \"didn't\", 'here', 'from', 'no', 'this', 'than', 'should', 'through', 'how', 'ours', 'were', 'was', 'in', 'such', 'd', 'doesn', 'who', 'i', 'most', 'of', 'won', 'until', 'me', 'now', 'himself', 'both', 'nor', 'few', 'once', 'under', 'those', 'they', 'further', \"shan't\", 'why', 'll', 'will', 'themselves', \"wouldn't\", \"wasn't\", 'them', 'by', 'needn', 'she', \"it's\", 'your', 'when', 'yours', \"aren't\", 'am', \"mightn't\", 'haven', 'with', 'herself', 'itself', \"should've\", \"you'd\", 'where', 'isn', \"haven't\", 'then', 'my', \"mustn't\", 'during', 'doing', 'yourself', 'having', 'off', 'too', 'as', \"that'll\", 'into', 'their', 'if', 'weren', \"weren't\", 'didn', \"couldn't\", \"she's\", 'these', 'what', 'mightn', 'same', 'are', 'can', 'yourselves', 'that', 't', 'had', 'wasn', 'is', 'because', 'before', 'so', \"needn't\", 'against', 'just', \"hasn't\", 'over', 'at', \"don't\", 'an', 'couldn', 'only', 'myself', 'hers', 'it', 'there', 'theirs', 'more', 'don', 'mustn', 's', \"doesn't\", 'did', 'any', 'after', 'the', 'up', 'hasn', 'has', 'other', 're', 'wouldn', 'below', 'you', 've', 'about', 'he', \"you're\", 'o', 'been', 'ma', 'down', 'or', 'aren', 'but', 'above', 'our', 'some', 'on', 'out', 'does', 'shan', 'to', 'a', 'between', 'ain', 'for', 'her', 'while', 'his', 'all', 'm', \"isn't\", 'be', 'again', 'which'}\n"
     ]
    }
   ],
   "metadata": {
    "colab": {
     "base_uri": "https://localhost:8080/"
    },
    "id": "2s9292VJ81Xb",
    "outputId": "a154e892-6467-43b0-fb88-7f8282355a2a"
   }
  },
  {
   "cell_type": "code",
   "execution_count": 18,
   "source": [
    "#removing the stopwords\r\n",
    "def removing_stopwords(text, is_lower_case=False):\r\n",
    "    #Tokenization of text\r\n",
    "    tokenizers=ToktokTokenizer()\r\n",
    "    #Setting English stopwords\r\n",
    "    tokens = tokenizers.tokenize(text)\r\n",
    "    tokens = [token.strip() for token in tokens]\r\n",
    "    if is_lower_case:\r\n",
    "        filter_tokens = [token for token in tokens if token not in stop_wr]\r\n",
    "    else:\r\n",
    "        filter_tokens = [token for token in tokens if token.lower() not in stop_wr]\r\n",
    "    filtered_text = ' '.join(filter_tokens)    \r\n",
    "    return filtered_text\r\n"
   ],
   "outputs": [],
   "metadata": {
    "id": "rk848WWE9jN4"
   }
  },
  {
   "cell_type": "code",
   "execution_count": 19,
   "source": [
    "#Apply function on review column\r\n",
    "data['review']=data['review'].apply(removing_stopwords)\r\n",
    "data.head()"
   ],
   "outputs": [],
   "metadata": {
    "id": "0ClYfEZDvTH8"
   }
  },
  {
   "cell_type": "markdown",
   "source": [
    "## Train test split"
   ],
   "metadata": {
    "id": "qP5EuJo3Ab9q"
   }
  },
  {
   "cell_type": "code",
   "execution_count": 20,
   "source": [
    "#split the dataset  \r\n",
    "#train dataset\r\n",
    "train_reviews_data=data.review[:30000]\r\n"
   ],
   "outputs": [],
   "metadata": {
    "id": "ou7X5y-bz4Zl"
   }
  },
  {
   "cell_type": "code",
   "execution_count": 21,
   "source": [
    "#test dataset\r\n",
    "\r\n",
    "test_reviews_data=data.review[30000:]\r\n"
   ],
   "outputs": [],
   "metadata": {
    "id": "08kljHSc0aX_"
   }
  },
  {
   "cell_type": "markdown",
   "source": [
    "## Bag of words"
   ],
   "metadata": {
    "id": "2sAh7UTOt_3K"
   }
  },
  {
   "cell_type": "code",
   "execution_count": 22,
   "source": [
    "#Count vectorizer for bag of words\r\n",
    "cv=CountVectorizer(min_df=0,max_df=1,binary=False,ngram_range=(1,3))\r\n",
    "#transformed train reviews\r\n",
    "cv_train=cv.fit_transform(train_reviews_data)\r\n",
    "#transformed test reviews\r\n",
    "cv_test=cv.transform(test_reviews_data)\r\n",
    "\r\n",
    "print('BOW_cv_train:',cv_train.shape)\r\n",
    "print('BOW_cv_test:',cv_test.shape)\r\n",
    "#vocab=cv.get_feature_names()-toget feature names"
   ],
   "outputs": [
    {
     "output_type": "stream",
     "name": "stdout",
     "text": [
      "BOW_cv_train: (30000, 4954557)\n",
      "BOW_cv_test: (20000, 4954557)\n"
     ]
    }
   ],
   "metadata": {
    "colab": {
     "base_uri": "https://localhost:8080/"
    },
    "id": "OFj-Ncl99udA",
    "outputId": "74a47554-0f70-41ba-e160-7204d5fbba17"
   }
  },
  {
   "cell_type": "markdown",
   "source": [
    "## TF_IDF"
   ],
   "metadata": {
    "id": "JBdt4-46uHEY"
   }
  },
  {
   "cell_type": "code",
   "execution_count": 23,
   "source": [
    "#Tfidf vectorizer\r\n",
    "tf=TfidfVectorizer(min_df=0,max_df=1,use_idf=True,ngram_range=(1,3))\r\n",
    "#transformed train reviews\r\n",
    "tf_train=tf.fit_transform(train_reviews_data)\r\n",
    "#transformed test reviews\r\n",
    "tf_test=tf.transform(test_reviews_data)\r\n",
    "print('Tfidf_train:',tf_train.shape)\r\n",
    "print('Tfidf_test:',tf_test.shape)"
   ],
   "outputs": [
    {
     "output_type": "stream",
     "name": "stdout",
     "text": [
      "Tfidf_train: (30000, 4954557)\n",
      "Tfidf_test: (20000, 4954557)\n"
     ]
    }
   ],
   "metadata": {
    "colab": {
     "base_uri": "https://localhost:8080/"
    },
    "id": "BT-4lfBaAw9J",
    "outputId": "fec3737c-ff6c-4e9b-d4c4-5bdb0a968e26"
   }
  },
  {
   "cell_type": "markdown",
   "source": [
    "## Lable encoding"
   ],
   "metadata": {
    "id": "VsoL02wKuVNQ"
   }
  },
  {
   "cell_type": "code",
   "execution_count": 24,
   "source": [
    "#labeling the sentient data\r\n",
    "label=LabelBinarizer()\r\n",
    "#transformed sentiment data\r\n",
    "sentiment_data=label.fit_transform(data['sentiment'])\r\n",
    "print(sentiment_data.shape)"
   ],
   "outputs": [
    {
     "output_type": "stream",
     "name": "stdout",
     "text": [
      "(50000, 1)\n"
     ]
    }
   ],
   "metadata": {
    "colab": {
     "base_uri": "https://localhost:8080/"
    },
    "id": "MxhIF1q7Cla8",
    "outputId": "207ec18a-9493-4de3-8b1d-64e7cdb36141"
   }
  },
  {
   "cell_type": "code",
   "execution_count": 25,
   "source": [
    "train_data=data.sentiment[:30000]"
   ],
   "outputs": [],
   "metadata": {
    "id": "DC2p5nDTEB99"
   }
  },
  {
   "cell_type": "code",
   "execution_count": 26,
   "source": [
    "test_data=data.sentiment[30000:]"
   ],
   "outputs": [],
   "metadata": {
    "id": "Tj1gRrJ5EI_u"
   }
  },
  {
   "cell_type": "code",
   "execution_count": 27,
   "source": [
    "#training the model\r\n",
    "logistic=LogisticRegression(penalty='l2',max_iter=500,C=1,random_state=42)\r\n",
    "#Fitting the model for Bag of words\r\n",
    "lr_bow=logistic.fit(cv_train,train_data)\r\n",
    "print(lr_bow)\r\n",
    "#Fitting the model for tfidf features\r\n",
    "lr_tfidf=logistic.fit(tf_train,train_data)\r\n",
    "print(lr_tfidf)"
   ],
   "outputs": [
    {
     "output_type": "stream",
     "name": "stdout",
     "text": [
      "LogisticRegression(C=1, max_iter=500, random_state=42)\n",
      "LogisticRegression(C=1, max_iter=500, random_state=42)\n"
     ]
    }
   ],
   "metadata": {
    "colab": {
     "base_uri": "https://localhost:8080/"
    },
    "id": "SbQWJwlfEJaZ",
    "outputId": "f3b8f971-5850-48cd-b33c-4671e65b533a"
   }
  },
  {
   "cell_type": "code",
   "execution_count": 28,
   "source": [
    "#Predicting the model for bag of words\r\n",
    "lr_bow_predict=logistic.predict(cv_test)\r\n",
    "print(lr_bow_predict)\r\n"
   ],
   "outputs": [
    {
     "output_type": "stream",
     "name": "stdout",
     "text": [
      "['negative' 'negative' 'negative' ... 'negative' 'positive' 'positive']\n"
     ]
    }
   ],
   "metadata": {
    "colab": {
     "base_uri": "https://localhost:8080/"
    },
    "id": "5GEdjb3JE80n",
    "outputId": "d424d48a-1b44-4df9-dea3-3c46ec3f0b8c"
   }
  },
  {
   "cell_type": "code",
   "execution_count": 29,
   "source": [
    "##Predicting the model for tfidf features\r\n",
    "lr_tfidf_predict=logistic.predict(tf_test)\r\n",
    "print(lr_tfidf_predict)"
   ],
   "outputs": [
    {
     "output_type": "stream",
     "name": "stdout",
     "text": [
      "['negative' 'negative' 'negative' ... 'negative' 'positive' 'positive']\n"
     ]
    }
   ],
   "metadata": {
    "colab": {
     "base_uri": "https://localhost:8080/"
    },
    "id": "KVcuLLBdwuM_",
    "outputId": "c8a3af8b-e620-4096-b7b0-51267b57c463"
   }
  },
  {
   "cell_type": "code",
   "execution_count": 30,
   "source": [
    "#Accuracy score for bag of words\r\n",
    "lr_bow_score=accuracy_score(test_data,lr_bow_predict)\r\n",
    "print(\"lr_bow_score :\",lr_bow_score)\r\n"
   ],
   "outputs": [
    {
     "output_type": "stream",
     "name": "stdout",
     "text": [
      "lr_bow_score : 0.74255\n"
     ]
    }
   ],
   "metadata": {
    "colab": {
     "base_uri": "https://localhost:8080/"
    },
    "id": "e5dQjjRMEYwm",
    "outputId": "3b39124b-0114-4f8e-e7f1-0d7b7ae83b31"
   }
  },
  {
   "cell_type": "code",
   "execution_count": 31,
   "source": [
    "#Accuracy score for tfidf features\r\n",
    "lr_tfidf_score=accuracy_score(test_data,lr_tfidf_predict)\r\n",
    "print(\"lr_tfidf_score :\",lr_tfidf_score)"
   ],
   "outputs": [
    {
     "output_type": "stream",
     "name": "stdout",
     "text": [
      "lr_tfidf_score : 0.7426\n"
     ]
    }
   ],
   "metadata": {
    "colab": {
     "base_uri": "https://localhost:8080/"
    },
    "id": "6IfQGarBwwku",
    "outputId": "9509b32f-19c2-4206-ce1c-903d4bd8c583"
   }
  }
 ],
 "metadata": {
  "accelerator": "GPU",
  "colab": {
   "collapsed_sections": [],
   "name": "movie_data_sentiment_analysis.ipynb",
   "provenance": []
  },
  "kernelspec": {
   "name": "python3",
   "display_name": "Python 3.8.5 64-bit (conda)"
  },
  "language_info": {
   "codemirror_mode": {
    "name": "ipython",
    "version": 3
   },
   "file_extension": ".py",
   "mimetype": "text/x-python",
   "name": "python",
   "nbconvert_exporter": "python",
   "pygments_lexer": "ipython3",
   "version": "3.8.5"
  },
  "interpreter": {
   "hash": "a456efd1d2e2bfa10bfdad488db5626e5f8bd233a0f11ae70ce0e7717a6a7d8d"
  }
 },
 "nbformat": 4,
 "nbformat_minor": 1
}