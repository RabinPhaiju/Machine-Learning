{
 "cells": [
  {
   "cell_type": "markdown",
   "source": [
    "# 1. Bags of words\r\n",
    "    - It is used to preprocess the text.\r\n",
    "    - It converts the text/document into a bags of words, which keeps a cound of the total occurrences of most frequently used words.\r\n",
    "    - Bags-of-words is one of the most used methods to transform tokens into a set of features.\r\n",
    "    * countvectorization is used."
   ],
   "metadata": {}
  },
  {
   "cell_type": "markdown",
   "source": [
    "# 2. TF-IDF: (Term Frequency and Inverse Document Frequency)\r\n",
    "    - It helps to measure the score in order to get the information retrieval (IR) or summarization.\r\n",
    "    - It is also used to reflect how relevant a term is in a given document.\r\n",
    "    - Procedure to calculate TF-IDF by multiplying two mertrices:\r\n",
    "        - How many times a word appears in a document.\r\n",
    "        - The inverse document frequency of the word across a set of documents.\r\n",
    "* Why do we need TF-IDF?\r\n",
    "    - It helps to establish how important a particular word is in the context of the document corpus.\r\n",
    "    - It takes into account the number of times the word appears in the document and offset by the number of documents that appear in the corpus.\r\n",
    "    - TF is the frequency of term divided by a total number of terms in the document.\r\n",
    "    - IDF is obtained by dividing the total number of documents by the number of documents containing the term and then taking the logarithm of that quotient.\r\n",
    "    - TF.IDF is the multiplication of two values  TF and IDF."
   ],
   "metadata": {}
  },
  {
   "cell_type": "markdown",
   "source": [
    "# 3. Word Embedding.\r\n",
    "    - Word embedding vectors are one of the most common way to encode words as vectors of numbers those vectos can be feed in the ML models for inferece and also it helps to establish the distance between two tokens.\r\n",
    "    - Types:\r\n",
    "        - Word2vec\r\n",
    "        - Glove\r\n",
    "        - fastText"
   ],
   "metadata": {}
  },
  {
   "cell_type": "markdown",
   "source": [],
   "metadata": {}
  }
 ],
 "metadata": {
  "orig_nbformat": 4,
  "language_info": {
   "name": "python"
  }
 },
 "nbformat": 4,
 "nbformat_minor": 2
}