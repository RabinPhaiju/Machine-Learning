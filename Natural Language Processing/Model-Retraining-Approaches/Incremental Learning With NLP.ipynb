{
 "cells": [
  {
   "cell_type": "markdown",
   "source": [
    "#### Incremental Learning- Model Retraining Approach"
   ],
   "metadata": {}
  },
  {
   "cell_type": "code",
   "execution_count": 1,
   "source": [
    "import pandas as pd\r\n",
    "messages = pd.read_csv('smsspamcollection/SMSSpamCollection', sep='\\t',\r\n",
    "                           names=[\"label\", \"message\"])"
   ],
   "outputs": [],
   "metadata": {}
  },
  {
   "cell_type": "code",
   "execution_count": 2,
   "source": [
    "messages.shape"
   ],
   "outputs": [
    {
     "output_type": "execute_result",
     "data": {
      "text/plain": [
       "(5572, 2)"
      ]
     },
     "metadata": {},
     "execution_count": 2
    }
   ],
   "metadata": {}
  },
  {
   "cell_type": "code",
   "execution_count": 3,
   "source": [
    "from sklearn.model_selection import train_test_split\r\n",
    "message_train,message_test=train_test_split(messages)# both having label and message"
   ],
   "outputs": [],
   "metadata": {}
  },
  {
   "cell_type": "code",
   "execution_count": 4,
   "source": [
    "message_train.head()"
   ],
   "outputs": [
    {
     "output_type": "execute_result",
     "data": {
      "text/html": [
       "<div>\n",
       "<style scoped>\n",
       "    .dataframe tbody tr th:only-of-type {\n",
       "        vertical-align: middle;\n",
       "    }\n",
       "\n",
       "    .dataframe tbody tr th {\n",
       "        vertical-align: top;\n",
       "    }\n",
       "\n",
       "    .dataframe thead th {\n",
       "        text-align: right;\n",
       "    }\n",
       "</style>\n",
       "<table border=\"1\" class=\"dataframe\">\n",
       "  <thead>\n",
       "    <tr style=\"text-align: right;\">\n",
       "      <th></th>\n",
       "      <th>label</th>\n",
       "      <th>message</th>\n",
       "    </tr>\n",
       "  </thead>\n",
       "  <tbody>\n",
       "    <tr>\n",
       "      <th>5367</th>\n",
       "      <td>ham</td>\n",
       "      <td>Just trying to figure out when I'm suppose to ...</td>\n",
       "    </tr>\n",
       "    <tr>\n",
       "      <th>3698</th>\n",
       "      <td>spam</td>\n",
       "      <td>You are a winner you have been specially selec...</td>\n",
       "    </tr>\n",
       "    <tr>\n",
       "      <th>4050</th>\n",
       "      <td>ham</td>\n",
       "      <td>Yeah that's the impression I got</td>\n",
       "    </tr>\n",
       "    <tr>\n",
       "      <th>4435</th>\n",
       "      <td>ham</td>\n",
       "      <td>Sounds great! Im going to sleep now. Have a go...</td>\n",
       "    </tr>\n",
       "    <tr>\n",
       "      <th>320</th>\n",
       "      <td>ham</td>\n",
       "      <td>Coffee cake, i guess...</td>\n",
       "    </tr>\n",
       "  </tbody>\n",
       "</table>\n",
       "</div>"
      ],
      "text/plain": [
       "     label                                            message\n",
       "5367   ham  Just trying to figure out when I'm suppose to ...\n",
       "3698  spam  You are a winner you have been specially selec...\n",
       "4050   ham                   Yeah that's the impression I got\n",
       "4435   ham  Sounds great! Im going to sleep now. Have a go...\n",
       "320    ham                            Coffee cake, i guess..."
      ]
     },
     "metadata": {},
     "execution_count": 4
    }
   ],
   "metadata": {}
  },
  {
   "cell_type": "code",
   "execution_count": 5,
   "source": [
    "# Convert dataframe to list of tuples\r\n",
    "messages_train = message_train.to_records(index=False)\r\n",
    "messages_test=message_test.to_records(index=False)"
   ],
   "outputs": [],
   "metadata": {}
  },
  {
   "cell_type": "code",
   "execution_count": 6,
   "source": [
    "messages_train[0]"
   ],
   "outputs": [
    {
     "output_type": "execute_result",
     "data": {
      "text/plain": [
       "('ham', \"Just trying to figure out when I'm suppose to see a couple different people this week. We said we'd get together but I didn't set dates\")"
      ]
     },
     "metadata": {},
     "execution_count": 6
    }
   ],
   "metadata": {}
  },
  {
   "cell_type": "code",
   "execution_count": 8,
   "source": [
    "# Creating the pipeline\r\n",
    "# 1st function is creating the TFIDF\r\n",
    "# 2nd function is the naive bayes predictor\r\n",
    "from creme import compose\r\n",
    "from creme import feature_extraction\r\n",
    "from creme import naive_bayes\r\n",
    "from creme import metrics\r\n",
    "\r\n",
    "model = compose.Pipeline(\r\n",
    "    ('tokenize', feature_extraction.TFIDF(lowercase=False)),\r\n",
    "    ('nb', naive_bayes.MultinomialNB(alpha=1))\r\n",
    ")"
   ],
   "outputs": [],
   "metadata": {}
  },
  {
   "cell_type": "code",
   "execution_count": 11,
   "source": [
    "metric=metrics.Accuracy()\r\n",
    "\r\n",
    "# Training the model row by row\r\n",
    "for label,sentence in messages_train:\r\n",
    "    model = model.fit_one(sentence, label)\r\n",
    "    y_pred = model.predict_one(sentence)\r\n",
    "    metric = metric.update(label, y_pred)\r\n",
    "\r\n",
    "### Training Data Accuracy\r\n",
    "metric"
   ],
   "outputs": [
    {
     "output_type": "execute_result",
     "data": {
      "text/plain": [
       "Accuracy: 98.56%"
      ]
     },
     "metadata": {},
     "execution_count": 11
    }
   ],
   "metadata": {}
  },
  {
   "cell_type": "code",
   "execution_count": 13,
   "source": [
    "### test Data Accuracy\r\n",
    "test_metric=metrics.Accuracy()\r\n",
    "for label,sentence in messages_test:\r\n",
    "    y_pred = model.predict_one(sentence)\r\n",
    "    test_metric = metric.update(label, y_pred)\r\n",
    "\r\n",
    "### test Metric\r\n",
    "test_metric"
   ],
   "outputs": [
    {
     "output_type": "execute_result",
     "data": {
      "text/plain": [
       "Accuracy: 98.16%"
      ]
     },
     "metadata": {},
     "execution_count": 13
    }
   ],
   "metadata": {}
  },
  {
   "cell_type": "code",
   "execution_count": 21,
   "source": [
    "print(model.predict_one('This guy is neutral'))\r\n",
    "print(model.predict_one('Everybody is neutral'))"
   ],
   "outputs": [],
   "metadata": {}
  },
  {
   "cell_type": "code",
   "execution_count": 17,
   "source": [
    "model.fit_one(\"This guy is neutral\", \"ham\")\r\n",
    "model.fit_one(\"Everybody is neutral \", \"ham\")"
   ],
   "outputs": [
    {
     "output_type": "execute_result",
     "data": {
      "text/plain": [
       "Pipeline (\n",
       "  TFIDF (\n",
       "    normalize=True\n",
       "    on=None\n",
       "    strip_accents=True\n",
       "    lowercase=False\n",
       "    preprocessor=None\n",
       "    tokenizer=<built-in method findall of re.Pattern object at 0x000002BF19093370>\n",
       "    ngram_range=(1, 1)\n",
       "  ),\n",
       "  MultinomialNB (\n",
       "    alpha=1\n",
       "  )\n",
       ")"
      ]
     },
     "metadata": {},
     "execution_count": 17
    }
   ],
   "metadata": {}
  },
  {
   "cell_type": "code",
   "execution_count": null,
   "source": [],
   "outputs": [],
   "metadata": {}
  }
 ],
 "metadata": {
  "kernelspec": {
   "name": "python3",
   "display_name": "Python 3.8.5 64-bit (conda)"
  },
  "language_info": {
   "codemirror_mode": {
    "name": "ipython",
    "version": 3
   },
   "file_extension": ".py",
   "mimetype": "text/x-python",
   "name": "python",
   "nbconvert_exporter": "python",
   "pygments_lexer": "ipython3",
   "version": "3.8.5"
  },
  "interpreter": {
   "hash": "a456efd1d2e2bfa10bfdad488db5626e5f8bd233a0f11ae70ce0e7717a6a7d8d"
  }
 },
 "nbformat": 4,
 "nbformat_minor": 4
}