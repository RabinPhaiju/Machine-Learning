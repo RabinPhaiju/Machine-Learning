{
 "cells": [
  {
   "cell_type": "markdown",
   "metadata": {},
   "source": [
    "# Example problem\n",
    "## The mean weight of a morning breakfast cereal pack is 0.295 kg with a standard deviation of 0.025 kg. THe random variable weight of the pack follows a normal distribution.\n",
    "\n",
    "        a. What is the probability that the pack weights less than 0.280 kg?\n",
    "        b. What is the probability that tha pack weights more than 0.350 kg?\n",
    "        c. What is the probability that the pack weights between 0.260 kg to 0.340 kg?"
   ]
  },
  {
   "cell_type": "code",
   "execution_count": 8,
   "metadata": {},
   "outputs": [
    {
     "name": "stdout",
     "output_type": "stream",
     "text": [
      " less than a=>\n"
     ]
    },
    {
     "data": {
      "text/plain": [
       "0.2742531177500741"
      ]
     },
     "execution_count": 8,
     "metadata": {},
     "output_type": "execute_result"
    }
   ],
   "source": [
    "# cumulated distribution function\n",
    "import scipy.stats as stats\n",
    "import numpy as np\n",
    "\n",
    "print(' less than a=>')\n",
    "stats.norm.cdf(0.280, loc=0.295,scale=0.025)"
   ]
  },
  {
   "cell_type": "code",
   "execution_count": 4,
   "metadata": {},
   "outputs": [
    {
     "name": "stdout",
     "output_type": "stream",
     "text": [
      "greater than b=>\n"
     ]
    },
    {
     "data": {
      "text/plain": [
       "0.01390344751349859"
      ]
     },
     "execution_count": 4,
     "metadata": {},
     "output_type": "execute_result"
    }
   ],
   "source": [
    "print('greater than b=>')\n",
    "1-stats.norm.cdf(0.350, loc=0.295,scale=0.025)"
   ]
  },
  {
   "cell_type": "code",
   "execution_count": 11,
   "metadata": {},
   "outputs": [
    {
     "name": "stdout",
     "output_type": "stream",
     "text": [
      "between c=>\n"
     ]
    },
    {
     "data": {
      "text/plain": [
       "0.8833130216533032"
      ]
     },
     "execution_count": 11,
     "metadata": {},
     "output_type": "execute_result"
    }
   ],
   "source": [
    "print('between c=>')\n",
    "stats.norm.cdf(0.340, loc=0.295,scale=0.025)-stats.norm.cdf(0.260, loc=0.295,scale=0.025)"
   ]
  },
  {
   "cell_type": "code",
   "execution_count": 12,
   "metadata": {},
   "outputs": [],
   "source": [
    "import statistics\n",
    "\n"
   ]
  },
  {
   "cell_type": "code",
   "execution_count": 13,
   "metadata": {},
   "outputs": [
    {
     "data": {
      "text/plain": [
       "75.0"
      ]
     },
     "execution_count": 13,
     "metadata": {},
     "output_type": "execute_result"
    }
   ],
   "source": [
    "a = np.array([58, 72, 74, 92, 84, 40, 74, 81, 76, 83])\n",
    "statistics.median(a)"
   ]
  }
 ],
 "metadata": {
  "kernelspec": {
   "display_name": "Python 3",
   "language": "python",
   "name": "python3"
  },
  "language_info": {
   "codemirror_mode": {
    "name": "ipython",
    "version": 3
   },
   "file_extension": ".py",
   "mimetype": "text/x-python",
   "name": "python",
   "nbconvert_exporter": "python",
   "pygments_lexer": "ipython3",
   "version": "3.7.9"
  }
 },
 "nbformat": 4,
 "nbformat_minor": 4
}
