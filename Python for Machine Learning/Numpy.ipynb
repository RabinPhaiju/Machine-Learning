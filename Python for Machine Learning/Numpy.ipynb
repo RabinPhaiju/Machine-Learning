{
 "cells": [
  {
   "cell_type": "markdown",
   "metadata": {},
   "source": [
    "# NumPy\n",
    "\n",
    "numpy is python's package for doing math that is more advanced than +-*/\n",
    "\n",
    "This includes special functions like cosine, exponential, sqrt, ...\n",
    "\n",
    "On top of this we can use numpy to generate samples from many types of random variables\n",
    "\n",
    "numpy also has a powerful data type to define vectors, matrices, and tensors\n",
    "\n",
    "With these data types numpy also allows us to do linear algebra - matrix multiplication and matrix-vector solutions"
   ]
  },
  {
   "cell_type": "code",
   "execution_count": 1,
   "metadata": {},
   "outputs": [],
   "source": [
    "# the first step of using numpy is to tell python to use it\n",
    "import numpy as np"
   ]
  },
  {
   "cell_type": "code",
   "execution_count": 11,
   "metadata": {},
   "outputs": [
    {
     "name": "stdout",
     "output_type": "stream",
     "text": [
      "-1.0\n",
      "3.141592653589793\n",
      "1.1\n",
      "3.4\n",
      "29.96410004739701\n"
     ]
    }
   ],
   "source": [
    "print(np.cos(np.pi))\n",
    "print(np.pi)\n",
    "print(np.sqrt(1.21))\n",
    "print(np.log(np.exp(3.4)))\n",
    "print(np.exp(3.4))"
   ]
  },
  {
   "cell_type": "code",
   "execution_count": 6,
   "metadata": {},
   "outputs": [
    {
     "name": "stdout",
     "output_type": "stream",
     "text": [
      "[1 2 3]\n",
      "\n",
      "[[1 2 1]\n",
      " [4 5 9]\n",
      " [1 8 9]]\n",
      "\n",
      "[[1 4 1]\n",
      " [2 5 8]\n",
      " [1 9 9]]\n"
     ]
    }
   ],
   "source": [
    "# we can create numpy arrays by converting lists\n",
    "# this is a vector\n",
    "vec = np.array([1,2,3])\n",
    "print(vec)\n",
    "# we can create matrices by converting lists of lists\n",
    "mat = np.array([[1,2,1],[4,5,9],[1,8,9]])\n",
    "print('')\n",
    "print(mat)\n",
    "print('')\n",
    "print(mat.T)"
   ]
  },
  {
   "cell_type": "code",
   "execution_count": 14,
   "metadata": {},
   "outputs": [
    {
     "name": "stdout",
     "output_type": "stream",
     "text": [
      "[ 0  1  2  3  4  5  6  7  8  9 10 11 12 13 14]\n",
      "\n",
      "[ 3  9 15 21]\n",
      " \n",
      "[[ 0  1  2  3  4]\n",
      " [ 5  6  7  8  9]\n",
      " [10 11 12 13 14]]\n"
     ]
    }
   ],
   "source": [
    "# there are lots of other ways to create numpy arrays\n",
    "vec2 = np.arange(0,15)\n",
    "print(vec2)\n",
    "print('')\n",
    "vec3 = np.arange(3,22,6)\n",
    "print(vec3)\n",
    "print(' ')\n",
    "print(vec2.reshape(3,5))\n"
   ]
  },
  {
   "cell_type": "code",
   "execution_count": 10,
   "metadata": {},
   "outputs": [
    {
     "name": "stdout",
     "output_type": "stream",
     "text": [
      "[0.         0.55555556 1.11111111 1.66666667 2.22222222 2.77777778\n",
      " 3.33333333 3.88888889 4.44444444 5.        ]\n",
      "\n",
      "[[0.         0.55555556]\n",
      " [1.11111111 1.66666667]\n",
      " [2.22222222 2.77777778]\n",
      " [3.33333333 3.88888889]\n",
      " [4.44444444 5.        ]]\n",
      " \n",
      "[[0.         0.55555556]\n",
      " [1.11111111 1.66666667]\n",
      " [2.22222222 2.77777778]\n",
      " [3.33333333 3.88888889]\n",
      " [4.44444444 5.        ]]\n",
      "[0.         0.55555556 1.11111111 1.66666667 2.22222222 2.77777778\n",
      " 3.33333333 3.88888889 4.44444444 5.        ]\n"
     ]
    }
   ],
   "source": [
    "\n",
    "vec4 = np.linspace(0,5,10)\n",
    "print(vec4)\n",
    "print('')\n",
    "print(vec4.reshape(5,2))\n",
    "print(' ')\n",
    "vec4_reshaped = vec4.reshape(5,2)\n",
    "print(vec4_reshaped)\n",
    "print(vec4)"
   ]
  },
  {
   "cell_type": "code",
   "execution_count": 12,
   "metadata": {},
   "outputs": [
    {
     "name": "stdout",
     "output_type": "stream",
     "text": [
      "[[0. 0. 0.]\n",
      " [0. 0. 0.]\n",
      " [0. 0. 0.]\n",
      " [0. 0. 0.]\n",
      " [0. 0. 0.]]\n",
      "\n",
      "[[1. 1. 1. 1. 1.]\n",
      " [1. 1. 1. 1. 1.]\n",
      " [1. 1. 1. 1. 1.]]\n",
      "\n",
      "[[1. 0. 0. 0. 0.]\n",
      " [0. 1. 0. 0. 0.]\n",
      " [0. 0. 1. 0. 0.]\n",
      " [0. 0. 0. 1. 0.]\n",
      " [0. 0. 0. 0. 1.]]\n"
     ]
    }
   ],
   "source": [
    "mat2 = np.zeros([5,3])\n",
    "print(mat2)\n",
    "mat3 = np.ones((3,5))\n",
    "print('')\n",
    "print(mat3)\n",
    "mat4 = np.eye(5)\n",
    "print('')\n",
    "print(mat4)"
   ]
  },
  {
   "cell_type": "code",
   "execution_count": 15,
   "metadata": {},
   "outputs": [
    {
     "name": "stdout",
     "output_type": "stream",
     "text": [
      "[1 2 3 4 5]\n",
      "[3 4 5 6 7]\n",
      "[ 4  6  8 10 12]\n",
      "[ 3  8 15 24 35]\n",
      "[1.         0.5        0.33333333 0.25       0.2       ]\n",
      "[1.73205081 2.         2.23606798 2.44948974 2.64575131]\n"
     ]
    }
   ],
   "source": [
    "# we can +-*/ arrays together if they're the right size\n",
    "vec5 = np.arange(1,6)\n",
    "vec6 = np.arange(3,8)\n",
    "print(vec5)\n",
    "print(vec6)\n",
    "print(vec5+vec6)\n",
    "print(vec5*vec6)\n",
    "print(1/vec5)\n",
    "print(np.sqrt(vec6))"
   ]
  },
  {
   "cell_type": "code",
   "execution_count": 16,
   "metadata": {},
   "outputs": [
    {
     "name": "stdout",
     "output_type": "stream",
     "text": [
      "[[1 2 1]\n",
      " [4 5 9]\n",
      " [1 8 9]]\n",
      "\n",
      "[1 2 3]\n",
      "\n",
      "[ 8 41 44]\n"
     ]
    }
   ],
   "source": [
    "# we can do matrix multiplication\n",
    "print(mat)\n",
    "print('')\n",
    "print(vec)\n",
    "print()\n",
    "product = np.matmul(mat,vec)\n",
    "print(product)"
   ]
  },
  {
   "cell_type": "code",
   "execution_count": 17,
   "metadata": {},
   "outputs": [
    {
     "name": "stdout",
     "output_type": "stream",
     "text": [
      "[1. 2. 3.]\n",
      "\n",
      "[[ 0.5         0.18518519 -0.24074074]\n",
      " [ 0.5        -0.14814815  0.09259259]\n",
      " [-0.5         0.11111111  0.05555556]]\n"
     ]
    }
   ],
   "source": [
    "# Solve a linear matrix equation, or system of linear scalar equations.\n",
    "print(np.linalg.solve(mat,product))\n",
    "print('')\n",
    "# Compute the (multiplicative) inverse of a matrix.\n",
    "print(np.linalg.inv(mat))"
   ]
  },
  {
   "cell_type": "code",
   "execution_count": 20,
   "metadata": {},
   "outputs": [
    {
     "name": "stdout",
     "output_type": "stream",
     "text": [
      "['blue' 'red' 'orange' 'purple' 'purple' 'orange' 'Red' '6']\n",
      "['6' 'Red' 'blue' 'orange' 'purple' 'red']\n"
     ]
    }
   ],
   "source": [
    "# we can find the unique values in an array\n",
    "vec7 = np.array(['blue','red','orange','purple','purple','orange','Red',6])\n",
    "print(vec7)\n",
    "print(np.unique(vec7))"
   ]
  },
  {
   "cell_type": "code",
   "execution_count": 21,
   "metadata": {},
   "outputs": [
    {
     "name": "stdout",
     "output_type": "stream",
     "text": [
      "[[0.51463923 0.20266099 0.67381401 0.30854055 0.51287052]\n",
      " [0.4573951  0.2512215  0.99833316 0.71918289 0.28948381]\n",
      " [0.55193298 0.6729688  0.00228986 0.62446196 0.90261221]\n",
      " [0.08170826 0.66031591 0.58502755 0.37848407 0.50048242]\n",
      " [0.96772428 0.19103893 0.74908189 0.66751606 0.55839732]]\n",
      "\n",
      "[[-1.31792162  0.27038552  2.75929834 -0.11511857 -2.23446526]\n",
      " [ 0.74713312 -1.61150265  0.42117954 -1.25237129  1.62951043]\n",
      " [-1.6342231   0.9690605   0.49927238  0.17900322 -0.82621911]\n",
      " [ 0.33291615  1.80454365 -0.12415988  0.83169468  0.51651204]\n",
      " [ 0.09785803 -0.34098738 -1.48949681 -0.44633211 -0.58378772]\n",
      " [ 0.30600833 -1.12464805  0.30406625 -0.22710992 -0.99832198]\n",
      " [ 0.09018151 -0.07989612 -0.79497093 -0.88290836 -1.86624194]\n",
      " [ 0.28107896  0.46342528 -1.1406155   1.7006389  -1.39885367]\n",
      " [ 0.1256738   0.09384156 -0.72350235  1.00292523  0.29981304]\n",
      " [ 0.30529717  0.54172173 -1.40349486 -0.13052712 -1.20168567]]\n"
     ]
    }
   ],
   "source": [
    "# we can also use numpy to generate samples of a random variable\n",
    "rand_mat = np.random.rand(5,5) # uniform random variable\n",
    "print(rand_mat)\n",
    "rand_mat2 = np.random.randn(10,5) # standard normal random variable\n",
    "print('')\n",
    "print(rand_mat2)"
   ]
  },
  {
   "cell_type": "code",
   "execution_count": 22,
   "metadata": {},
   "outputs": [
    {
     "name": "stdout",
     "output_type": "stream",
     "text": [
      "0.5208873705391884\n",
      "1.019905475282728\n"
     ]
    }
   ],
   "source": [
    "# we can also use numpy for statistical tools on arrays\n",
    "print(np.mean(rand_mat))\n",
    "print(np.std(rand_mat2))"
   ]
  },
  {
   "cell_type": "code",
   "execution_count": 23,
   "metadata": {},
   "outputs": [
    {
     "name": "stdout",
     "output_type": "stream",
     "text": [
      "0.0022898568520857143\n",
      "2.7592983398507736\n"
     ]
    }
   ],
   "source": [
    "print(np.min(rand_mat))\n",
    "print(np.max(rand_mat2))"
   ]
  },
  {
   "cell_type": "code",
   "execution_count": null,
   "metadata": {},
   "outputs": [],
   "source": [
    "# break here for next video!"
   ]
  },
  {
   "cell_type": "code",
   "execution_count": 24,
   "metadata": {},
   "outputs": [
    {
     "name": "stdout",
     "output_type": "stream",
     "text": [
      "[ 2.45906768  0.69792699  0.30379656 -0.8251078  -0.65751921 -0.90688723\n",
      " -0.07851378  0.72139419 -0.43148527 -0.0769731  -1.69926925  0.15517714\n",
      "  0.81262835 -0.76054302  1.0624881  -0.93082761 -0.01753289  0.53775105\n",
      "  0.93160142]\n",
      "-0.07851378212526099\n"
     ]
    }
   ],
   "source": [
    "# how do we access entries in a numpy vector\n",
    "rand_vec = np.random.randn(19)\n",
    "print(rand_vec)\n",
    "print(rand_vec[6])"
   ]
  },
  {
   "cell_type": "code",
   "execution_count": 25,
   "metadata": {},
   "outputs": [
    {
     "name": "stdout",
     "output_type": "stream",
     "text": [
      "[-0.65751921 -0.90688723 -0.07851378  0.72139419 -0.43148527]\n"
     ]
    }
   ],
   "source": [
    "# we can access multiple entries at once using :\n",
    "print(rand_vec[4:9])"
   ]
  },
  {
   "cell_type": "code",
   "execution_count": 26,
   "metadata": {},
   "outputs": [
    {
     "name": "stdout",
     "output_type": "stream",
     "text": [
      "[ 0  3  6  9 12]\n",
      "[ 2.45906768 -0.8251078  -0.07851378 -0.0769731   0.81262835]\n"
     ]
    }
   ],
   "source": [
    "# we can also access multiple non-consecutive entries using np.arange\n",
    "print(np.arange(0,15,3))\n",
    "print(rand_vec[np.arange(0,15,3)])"
   ]
  },
  {
   "cell_type": "code",
   "execution_count": 27,
   "metadata": {},
   "outputs": [
    {
     "name": "stdout",
     "output_type": "stream",
     "text": [
      "[[0.51463923 0.20266099 0.67381401 0.30854055 0.51287052]\n",
      " [0.4573951  0.2512215  0.99833316 0.71918289 0.28948381]\n",
      " [0.55193298 0.6729688  0.00228986 0.62446196 0.90261221]\n",
      " [0.08170826 0.66031591 0.58502755 0.37848407 0.50048242]\n",
      " [0.96772428 0.19103893 0.74908189 0.66751606 0.55839732]]\n",
      "0.998333159955304\n",
      "0.998333159955304\n"
     ]
    }
   ],
   "source": [
    "# what about matrices\n",
    "print(rand_mat)\n",
    "print(rand_mat[1][2])\n",
    "print(rand_mat[1,2])\n"
   ]
  },
  {
   "cell_type": "code",
   "execution_count": 28,
   "metadata": {},
   "outputs": [
    {
     "name": "stdout",
     "output_type": "stream",
     "text": [
      "[[0.20266099 0.67381401]\n",
      " [0.2512215  0.99833316]]\n"
     ]
    }
   ],
   "source": [
    "print(rand_mat[0:2,1:3])"
   ]
  },
  {
   "cell_type": "code",
   "execution_count": 29,
   "metadata": {},
   "outputs": [
    {
     "name": "stdout",
     "output_type": "stream",
     "text": [
      "[ 2.45906768  0.69792699  0.30379656 -0.8251078  -0.65751921 -0.90688723\n",
      " -0.07851378  0.72139419 -0.43148527 -0.0769731  -1.69926925  0.15517714\n",
      "  0.81262835 -0.76054302  1.0624881  -0.93082761 -0.01753289  0.53775105\n",
      "  0.93160142]\n",
      "\n",
      "[ 2.45906768  0.69792699  0.30379656  4.          4.         -0.90688723\n",
      " -0.07851378  0.72139419 -0.43148527 -0.0769731  -1.69926925  0.15517714\n",
      "  0.81262835 -0.76054302  1.0624881  -0.93082761 -0.01753289  0.53775105\n",
      "  0.93160142]\n",
      "\n",
      "[ 2.45906768  0.69792699  0.30379656  1.          2.         -0.90688723\n",
      " -0.07851378  0.72139419 -0.43148527 -0.0769731  -1.69926925  0.15517714\n",
      "  0.81262835 -0.76054302  1.0624881  -0.93082761 -0.01753289  0.53775105\n",
      "  0.93160142]\n"
     ]
    }
   ],
   "source": [
    "# let's change some values in an array!\n",
    "print(rand_vec)\n",
    "rand_vec[3:5] = 4\n",
    "print('')\n",
    "print(rand_vec)\n",
    "rand_vec[3:5] = [1,2]\n",
    "print('')\n",
    "print(rand_vec)"
   ]
  },
  {
   "cell_type": "code",
   "execution_count": 30,
   "metadata": {},
   "outputs": [
    {
     "name": "stdout",
     "output_type": "stream",
     "text": [
      "[[0.51463923 0.20266099 0.67381401 0.30854055 0.51287052]\n",
      " [0.4573951  0.2512215  0.99833316 0.71918289 0.28948381]\n",
      " [0.55193298 0.6729688  0.00228986 0.62446196 0.90261221]\n",
      " [0.08170826 0.66031591 0.58502755 0.37848407 0.50048242]\n",
      " [0.96772428 0.19103893 0.74908189 0.66751606 0.55839732]]\n",
      "\n",
      "[[0.51463923 0.20266099 0.67381401 0.30854055 0.51287052]\n",
      " [0.4573951  0.2512215  0.99833316 0.         0.        ]\n",
      " [0.55193298 0.6729688  0.00228986 0.         0.        ]\n",
      " [0.08170826 0.66031591 0.58502755 0.37848407 0.50048242]\n",
      " [0.96772428 0.19103893 0.74908189 0.66751606 0.55839732]]\n"
     ]
    }
   ],
   "source": [
    "print(rand_mat)\n",
    "rand_mat[1:3,3:5] = 0\n",
    "print('')\n",
    "print(rand_mat)"
   ]
  },
  {
   "cell_type": "code",
   "execution_count": 31,
   "metadata": {},
   "outputs": [
    {
     "name": "stdout",
     "output_type": "stream",
     "text": [
      "[[0.51463923 0.20266099 0.67381401]\n",
      " [0.4573951  0.2512215  0.99833316]]\n",
      "[[3. 3. 3.]\n",
      " [3. 3. 3.]]\n"
     ]
    }
   ],
   "source": [
    "sub_mat = rand_mat[0:2,0:3]\n",
    "print(sub_mat)\n",
    "sub_mat[:] = 3\n",
    "print(sub_mat)\n"
   ]
  },
  {
   "cell_type": "code",
   "execution_count": null,
   "metadata": {},
   "outputs": [],
   "source": [
    "print(rand_mat)"
   ]
  },
  {
   "cell_type": "code",
   "execution_count": 32,
   "metadata": {},
   "outputs": [
    {
     "name": "stdout",
     "output_type": "stream",
     "text": [
      "[[99. 99. 99.]\n",
      " [99. 99. 99.]]\n",
      "[[3.00000000e+00 3.00000000e+00 3.00000000e+00 3.08540553e-01\n",
      "  5.12870521e-01]\n",
      " [3.00000000e+00 3.00000000e+00 3.00000000e+00 0.00000000e+00\n",
      "  0.00000000e+00]\n",
      " [5.51932978e-01 6.72968801e-01 2.28985685e-03 0.00000000e+00\n",
      "  0.00000000e+00]\n",
      " [8.17082583e-02 6.60315912e-01 5.85027546e-01 3.78484074e-01\n",
      "  5.00482421e-01]\n",
      " [9.67724283e-01 1.91038933e-01 7.49081894e-01 6.67516060e-01\n",
      "  5.58397316e-01]]\n"
     ]
    }
   ],
   "source": [
    "sub_mat2 = rand_mat[0:2,0:3].copy()\n",
    "sub_mat2[:] = 99\n",
    "print(sub_mat2)\n",
    "print(rand_mat)\n"
   ]
  },
  {
   "cell_type": "code",
   "execution_count": null,
   "metadata": {},
   "outputs": [],
   "source": [
    "# break here for next video"
   ]
  },
  {
   "cell_type": "code",
   "execution_count": 33,
   "metadata": {},
   "outputs": [
    {
     "name": "stdout",
     "output_type": "stream",
     "text": [
      "[-0.3932279  -1.31524388 -0.0679772   1.37187531  0.65102203  1.00618949\n",
      " -0.13712709 -0.8021611  -0.67875947  0.33932539  0.61393832 -0.72530207\n",
      " -0.19801649 -0.5989619  -0.8728723 ]\n",
      "[False False False  True  True  True False False False  True  True False\n",
      " False False False]\n",
      "[1.37187531 0.65102203 1.00618949 0.33932539 0.61393832]\n"
     ]
    }
   ],
   "source": [
    "# we can also access entries with logicals\n",
    "rand_vec = np.random.randn(15)\n",
    "\n",
    "print(rand_vec)\n",
    "print(rand_vec>0)\n",
    "print(rand_vec[rand_vec>0])"
   ]
  },
  {
   "cell_type": "code",
   "execution_count": 34,
   "metadata": {},
   "outputs": [
    {
     "name": "stdout",
     "output_type": "stream",
     "text": [
      "[[-1.31792162  0.27038552  2.75929834 -0.11511857 -2.23446526]\n",
      " [ 0.74713312 -1.61150265  0.42117954 -1.25237129  1.62951043]\n",
      " [-1.6342231   0.9690605   0.49927238  0.17900322 -0.82621911]\n",
      " [ 0.33291615  1.80454365 -0.12415988  0.83169468  0.51651204]\n",
      " [ 0.09785803 -0.34098738 -1.48949681 -0.44633211 -0.58378772]\n",
      " [ 0.30600833 -1.12464805  0.30406625 -0.22710992 -0.99832198]\n",
      " [ 0.09018151 -0.07989612 -0.79497093 -0.88290836 -1.86624194]\n",
      " [ 0.28107896  0.46342528 -1.1406155   1.7006389  -1.39885367]\n",
      " [ 0.1256738   0.09384156 -0.72350235  1.00292523  0.29981304]\n",
      " [ 0.30529717  0.54172173 -1.40349486 -0.13052712 -1.20168567]]\n",
      "[0.27038552 2.75929834 0.74713312 0.42117954 1.62951043 0.9690605\n",
      " 0.49927238 0.17900322 0.33291615 1.80454365 0.83169468 0.51651204\n",
      " 0.09785803 0.30600833 0.30406625 0.09018151 0.28107896 0.46342528\n",
      " 1.7006389  0.1256738  0.09384156 1.00292523 0.29981304 0.30529717\n",
      " 0.54172173]\n"
     ]
    }
   ],
   "source": [
    "print(rand_mat2)\n",
    "print(rand_mat2[rand_mat2>0])"
   ]
  },
  {
   "cell_type": "code",
   "execution_count": 35,
   "metadata": {},
   "outputs": [
    {
     "name": "stdout",
     "output_type": "stream",
     "text": [
      "[-0.3932279  -1.31524388 -0.0679772   1.37187531  0.65102203  1.00618949\n",
      " -0.13712709 -0.8021611  -0.67875947  0.33932539  0.61393832 -0.72530207\n",
      " -0.19801649 -0.5989619  -0.8728723 ]\n",
      "\n",
      "[-0.3932279  -1.31524388 -0.0679772  -5.         -5.         -5.\n",
      " -0.13712709 -0.8021611  -0.67875947  0.33932539 -5.         -0.72530207\n",
      " -0.19801649 -0.5989619  -0.8728723 ]\n"
     ]
    }
   ],
   "source": [
    "\n",
    "print(rand_vec)\n",
    "print('')\n",
    "rand_vec[rand_vec>0.5] = -5\n",
    "print(rand_vec)"
   ]
  },
  {
   "cell_type": "code",
   "execution_count": 36,
   "metadata": {},
   "outputs": [],
   "source": [
    "# let's save some arrays on the disk for use later!\n",
    "np.save('saved_file_name',rand_mat2)\n"
   ]
  },
  {
   "cell_type": "code",
   "execution_count": 37,
   "metadata": {},
   "outputs": [],
   "source": [
    "np.savez('zipped_file_name',rand_mat=rand_mat,rand_mat2=rand_mat2)"
   ]
  },
  {
   "cell_type": "code",
   "execution_count": 39,
   "metadata": {},
   "outputs": [
    {
     "name": "stdout",
     "output_type": "stream",
     "text": [
      "[[-1.31792162  0.27038552  2.75929834 -0.11511857 -2.23446526]\n",
      " [ 0.74713312 -1.61150265  0.42117954 -1.25237129  1.62951043]\n",
      " [-1.6342231   0.9690605   0.49927238  0.17900322 -0.82621911]\n",
      " [ 0.33291615  1.80454365 -0.12415988  0.83169468  0.51651204]\n",
      " [ 0.09785803 -0.34098738 -1.48949681 -0.44633211 -0.58378772]\n",
      " [ 0.30600833 -1.12464805  0.30406625 -0.22710992 -0.99832198]\n",
      " [ 0.09018151 -0.07989612 -0.79497093 -0.88290836 -1.86624194]\n",
      " [ 0.28107896  0.46342528 -1.1406155   1.7006389  -1.39885367]\n",
      " [ 0.1256738   0.09384156 -0.72350235  1.00292523  0.29981304]\n",
      " [ 0.30529717  0.54172173 -1.40349486 -0.13052712 -1.20168567]]\n",
      "\n",
      "zip\n",
      "<numpy.lib.npyio.NpzFile object at 0x000001FFB4374708>\n"
     ]
    }
   ],
   "source": [
    "# now let's load it\n",
    "loaded_vec = np.load('saved_file_name.npy')\n",
    "loaded_zip = np.load('zipped_file_name.npz')\n",
    "\n",
    "print(loaded_vec)\n",
    "print('')\n",
    "print('zip')\n",
    "print(loaded_zip)"
   ]
  },
  {
   "cell_type": "code",
   "execution_count": 40,
   "metadata": {},
   "outputs": [
    {
     "name": "stdout",
     "output_type": "stream",
     "text": [
      "[[3.00000000e+00 3.00000000e+00 3.00000000e+00 3.08540553e-01\n",
      "  5.12870521e-01]\n",
      " [3.00000000e+00 3.00000000e+00 3.00000000e+00 0.00000000e+00\n",
      "  0.00000000e+00]\n",
      " [5.51932978e-01 6.72968801e-01 2.28985685e-03 0.00000000e+00\n",
      "  0.00000000e+00]\n",
      " [8.17082583e-02 6.60315912e-01 5.85027546e-01 3.78484074e-01\n",
      "  5.00482421e-01]\n",
      " [9.67724283e-01 1.91038933e-01 7.49081894e-01 6.67516060e-01\n",
      "  5.58397316e-01]]\n",
      "\n",
      "[[-1.31792162  0.27038552  2.75929834 -0.11511857 -2.23446526]\n",
      " [ 0.74713312 -1.61150265  0.42117954 -1.25237129  1.62951043]\n",
      " [-1.6342231   0.9690605   0.49927238  0.17900322 -0.82621911]\n",
      " [ 0.33291615  1.80454365 -0.12415988  0.83169468  0.51651204]\n",
      " [ 0.09785803 -0.34098738 -1.48949681 -0.44633211 -0.58378772]\n",
      " [ 0.30600833 -1.12464805  0.30406625 -0.22710992 -0.99832198]\n",
      " [ 0.09018151 -0.07989612 -0.79497093 -0.88290836 -1.86624194]\n",
      " [ 0.28107896  0.46342528 -1.1406155   1.7006389  -1.39885367]\n",
      " [ 0.1256738   0.09384156 -0.72350235  1.00292523  0.29981304]\n",
      " [ 0.30529717  0.54172173 -1.40349486 -0.13052712 -1.20168567]]\n",
      "[[3.00000000e+00 3.00000000e+00 3.00000000e+00 3.08540553e-01\n",
      "  5.12870521e-01]\n",
      " [3.00000000e+00 3.00000000e+00 3.00000000e+00 0.00000000e+00\n",
      "  0.00000000e+00]\n",
      " [5.51932978e-01 6.72968801e-01 2.28985685e-03 0.00000000e+00\n",
      "  0.00000000e+00]\n",
      " [8.17082583e-02 6.60315912e-01 5.85027546e-01 3.78484074e-01\n",
      "  5.00482421e-01]\n",
      " [9.67724283e-01 1.91038933e-01 7.49081894e-01 6.67516060e-01\n",
      "  5.58397316e-01]]\n"
     ]
    }
   ],
   "source": [
    "print(loaded_zip['rand_mat'])\n",
    "print('')\n",
    "print(loaded_zip['rand_mat2'])\n",
    "\n",
    "new_array  = loaded_zip['rand_mat']\n",
    "print(new_array)"
   ]
  },
  {
   "cell_type": "code",
   "execution_count": 41,
   "metadata": {},
   "outputs": [
    {
     "name": "stdout",
     "output_type": "stream",
     "text": [
      "[[3.00000000e+00 3.00000000e+00 3.00000000e+00 3.08540553e-01\n",
      "  5.12870521e-01]\n",
      " [3.00000000e+00 3.00000000e+00 3.00000000e+00 0.00000000e+00\n",
      "  0.00000000e+00]\n",
      " [5.51932978e-01 6.72968801e-01 2.28985685e-03 0.00000000e+00\n",
      "  0.00000000e+00]\n",
      " [8.17082583e-02 6.60315912e-01 5.85027546e-01 3.78484074e-01\n",
      "  5.00482421e-01]\n",
      " [9.67724283e-01 1.91038933e-01 7.49081894e-01 6.67516060e-01\n",
      "  5.58397316e-01]]\n",
      "\n",
      "[[3.00000000e+00 3.00000000e+00 3.00000000e+00 3.08540553e-01\n",
      "  5.12870521e-01]\n",
      " [3.00000000e+00 3.00000000e+00 3.00000000e+00 0.00000000e+00\n",
      "  0.00000000e+00]\n",
      " [5.51932978e-01 6.72968801e-01 2.28985685e-03 0.00000000e+00\n",
      "  0.00000000e+00]\n",
      " [8.17082583e-02 6.60315912e-01 5.85027546e-01 3.78484074e-01\n",
      "  5.00482421e-01]\n",
      " [9.67724283e-01 1.91038933e-01 7.49081894e-01 6.67516060e-01\n",
      "  5.58397316e-01]]\n"
     ]
    }
   ],
   "source": [
    "# we can also save/load as text files...but only single variables\n",
    "np.savetxt('text_file_name.txt',rand_mat,delimiter=',')\n",
    "rand_mat_txt = np.loadtxt('text_file_name.txt',delimiter=',')\n",
    "print(rand_mat)\n",
    "print('')\n",
    "print(rand_mat_txt)"
   ]
  },
  {
   "cell_type": "code",
   "execution_count": 1,
   "metadata": {},
   "outputs": [
    {
     "name": "stdout",
     "output_type": "stream",
     "text": [
      "   mpg  cyl   disp     hp    wt   acc   yr  origin\n",
      "0  NaN    8  307.0  130.0  3504  12.0  NaN       1\n",
      "1   15    8  350.0  165.0  3693  11.5   70       1\n",
      "2   18    8  318.0  150.0  3436  11.0   70       1\n",
      "3   16    8  304.0  150.0  3433  12.0   70       1\n",
      "4   17    8  302.0  140.0  3449  10.5   70       1\n",
      " \n",
      "  mpg  cyl   disp     hp    wt   acc  yr  origin\n",
      "0  23    8  307.0  130.0  3504  12.0  76       1\n",
      "1  15    8  350.0  165.0  3693  11.5  70       1\n",
      "2  18    8  318.0  150.0  3436  11.0  70       1\n",
      "3  16    8  304.0  150.0  3433  12.0  70       1\n",
      "4  17    8  302.0  140.0  3449  10.5  70       1\n",
      " \n",
      "mpg 1st value  23.0\n"
     ]
    }
   ],
   "source": [
    "# use to identify null values\r\n",
    "import pandas as pd\r\n",
    "import numpy as np\r\n",
    "\r\n",
    "mpg_df = pd.read_csv('car_mpg.csv')\r\n",
    "mpg_df = mpg_df.replace('?',np.nan) # pre-defined function replace\r\n",
    "mpg_df['hp'] = mpg_df['hp'].astype('float64')\r\n",
    "numeric_cols = mpg_df.drop('car name',axis=1)\r\n",
    "print(numeric_cols.head())\r\n",
    "print(' ')\r\n",
    "numeric_cols = numeric_cols.apply(lambda x:x.fillna(x.median()),axis=0)\r\n",
    "print(numeric_cols.head())\r\n",
    "print(' ')\r\n",
    "print('mpg 1st value ',mpg_df.mpg.median())"
   ]
  }
 ],
 "metadata": {
  "interpreter": {
   "hash": "a456efd1d2e2bfa10bfdad488db5626e5f8bd233a0f11ae70ce0e7717a6a7d8d"
  },
  "kernelspec": {
   "display_name": "Python 3.8.5 64-bit (conda)",
   "name": "python3"
  },
  "language_info": {
   "codemirror_mode": {
    "name": "ipython",
    "version": 3
   },
   "file_extension": ".py",
   "mimetype": "text/x-python",
   "name": "python",
   "nbconvert_exporter": "python",
   "pygments_lexer": "ipython3",
   "version": "3.8.5"
  }
 },
 "nbformat": 4,
 "nbformat_minor": 2
}