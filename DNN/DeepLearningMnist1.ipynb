{
 "cells": [
  {
   "cell_type": "code",
   "execution_count": 1,
   "metadata": {
    "colab": {
     "base_uri": "https://localhost:8080/",
     "height": 34
    },
    "colab_type": "code",
    "executionInfo": {
     "elapsed": 876,
     "status": "ok",
     "timestamp": 1581787650399,
     "user": {
      "displayName": "Prof. Mukesh Rao",
      "photoUrl": "",
      "userId": "02134472667302377777"
     },
     "user_tz": -330
    },
    "id": "tuPRUnoK42PZ",
    "outputId": "ea931dbb-7678-4b40-e7a6-136e2678efe7"
   },
   "outputs": [
    {
     "name": "stdout",
     "output_type": "stream",
     "text": [
      "2.3.1\n"
     ]
    }
   ],
   "source": [
    "import tensorflow as tf\n",
    "print(tf.__version__)\n",
    "\n"
   ]
  },
  {
   "cell_type": "code",
   "execution_count": 2,
   "metadata": {
    "colab": {
     "base_uri": "https://localhost:8080/",
     "height": 978
    },
    "colab_type": "code",
    "executionInfo": {
     "elapsed": 45940,
     "status": "ok",
     "timestamp": 1581787752945,
     "user": {
      "displayName": "Prof. Mukesh Rao",
      "photoUrl": "",
      "userId": "02134472667302377777"
     },
     "user_tz": -330
    },
    "id": "j7Z0t8aK5KPf",
    "outputId": "4f345730-7c5a-4928-9af2-a8cc60e4d194"
   },
   "outputs": [],
   "source": [
    "# !pip install tensorflow==2.0"
   ]
  },
  {
   "cell_type": "code",
   "execution_count": 2,
   "metadata": {
    "colab": {
     "base_uri": "https://localhost:8080/",
     "height": 34
    },
    "colab_type": "code",
    "executionInfo": {
     "elapsed": 3255,
     "status": "ok",
     "timestamp": 1581787791776,
     "user": {
      "displayName": "Prof. Mukesh Rao",
      "photoUrl": "",
      "userId": "02134472667302377777"
     },
     "user_tz": -330
    },
    "id": "3ocK86aI5Qq3",
    "outputId": "11fe1073-6710-40fc-be42-615284d1fbf5"
   },
   "outputs": [
    {
     "name": "stdout",
     "output_type": "stream",
     "text": [
      "2.0.0\n"
     ]
    }
   ],
   "source": [
    "import tensorflow as tf\n",
    "print(tf.__version__)"
   ]
  },
  {
   "cell_type": "code",
   "execution_count": 3,
   "metadata": {
    "colab": {
     "base_uri": "https://localhost:8080/",
     "height": 34
    },
    "colab_type": "code",
    "executionInfo": {
     "elapsed": 1203,
     "status": "ok",
     "timestamp": 1581787800121,
     "user": {
      "displayName": "Prof. Mukesh Rao",
      "photoUrl": "",
      "userId": "02134472667302377777"
     },
     "user_tz": -330
    },
    "id": "vA5_mIo78Afu",
    "outputId": "e53dfeb6-eb4d-48dd-f881-990133c6c734"
   },
   "outputs": [],
   "source": [
    "import numpy as np\n",
    "import pandas as pd\n",
    "from sklearn import metrics\n",
    "import matplotlib.pyplot as plt\n",
    "%matplotlib inline\n",
    "\n",
    "\n",
    "\n",
    "# Using Tensorflow Keras instead of the original Keras\n",
    "\n",
    "from tensorflow.keras.datasets import mnist\n",
    "from tensorflow.keras import Sequential\n",
    "from tensorflow.keras.layers import Dense\n",
    "\n",
    "from keras.callbacks import EarlyStopping\n",
    "from keras.layers import BatchNormalization\n"
   ]
  },
  {
   "cell_type": "code",
   "execution_count": 4,
   "metadata": {
    "colab": {
     "base_uri": "https://localhost:8080/",
     "height": 50
    },
    "colab_type": "code",
    "executionInfo": {
     "elapsed": 1785,
     "status": "ok",
     "timestamp": 1581787805260,
     "user": {
      "displayName": "Prof. Mukesh Rao",
      "photoUrl": "",
      "userId": "02134472667302377777"
     },
     "user_tz": -330
    },
    "id": "tEKugk2a8Afy",
    "outputId": "b12bf75b-8fe2-4e42-89a8-f0f2751e18f3"
   },
   "outputs": [],
   "source": [
    "(xtrain,ytrain),(xtest,ytest)=mnist.load_data()"
   ]
  },
  {
   "cell_type": "code",
   "execution_count": 5,
   "metadata": {
    "colab": {
     "base_uri": "https://localhost:8080/",
     "height": 34
    },
    "colab_type": "code",
    "executionInfo": {
     "elapsed": 1127,
     "status": "ok",
     "timestamp": 1581787805263,
     "user": {
      "displayName": "Prof. Mukesh Rao",
      "photoUrl": "",
      "userId": "02134472667302377777"
     },
     "user_tz": -330
    },
    "id": "kwGbI1p18Af0",
    "outputId": "afd30fd4-c2b6-423b-8bc4-750de36c0c1c"
   },
   "outputs": [
    {
     "data": {
      "text/plain": [
       "(60000, 28, 28)"
      ]
     },
     "execution_count": 5,
     "metadata": {},
     "output_type": "execute_result"
    }
   ],
   "source": [
    "xtrain.shape"
   ]
  },
  {
   "cell_type": "code",
   "execution_count": 8,
   "metadata": {
    "colab": {
     "base_uri": "https://localhost:8080/",
     "height": 282
    },
    "colab_type": "code",
    "executionInfo": {
     "elapsed": 1803,
     "status": "ok",
     "timestamp": 1581787806388,
     "user": {
      "displayName": "Prof. Mukesh Rao",
      "photoUrl": "",
      "userId": "02134472667302377777"
     },
     "user_tz": -330
    },
    "id": "hT3TVhgF8Af3",
    "outputId": "e6ba82e8-a051-4398-d2c0-d84c1b5b1e2e"
   },
   "outputs": [
    {
     "data": {
      "text/plain": [
       "<matplotlib.image.AxesImage at 0x25b687c1788>"
      ]
     },
     "execution_count": 8,
     "metadata": {},
     "output_type": "execute_result"
    },
    {
     "data": {
      "image/png": "[encoded data removed]",
      "text/plain": [
       "<Figure size 432x288 with 1 Axes>"
      ]
     },
     "metadata": {
      "needs_background": "light"
     },
     "output_type": "display_data"
    }
   ],
   "source": [
    "plt.imshow(xtrain[10,:,:],cmap='gray')"
   ]
  },
  {
   "cell_type": "code",
   "execution_count": 11,
   "metadata": {
    "colab": {
     "base_uri": "https://localhost:8080/",
     "height": 34
    },
    "colab_type": "code",
    "executionInfo": {
     "elapsed": 2820,
     "status": "ok",
     "timestamp": 1581787810231,
     "user": {
      "displayName": "Prof. Mukesh Rao",
      "photoUrl": "",
      "userId": "02134472667302377777"
     },
     "user_tz": -330
    },
    "id": "OGFV6ECu8Af5",
    "outputId": "0660dc82-8bf4-4ae2-b5d8-27f2547b12ac"
   },
   "outputs": [
    {
     "data": {
      "text/plain": [
       "3"
      ]
     },
     "execution_count": 11,
     "metadata": {},
     "output_type": "execute_result"
    }
   ],
   "source": [
    "ytrain[10]"
   ]
  },
  {
   "cell_type": "code",
   "execution_count": 10,
   "metadata": {
    "colab": {
     "base_uri": "https://localhost:8080/",
     "height": 282
    },
    "colab_type": "code",
    "executionInfo": {
     "elapsed": 2278,
     "status": "ok",
     "timestamp": 1581787810235,
     "user": {
      "displayName": "Prof. Mukesh Rao",
      "photoUrl": "",
      "userId": "02134472667302377777"
     },
     "user_tz": -330
    },
    "id": "J3RndLvO8Af8",
    "outputId": "b4be443e-ff2f-4373-ed36-fa825942cfe0"
   },
   "outputs": [
    {
     "data": {
      "text/plain": [
       "<matplotlib.image.AxesImage at 0x25b6882b908>"
      ]
     },
     "execution_count": 10,
     "metadata": {},
     "output_type": "execute_result"
    },
    {
     "data": {
      "image/png": "[encoded data removed]",
      "text/plain": [
       "<Figure size 432x288 with 1 Axes>"
      ]
     },
     "metadata": {
      "needs_background": "light"
     },
     "output_type": "display_data"
    }
   ],
   "source": [
    "plt.imshow(xtest[0,:,:],cmap='gray')"
   ]
  },
  {
   "cell_type": "code",
   "execution_count": 13,
   "metadata": {
    "colab": {
     "base_uri": "https://localhost:8080/",
     "height": 67
    },
    "colab_type": "code",
    "executionInfo": {
     "elapsed": 2396,
     "status": "ok",
     "timestamp": 1581787811009,
     "user": {
      "displayName": "Prof. Mukesh Rao",
      "photoUrl": "",
      "userId": "02134472667302377777"
     },
     "user_tz": -330
    },
    "id": "rWKzG0Uz8Af-",
    "outputId": "a253d048-3115-4717-9295-142b47c78c5d"
   },
   "outputs": [
    {
     "data": {
      "text/plain": [
       "7"
      ]
     },
     "execution_count": 13,
     "metadata": {},
     "output_type": "execute_result"
    }
   ],
   "source": [
    "ytest[0]"
   ]
  },
  {
   "cell_type": "code",
   "execution_count": 14,
   "metadata": {
    "colab": {
     "base_uri": "https://localhost:8080/",
     "height": 202
    },
    "colab_type": "code",
    "executionInfo": {
     "elapsed": 1557,
     "status": "ok",
     "timestamp": 1581787811481,
     "user": {
      "displayName": "Prof. Mukesh Rao",
      "photoUrl": "",
      "userId": "02134472667302377777"
     },
     "user_tz": -330
    },
    "id": "eUlVvVev8AgA",
    "outputId": "184c3e6b-b589-48ad-d6c2-e00dafc1ff5b"
   },
   "outputs": [
    {
     "data": {
      "text/plain": [
       "1    6742\n",
       "7    6265\n",
       "3    6131\n",
       "2    5958\n",
       "9    5949\n",
       "0    5923\n",
       "6    5918\n",
       "8    5851\n",
       "4    5842\n",
       "5    5421\n",
       "Name: 0, dtype: int64"
      ]
     },
     "execution_count": 14,
     "metadata": {},
     "output_type": "execute_result"
    }
   ],
   "source": [
    "L=pd.DataFrame(ytrain)\n",
    "L[0].value_counts()"
   ]
  },
  {
   "cell_type": "code",
   "execution_count": 15,
   "metadata": {
    "colab": {},
    "colab_type": "code",
    "id": "WQYuYZGd8AgD"
   },
   "outputs": [],
   "source": [
    "#Represent Training & Testing samples suitable for #tensorflow backend\n",
    "x_train=xtrain.reshape(xtrain.shape[0],784).astype('float32')\n",
    "x_test=xtest.reshape(xtest.shape[0],784).astype('float32')\n"
   ]
  },
  {
   "cell_type": "code",
   "execution_count": 16,
   "metadata": {
    "colab": {
     "base_uri": "https://localhost:8080/",
     "height": 34
    },
    "colab_type": "code",
    "executionInfo": {
     "elapsed": 1064,
     "status": "ok",
     "timestamp": 1581787813214,
     "user": {
      "displayName": "Prof. Mukesh Rao",
      "photoUrl": "",
      "userId": "02134472667302377777"
     },
     "user_tz": -330
    },
    "id": "v1QWQjmZ8AgF",
    "outputId": "2812be52-52b4-48b6-d406-824b73e41e3d"
   },
   "outputs": [
    {
     "data": {
      "text/plain": [
       "(10000, 784)"
      ]
     },
     "execution_count": 16,
     "metadata": {},
     "output_type": "execute_result"
    }
   ],
   "source": [
    "x_test.shape"
   ]
  },
  {
   "cell_type": "code",
   "execution_count": 17,
   "metadata": {
    "colab": {},
    "colab_type": "code",
    "id": "5qajCj7-8AgH"
   },
   "outputs": [],
   "source": [
    "x_train/=255\n",
    "x_test/=255"
   ]
  },
  {
   "cell_type": "code",
   "execution_count": 18,
   "metadata": {
    "colab": {},
    "colab_type": "code",
    "id": "mZnZ2Dq78AgL"
   },
   "outputs": [],
   "source": [
    "from tensorflow import keras\n",
    "\n",
    "y_train = keras.utils.to_categorical(ytrain, 10)\n",
    "y_test = keras.utils.to_categorical(ytest, 10)"
   ]
  },
  {
   "cell_type": "code",
   "execution_count": 0,
   "metadata": {
    "colab": {},
    "colab_type": "code",
    "id": "TPpy3hpM8AgO"
   },
   "outputs": [],
   "source": []
  },
  {
   "cell_type": "code",
   "execution_count": 29,
   "metadata": {
    "colab": {},
    "colab_type": "code",
    "id": "19kdw8qz8AgV"
   },
   "outputs": [],
   "source": [
    "# Initialize the constructor\n",
    "model = Sequential()\n",
    "\n",
    "# Define model architecture\n",
    "model.add(Dense(784,activation='relu'))\n",
    "model.add(Dense(100, activation ='relu'))\n",
    "model.add(Dense(10,activation='softmax'))"
   ]
  },
  {
   "cell_type": "code",
   "execution_count": 30,
   "metadata": {
    "colab": {},
    "colab_type": "code",
    "id": "MKKOQijJ8AgY"
   },
   "outputs": [],
   "source": [
    "model.compile(loss='categorical_crossentropy',optimizer='adam',metrics=['accuracy'])"
   ]
  },
  {
   "cell_type": "code",
   "execution_count": 40,
   "metadata": {
    "colab": {
     "base_uri": "https://localhost:8080/",
     "height": 706
    },
    "colab_type": "code",
    "executionInfo": {
     "elapsed": 90303,
     "status": "ok",
     "timestamp": 1581787911192,
     "user": {
      "displayName": "Prof. Mukesh Rao",
      "photoUrl": "",
      "userId": "02134472667302377777"
     },
     "user_tz": -330
    },
    "id": "7jWMYY138Aga",
    "outputId": "b6035628-b5cf-4543-9156-a4ae15267eda"
   },
   "outputs": [
    {
     "name": "stdout",
     "output_type": "stream",
     "text": [
      "Epoch 1/30\n",
      "3/3 [==============================] - 2s 542ms/step - loss: 0.2370 - accuracy: 0.9328 - val_loss: 0.1828 - val_accuracy: 0.9488\n",
      "Epoch 2/30\n",
      "3/3 [==============================] - 1s 474ms/step - loss: 0.2233 - accuracy: 0.9367 - val_loss: 0.1749 - val_accuracy: 0.9513\n",
      "Epoch 3/30\n",
      "3/3 [==============================] - 1s 454ms/step - loss: 0.2105 - accuracy: 0.9399 - val_loss: 0.1641 - val_accuracy: 0.9552\n",
      "Epoch 4/30\n",
      "3/3 [==============================] - 1s 466ms/step - loss: 0.1985 - accuracy: 0.9431 - val_loss: 0.1582 - val_accuracy: 0.9560\n",
      "Epoch 5/30\n",
      "3/3 [==============================] - 1s 458ms/step - loss: 0.1884 - accuracy: 0.9460 - val_loss: 0.1518 - val_accuracy: 0.9585\n",
      "Epoch 6/30\n",
      "3/3 [==============================] - 2s 503ms/step - loss: 0.1788 - accuracy: 0.9496 - val_loss: 0.1458 - val_accuracy: 0.9603\n",
      "Epoch 7/30\n",
      "3/3 [==============================] - 2s 507ms/step - loss: 0.1701 - accuracy: 0.9519 - val_loss: 0.1403 - val_accuracy: 0.9593\n",
      "Epoch 8/30\n",
      "3/3 [==============================] - 1s 494ms/step - loss: 0.1620 - accuracy: 0.9541 - val_loss: 0.1363 - val_accuracy: 0.9625\n",
      "Epoch 9/30\n",
      "3/3 [==============================] - 1s 463ms/step - loss: 0.1542 - accuracy: 0.9558 - val_loss: 0.1318 - val_accuracy: 0.9628\n",
      "Epoch 10/30\n",
      "3/3 [==============================] - 1s 470ms/step - loss: 0.1470 - accuracy: 0.9585 - val_loss: 0.1271 - val_accuracy: 0.9650\n",
      "Epoch 11/30\n",
      "3/3 [==============================] - 1s 457ms/step - loss: 0.1405 - accuracy: 0.9602 - val_loss: 0.1240 - val_accuracy: 0.9662\n",
      "Epoch 12/30\n",
      "3/3 [==============================] - 1s 456ms/step - loss: 0.1343 - accuracy: 0.9621 - val_loss: 0.1194 - val_accuracy: 0.9667\n",
      "Epoch 13/30\n",
      "3/3 [==============================] - 1s 456ms/step - loss: 0.1282 - accuracy: 0.9638 - val_loss: 0.1162 - val_accuracy: 0.9668\n",
      "Epoch 14/30\n",
      "3/3 [==============================] - 1s 476ms/step - loss: 0.1224 - accuracy: 0.9656 - val_loss: 0.1130 - val_accuracy: 0.9678\n",
      "Epoch 15/30\n",
      "3/3 [==============================] - 1s 448ms/step - loss: 0.1174 - accuracy: 0.9669 - val_loss: 0.1107 - val_accuracy: 0.9690\n",
      "Epoch 16/30\n",
      "3/3 [==============================] - 1s 470ms/step - loss: 0.1130 - accuracy: 0.9684 - val_loss: 0.1085 - val_accuracy: 0.9687\n",
      "Epoch 17/30\n",
      "3/3 [==============================] - 1s 469ms/step - loss: 0.1079 - accuracy: 0.9701 - val_loss: 0.1061 - val_accuracy: 0.9707\n",
      "Epoch 18/30\n",
      "3/3 [==============================] - 1s 467ms/step - loss: 0.1035 - accuracy: 0.9712 - val_loss: 0.1044 - val_accuracy: 0.9700\n",
      "Epoch 19/30\n",
      "3/3 [==============================] - 1s 463ms/step - loss: 0.1002 - accuracy: 0.9722 - val_loss: 0.1012 - val_accuracy: 0.9715\n",
      "Epoch 20/30\n",
      "3/3 [==============================] - 1s 467ms/step - loss: 0.0953 - accuracy: 0.9736 - val_loss: 0.0992 - val_accuracy: 0.9715\n",
      "Epoch 21/30\n",
      "3/3 [==============================] - 2s 512ms/step - loss: 0.0916 - accuracy: 0.9748 - val_loss: 0.0968 - val_accuracy: 0.9730\n",
      "Epoch 22/30\n",
      "3/3 [==============================] - 1s 468ms/step - loss: 0.0883 - accuracy: 0.9758 - val_loss: 0.0961 - val_accuracy: 0.9727\n",
      "Epoch 23/30\n",
      "3/3 [==============================] - 1s 474ms/step - loss: 0.0853 - accuracy: 0.9766 - val_loss: 0.0945 - val_accuracy: 0.9725\n",
      "Epoch 24/30\n",
      "3/3 [==============================] - 1s 452ms/step - loss: 0.0817 - accuracy: 0.9783 - val_loss: 0.0926 - val_accuracy: 0.9738\n",
      "Epoch 25/30\n",
      "3/3 [==============================] - 1s 462ms/step - loss: 0.0782 - accuracy: 0.9787 - val_loss: 0.0915 - val_accuracy: 0.9732\n",
      "Epoch 26/30\n",
      "3/3 [==============================] - 1s 450ms/step - loss: 0.0754 - accuracy: 0.9797 - val_loss: 0.0894 - val_accuracy: 0.9750\n",
      "Epoch 27/30\n",
      "3/3 [==============================] - 1s 467ms/step - loss: 0.0725 - accuracy: 0.9808 - val_loss: 0.0886 - val_accuracy: 0.9750\n",
      "Epoch 28/30\n",
      "3/3 [==============================] - 1s 490ms/step - loss: 0.0695 - accuracy: 0.9814 - val_loss: 0.0870 - val_accuracy: 0.9743\n",
      "Epoch 29/30\n",
      "3/3 [==============================] - 1s 469ms/step - loss: 0.0668 - accuracy: 0.9826 - val_loss: 0.0863 - val_accuracy: 0.9750\n",
      "Epoch 30/30\n",
      "3/3 [==============================] - 1s 470ms/step - loss: 0.0643 - accuracy: 0.9831 - val_loss: 0.0852 - val_accuracy: 0.9755\n"
     ]
    }
   ],
   "source": [
    "epochs = 30\n",
    "batch_size = 20000\n",
    "\n",
    "\n",
    "history = model.fit(x_train, y_train, batch_size=batch_size, epochs=epochs, validation_split=.1, verbose=True)\n",
    "loss,accuracy  = model.evaluate(x_test, y_test, verbose=False)"
   ]
  },
  {
   "cell_type": "code",
   "execution_count": 41,
   "metadata": {
    "colab": {
     "base_uri": "https://localhost:8080/",
     "height": 335
    },
    "colab_type": "code",
    "executionInfo": {
     "elapsed": 930,
     "status": "ok",
     "timestamp": 1581787922167,
     "user": {
      "displayName": "Prof. Mukesh Rao",
      "photoUrl": "",
      "userId": "02134472667302377777"
     },
     "user_tz": -330
    },
    "id": "pZonsll94n5q",
    "outputId": "93bc1338-ad41-4620-e6bc-333713954c27"
   },
   "outputs": [
    {
     "name": "stdout",
     "output_type": "stream",
     "text": [
      "[0.9488333463668823, 0.9513333439826965, 0.9551666378974915, 0.9559999704360962, 0.9585000276565552, 0.9603333473205566, 0.9593333601951599, 0.9624999761581421, 0.9628333449363708, 0.9649999737739563, 0.9661666750907898, 0.9666666388511658, 0.9668333530426025, 0.9678333401679993, 0.968999981880188, 0.968666672706604, 0.9706666469573975, 0.9700000286102295, 0.9714999794960022, 0.9714999794960022, 0.9729999899864197, 0.9726666808128357, 0.9725000262260437, 0.9738333225250244, 0.9731666445732117, 0.9750000238418579, 0.9750000238418579, 0.9743333458900452, 0.9750000238418579, 0.9754999876022339]\n",
      "[0.93279629945755, 0.9367036819458008, 0.9398703575134277, 0.943148136138916, 0.9460185170173645, 0.9496296048164368, 0.9518518447875977, 0.9541296362876892, 0.9557592868804932, 0.9584629535675049, 0.9602407217025757, 0.9620925784111023, 0.9638333320617676, 0.9655555486679077, 0.9668889045715332, 0.968407392501831, 0.9701481461524963, 0.9712222218513489, 0.9722407460212708, 0.9735925793647766, 0.9747962951660156, 0.975777804851532, 0.9766296148300171, 0.9782778024673462, 0.9787036776542664, 0.9796666502952576, 0.9807962775230408, 0.9813703894615173, 0.9825740456581116, 0.9830555319786072]\n"
     ]
    },
    {
     "data": {
      "text/plain": [
       "<AxesSubplot:>"
      ]
     },
     "execution_count": 41,
     "metadata": {},
     "output_type": "execute_result"
    },
    {
     "data": {
      "image/png": "[encoded data removed]",
      "text/plain": [
       "<Figure size 432x288 with 1 Axes>"
      ]
     },
     "metadata": {
      "needs_background": "light"
     },
     "output_type": "display_data"
    }
   ],
   "source": [
    "print(history.history['val_accuracy'])\n",
    "\n",
    "print(history.history['accuracy'])\n",
    "\n",
    "ta = pd.DataFrame(history.history['accuracy'])\n",
    "va = pd.DataFrame(history.history['val_accuracy'])\n",
    "\n",
    "tva = pd.concat([ta,va] , axis=1)\n",
    "\n",
    "tva.boxplot()"
   ]
  },
  {
   "cell_type": "code",
   "execution_count": 34,
   "metadata": {
    "colab": {
     "base_uri": "https://localhost:8080/",
     "height": 50
    },
    "colab_type": "code",
    "executionInfo": {
     "elapsed": 2105,
     "status": "ok",
     "timestamp": 1581787927848,
     "user": {
      "displayName": "Prof. Mukesh Rao",
      "photoUrl": "",
      "userId": "02134472667302377777"
     },
     "user_tz": -330
    },
    "id": "eooLx3Mp8Agd",
    "outputId": "b1bb8914-4702-4ed8-8ddf-99a34a39f210"
   },
   "outputs": [
    {
     "name": "stdout",
     "output_type": "stream",
     "text": [
      "Accuracy: 0.931\n",
      "Loss: 0.236\n"
     ]
    }
   ],
   "source": [
    "loss, acc = model.evaluate(x_test, y_test, verbose=0)\n",
    "print('Accuracy: %.3f'  % acc)\n",
    "print('Loss: %.3f' % loss)"
   ]
  },
  {
   "cell_type": "code",
   "execution_count": 35,
   "metadata": {
    "colab": {},
    "colab_type": "code",
    "id": "yMANVqX58Agj"
   },
   "outputs": [],
   "source": [
    "y_predict = model.predict(x_test)"
   ]
  },
  {
   "cell_type": "code",
   "execution_count": 36,
   "metadata": {
    "colab": {
     "base_uri": "https://localhost:8080/",
     "height": 67
    },
    "colab_type": "code",
    "executionInfo": {
     "elapsed": 945,
     "status": "ok",
     "timestamp": 1581787929110,
     "user": {
      "displayName": "Prof. Mukesh Rao",
      "photoUrl": "",
      "userId": "02134472667302377777"
     },
     "user_tz": -330
    },
    "id": "yOgumyig8Agm",
    "outputId": "a516c9ea-5b4f-4cdf-b359-4f88e17c8bf7"
   },
   "outputs": [
    {
     "data": {
      "text/plain": [
       "array([1.0463444e-05, 1.0581699e-08, 4.5630431e-06, 6.4628039e-05,\n",
       "       3.6420175e-07, 2.5945885e-06, 1.3034289e-09, 9.9964511e-01,\n",
       "       1.0129334e-06, 2.7119837e-04], dtype=float32)"
      ]
     },
     "execution_count": 36,
     "metadata": {},
     "output_type": "execute_result"
    }
   ],
   "source": [
    "y_predict[0]"
   ]
  },
  {
   "cell_type": "code",
   "execution_count": 37,
   "metadata": {
    "colab": {
     "base_uri": "https://localhost:8080/",
     "height": 34
    },
    "colab_type": "code",
    "executionInfo": {
     "elapsed": 689,
     "status": "ok",
     "timestamp": 1581787929488,
     "user": {
      "displayName": "Prof. Mukesh Rao",
      "photoUrl": "",
      "userId": "02134472667302377777"
     },
     "user_tz": -330
    },
    "id": "lbbqEylx8Agp",
    "outputId": "9d429a64-a95c-4517-c7a6-f0a361dfe7da"
   },
   "outputs": [
    {
     "data": {
      "text/plain": [
       "7"
      ]
     },
     "execution_count": 37,
     "metadata": {},
     "output_type": "execute_result"
    }
   ],
   "source": [
    "np.argmax(y_predict[0])"
   ]
  },
  {
   "cell_type": "code",
   "execution_count": 38,
   "metadata": {
    "colab": {
     "base_uri": "https://localhost:8080/",
     "height": 185
    },
    "colab_type": "code",
    "executionInfo": {
     "elapsed": 719,
     "status": "ok",
     "timestamp": 1581787930449,
     "user": {
      "displayName": "Prof. Mukesh Rao",
      "photoUrl": "",
      "userId": "02134472667302377777"
     },
     "user_tz": -330
    },
    "id": "Blqo-6lQ8Agr",
    "outputId": "cb5d4b35-7395-4980-ad29-33fd3b90e386"
   },
   "outputs": [
    {
     "name": "stdout",
     "output_type": "stream",
     "text": [
      "[[ 959    0    0    2    0    5    7    3    4    0]\n",
      " [   0 1115    2    2    1    1    4    1    9    0]\n",
      " [   7    2  930   22   14    2    9   13   29    4]\n",
      " [   2    1   10  940    0   23    1    9   17    7]\n",
      " [   1    0    5    1  917    1   10    4    6   37]\n",
      " [   8    2    1   32    5  797   14    1   26    6]\n",
      " [  12    3    4    2   10   11  912    1    3    0]\n",
      " [   1    8   22    7    7    0    0  948    3   32]\n",
      " [   8    3    7   20   10   19   10   11  869   17]\n",
      " [   9    7    1   14   29    4    1   11    8  925]]\n"
     ]
    }
   ],
   "source": [
    "y_pred = []\n",
    "for val in y_predict:\n",
    "    y_pred.append(np.argmax(val))\n",
    "#print(y_pred)    \n",
    "#convert 0 1 to 1 and 1 0 as 0\n",
    "cm = metrics.confusion_matrix(ytest,y_pred)\n",
    "print(cm)"
   ]
  },
  {
   "cell_type": "code",
   "execution_count": 39,
   "metadata": {
    "colab": {
     "base_uri": "https://localhost:8080/",
     "height": 302
    },
    "colab_type": "code",
    "executionInfo": {
     "elapsed": 865,
     "status": "ok",
     "timestamp": 1581787933946,
     "user": {
      "displayName": "Prof. Mukesh Rao",
      "photoUrl": "",
      "userId": "02134472667302377777"
     },
     "user_tz": -330
    },
    "id": "oLEPbJmv8Agt",
    "outputId": "c4eaaf3f-18b4-444e-a848-c5fe227b5244"
   },
   "outputs": [
    {
     "name": "stdout",
     "output_type": "stream",
     "text": [
      "              precision    recall  f1-score   support\n",
      "\n",
      "           0       0.95      0.98      0.97       980\n",
      "           1       0.98      0.98      0.98      1135\n",
      "           2       0.95      0.90      0.92      1032\n",
      "           3       0.90      0.93      0.92      1010\n",
      "           4       0.92      0.93      0.93       982\n",
      "           5       0.92      0.89      0.91       892\n",
      "           6       0.94      0.95      0.95       958\n",
      "           7       0.95      0.92      0.93      1028\n",
      "           8       0.89      0.89      0.89       974\n",
      "           9       0.90      0.92      0.91      1009\n",
      "\n",
      "    accuracy                           0.93     10000\n",
      "   macro avg       0.93      0.93      0.93     10000\n",
      "weighted avg       0.93      0.93      0.93     10000\n",
      "\n"
     ]
    }
   ],
   "source": [
    "cr=metrics.classification_report(ytest,y_pred)\n",
    "print(cr)"
   ]
  },
  {
   "cell_type": "code",
   "execution_count": 0,
   "metadata": {
    "colab": {},
    "colab_type": "code",
    "id": "jJUk8v2L8Agx"
   },
   "outputs": [],
   "source": []
  },
  {
   "cell_type": "code",
   "execution_count": 0,
   "metadata": {
    "colab": {},
    "colab_type": "code",
    "id": "vjxAXBYF8Agz"
   },
   "outputs": [],
   "source": []
  }
 ],
 "metadata": {
  "colab": {
   "name": "DeepLearningMnist.ipynb",
   "provenance": []
  },
  "kernelspec": {
   "display_name": "Python 3",
   "language": "python",
   "name": "python3"
  },
  "language_info": {
   "codemirror_mode": {
    "name": "ipython",
    "version": 3
   },
   "file_extension": ".py",
   "mimetype": "text/x-python",
   "name": "python",
   "nbconvert_exporter": "python",
   "pygments_lexer": "ipython3",
   "version": "3.8.5"
  }
 },
 "nbformat": 4,
 "nbformat_minor": 1
}
