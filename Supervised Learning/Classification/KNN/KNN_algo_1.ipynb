{
 "cells": [
  {
   "cell_type": "code",
   "execution_count": 9,
   "source": [
    "import numpy as np\r\n",
    "from math import sqrt\r\n",
    "import matplotlib.pyplot as plt\r\n",
    "\r\n",
    "#from matplotlib import style\r\n",
    "from collections import Counter\r\n",
    "import warnings"
   ],
   "outputs": [],
   "metadata": {}
  },
  {
   "cell_type": "code",
   "execution_count": 10,
   "source": [
    "dataset = {\r\n",
    "    'k':[[1,2], [2,3], [3,1]],\r\n",
    "    'r':[[6,5], [7,7], [8,6]]\r\n",
    "}\r\n",
    "\r\n",
    "new_features = [5,7]"
   ],
   "outputs": [],
   "metadata": {}
  },
  {
   "cell_type": "code",
   "execution_count": 11,
   "source": [
    "# scatter plot\r\n",
    "\r\n",
    "for i in dataset:\r\n",
    "    for ii in dataset[i]:\r\n",
    "        plt.scatter(ii[0],ii[1],s=40,color=i)\r\n",
    "\r\n",
    "plt.scatter(new_features[0],new_features[1],s=30,color='b')\r\n",
    "plt.show()"
   ],
   "outputs": [
    {
     "output_type": "display_data",
     "data": {
      "text/plain": [
       "<Figure size 432x288 with 1 Axes>"
      ],
      "image/png": "[encoded data removed]"
     },
     "metadata": {
      "needs_background": "light"
     }
    }
   ],
   "metadata": {}
  },
  {
   "cell_type": "code",
   "execution_count": null,
   "source": [
    "# define a function to mimic KNearestNeighbors algo\r\n",
    "def k_nearest_neighbors(data, predict,k=3):\r\n",
    "    if(len(data) >= k):\r\n",
    "        warnings.warn('K is set to value less than total classes')\r\n",
    "\r\n",
    "    distances = []\r\n",
    "    #using numpy sqrt to calculate euclidean distance\r\n",
    "    for group in data:\r\n",
    "        for features in data[group]:\r\n",
    "            euclidean_dist = np.sqrt(np.sum((np.array(features)- np.array(predict))**2))\r\n",
    "            #form a distances and group list, so that i can be sorted\r\n",
    "            distances.append([euclidean_dist,group])  \r\n",
    "\r\n",
    "    #find whether the new_features is near to class k or class r ,\r\n",
    "    #this can be found new_features gets maximum votes, i.e first three  distances (k = 3)\r\n",
    "    #sort the distances list, and take the 1st entry\r\n",
    "\r\n",
    " #   print(\"distances\", distances)\r\n",
    "\r\n",
    "    sorted_list = sorted(distances)\r\n",
    "    print(\"sortedList:\", sorted_list)\r\n",
    "    #form array of votes of class, so take 1st index in iteration\r\n",
    "    #take first k , and the corresponding group --> i[1]\r\n",
    "    votes = [i[1] for i in sorted_list[0:k]]    \r\n",
    "    \r\n",
    "    print(\"Votes:\", votes)\r\n",
    "\r\n",
    "    print(Counter(votes).most_common(1))\r\n",
    "    vote_result = Counter(votes).most_common(1)[0][0]  #this gives class\r\n",
    "    print(\"VoteResult:\", vote_result)\r\n",
    "\r\n",
    "    return vote_result"
   ],
   "outputs": [],
   "metadata": {}
  },
  {
   "cell_type": "code",
   "execution_count": null,
   "source": [
    "result = k_nearest_neighbors(dataset,new_features, k=3)\r\n",
    "print(result)"
   ],
   "outputs": [],
   "metadata": {}
  }
 ],
 "metadata": {
  "orig_nbformat": 4,
  "language_info": {
   "name": "python"
  }
 },
 "nbformat": 4,
 "nbformat_minor": 2
}