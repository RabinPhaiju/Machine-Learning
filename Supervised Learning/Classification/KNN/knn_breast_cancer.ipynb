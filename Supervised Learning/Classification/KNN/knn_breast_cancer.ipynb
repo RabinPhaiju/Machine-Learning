{
 "cells": [
  {
   "cell_type": "code",
   "execution_count": 491,
   "source": [
    "import pandas as pd\r\n",
    "import math\r\n",
    "import numpy as np\r\n",
    "import matplotlib.pyplot as plt\r\n",
    "import seaborn as sns\r\n",
    "import datetime\r\n",
    "\r\n",
    "from sklearn import preprocessing\r\n",
    "from sklearn.model_selection import train_test_split\r\n",
    "\r\n",
    "#import for kNearest Neighbors model\r\n",
    "from sklearn import neighbors"
   ],
   "outputs": [],
   "metadata": {}
  },
  {
   "cell_type": "markdown",
   "source": [
    "- Number of Attributes: 10 plus the class attribute\r\n",
    " \r\n",
    " Attribute Information: (class attribute has been moved to last column)   \r\n",
    "   \r\n",
    "   Attribute                       Domain\r\n",
    "   \r\n",
    "   1. Sample code number            id number\r\n",
    "   2. Clump Thickness               1 - 10\r\n",
    "   3. Uniformity of Cell Size       1 - 10\r\n",
    "   4. Uniformity of Cell Shape      1 - 10\r\n",
    "   5. Marginal Adhesion             1 - 10\r\n",
    "   6. Single Epithelial Cell Size   1 - 10\r\n",
    "   7. Bare Nuclei                   1 - 10\r\n",
    "   8. Bland Chromatin               1 - 10\r\n",
    "   9. Normal Nucleoli               1 - 10\r\n",
    "   10. Mitoses                       1 - 10\r\n",
    "   11. Class:                        (2 for benign, 4 for malignant)"
   ],
   "metadata": {}
  },
  {
   "cell_type": "code",
   "execution_count": 492,
   "source": [
    "# Read data\r\n",
    "df = pd.read_csv(\"breast-cancer-wisconsin.csv\")\r\n",
    "df.head()"
   ],
   "outputs": [
    {
     "output_type": "execute_result",
     "data": {
      "text/plain": [
       "        id  clump_thickness  unif_cell_size  unif_cell_shape  marg_adhesion  \\\n",
       "0  1000025                5               1                1              1   \n",
       "1  1002945                5               4                4              5   \n",
       "2  1015425                3               1                1              1   \n",
       "3  1016277                6               8                8              1   \n",
       "4  1017023                4               1                1              3   \n",
       "\n",
       "   single_epith_cell_size bare_nuclei  bland_chrom  norm_nucleoli  mitoses  \\\n",
       "0                       2           1            3              1        1   \n",
       "1                       7          10            3              2        1   \n",
       "2                       2           2            3              1        1   \n",
       "3                       3           4            3              7        1   \n",
       "4                       2           1            3              1        1   \n",
       "\n",
       "   class  \n",
       "0      2  \n",
       "1      2  \n",
       "2      2  \n",
       "3      2  \n",
       "4      2  "
      ],
      "text/html": [
       "<div>\n",
       "<style scoped>\n",
       "    .dataframe tbody tr th:only-of-type {\n",
       "        vertical-align: middle;\n",
       "    }\n",
       "\n",
       "    .dataframe tbody tr th {\n",
       "        vertical-align: top;\n",
       "    }\n",
       "\n",
       "    .dataframe thead th {\n",
       "        text-align: right;\n",
       "    }\n",
       "</style>\n",
       "<table border=\"1\" class=\"dataframe\">\n",
       "  <thead>\n",
       "    <tr style=\"text-align: right;\">\n",
       "      <th></th>\n",
       "      <th>id</th>\n",
       "      <th>clump_thickness</th>\n",
       "      <th>unif_cell_size</th>\n",
       "      <th>unif_cell_shape</th>\n",
       "      <th>marg_adhesion</th>\n",
       "      <th>single_epith_cell_size</th>\n",
       "      <th>bare_nuclei</th>\n",
       "      <th>bland_chrom</th>\n",
       "      <th>norm_nucleoli</th>\n",
       "      <th>mitoses</th>\n",
       "      <th>class</th>\n",
       "    </tr>\n",
       "  </thead>\n",
       "  <tbody>\n",
       "    <tr>\n",
       "      <th>0</th>\n",
       "      <td>1000025</td>\n",
       "      <td>5</td>\n",
       "      <td>1</td>\n",
       "      <td>1</td>\n",
       "      <td>1</td>\n",
       "      <td>2</td>\n",
       "      <td>1</td>\n",
       "      <td>3</td>\n",
       "      <td>1</td>\n",
       "      <td>1</td>\n",
       "      <td>2</td>\n",
       "    </tr>\n",
       "    <tr>\n",
       "      <th>1</th>\n",
       "      <td>1002945</td>\n",
       "      <td>5</td>\n",
       "      <td>4</td>\n",
       "      <td>4</td>\n",
       "      <td>5</td>\n",
       "      <td>7</td>\n",
       "      <td>10</td>\n",
       "      <td>3</td>\n",
       "      <td>2</td>\n",
       "      <td>1</td>\n",
       "      <td>2</td>\n",
       "    </tr>\n",
       "    <tr>\n",
       "      <th>2</th>\n",
       "      <td>1015425</td>\n",
       "      <td>3</td>\n",
       "      <td>1</td>\n",
       "      <td>1</td>\n",
       "      <td>1</td>\n",
       "      <td>2</td>\n",
       "      <td>2</td>\n",
       "      <td>3</td>\n",
       "      <td>1</td>\n",
       "      <td>1</td>\n",
       "      <td>2</td>\n",
       "    </tr>\n",
       "    <tr>\n",
       "      <th>3</th>\n",
       "      <td>1016277</td>\n",
       "      <td>6</td>\n",
       "      <td>8</td>\n",
       "      <td>8</td>\n",
       "      <td>1</td>\n",
       "      <td>3</td>\n",
       "      <td>4</td>\n",
       "      <td>3</td>\n",
       "      <td>7</td>\n",
       "      <td>1</td>\n",
       "      <td>2</td>\n",
       "    </tr>\n",
       "    <tr>\n",
       "      <th>4</th>\n",
       "      <td>1017023</td>\n",
       "      <td>4</td>\n",
       "      <td>1</td>\n",
       "      <td>1</td>\n",
       "      <td>3</td>\n",
       "      <td>2</td>\n",
       "      <td>1</td>\n",
       "      <td>3</td>\n",
       "      <td>1</td>\n",
       "      <td>1</td>\n",
       "      <td>2</td>\n",
       "    </tr>\n",
       "  </tbody>\n",
       "</table>\n",
       "</div>"
      ]
     },
     "metadata": {},
     "execution_count": 492
    }
   ],
   "metadata": {}
  },
  {
   "cell_type": "code",
   "execution_count": 493,
   "source": [
    "df.replace('?',-99999,inplace=True)\r\n",
    "\r\n",
    "#remove id column as it is just patient record id.....so drop\r\n",
    "df.drop(['id'], axis=1, inplace=True)\r\n",
    "df.head()"
   ],
   "outputs": [
    {
     "output_type": "execute_result",
     "data": {
      "text/plain": [
       "   clump_thickness  unif_cell_size  unif_cell_shape  marg_adhesion  \\\n",
       "0                5               1                1              1   \n",
       "1                5               4                4              5   \n",
       "2                3               1                1              1   \n",
       "3                6               8                8              1   \n",
       "4                4               1                1              3   \n",
       "\n",
       "   single_epith_cell_size bare_nuclei  bland_chrom  norm_nucleoli  mitoses  \\\n",
       "0                       2           1            3              1        1   \n",
       "1                       7          10            3              2        1   \n",
       "2                       2           2            3              1        1   \n",
       "3                       3           4            3              7        1   \n",
       "4                       2           1            3              1        1   \n",
       "\n",
       "   class  \n",
       "0      2  \n",
       "1      2  \n",
       "2      2  \n",
       "3      2  \n",
       "4      2  "
      ],
      "text/html": [
       "<div>\n",
       "<style scoped>\n",
       "    .dataframe tbody tr th:only-of-type {\n",
       "        vertical-align: middle;\n",
       "    }\n",
       "\n",
       "    .dataframe tbody tr th {\n",
       "        vertical-align: top;\n",
       "    }\n",
       "\n",
       "    .dataframe thead th {\n",
       "        text-align: right;\n",
       "    }\n",
       "</style>\n",
       "<table border=\"1\" class=\"dataframe\">\n",
       "  <thead>\n",
       "    <tr style=\"text-align: right;\">\n",
       "      <th></th>\n",
       "      <th>clump_thickness</th>\n",
       "      <th>unif_cell_size</th>\n",
       "      <th>unif_cell_shape</th>\n",
       "      <th>marg_adhesion</th>\n",
       "      <th>single_epith_cell_size</th>\n",
       "      <th>bare_nuclei</th>\n",
       "      <th>bland_chrom</th>\n",
       "      <th>norm_nucleoli</th>\n",
       "      <th>mitoses</th>\n",
       "      <th>class</th>\n",
       "    </tr>\n",
       "  </thead>\n",
       "  <tbody>\n",
       "    <tr>\n",
       "      <th>0</th>\n",
       "      <td>5</td>\n",
       "      <td>1</td>\n",
       "      <td>1</td>\n",
       "      <td>1</td>\n",
       "      <td>2</td>\n",
       "      <td>1</td>\n",
       "      <td>3</td>\n",
       "      <td>1</td>\n",
       "      <td>1</td>\n",
       "      <td>2</td>\n",
       "    </tr>\n",
       "    <tr>\n",
       "      <th>1</th>\n",
       "      <td>5</td>\n",
       "      <td>4</td>\n",
       "      <td>4</td>\n",
       "      <td>5</td>\n",
       "      <td>7</td>\n",
       "      <td>10</td>\n",
       "      <td>3</td>\n",
       "      <td>2</td>\n",
       "      <td>1</td>\n",
       "      <td>2</td>\n",
       "    </tr>\n",
       "    <tr>\n",
       "      <th>2</th>\n",
       "      <td>3</td>\n",
       "      <td>1</td>\n",
       "      <td>1</td>\n",
       "      <td>1</td>\n",
       "      <td>2</td>\n",
       "      <td>2</td>\n",
       "      <td>3</td>\n",
       "      <td>1</td>\n",
       "      <td>1</td>\n",
       "      <td>2</td>\n",
       "    </tr>\n",
       "    <tr>\n",
       "      <th>3</th>\n",
       "      <td>6</td>\n",
       "      <td>8</td>\n",
       "      <td>8</td>\n",
       "      <td>1</td>\n",
       "      <td>3</td>\n",
       "      <td>4</td>\n",
       "      <td>3</td>\n",
       "      <td>7</td>\n",
       "      <td>1</td>\n",
       "      <td>2</td>\n",
       "    </tr>\n",
       "    <tr>\n",
       "      <th>4</th>\n",
       "      <td>4</td>\n",
       "      <td>1</td>\n",
       "      <td>1</td>\n",
       "      <td>3</td>\n",
       "      <td>2</td>\n",
       "      <td>1</td>\n",
       "      <td>3</td>\n",
       "      <td>1</td>\n",
       "      <td>1</td>\n",
       "      <td>2</td>\n",
       "    </tr>\n",
       "  </tbody>\n",
       "</table>\n",
       "</div>"
      ]
     },
     "metadata": {},
     "execution_count": 493
    }
   ],
   "metadata": {}
  },
  {
   "cell_type": "code",
   "execution_count": 494,
   "source": [
    "# check if data contains null\r\n",
    "df.isna().any()"
   ],
   "outputs": [
    {
     "output_type": "execute_result",
     "data": {
      "text/plain": [
       "clump_thickness           False\n",
       "unif_cell_size            False\n",
       "unif_cell_shape           False\n",
       "marg_adhesion             False\n",
       "single_epith_cell_size    False\n",
       "bare_nuclei               False\n",
       "bland_chrom               False\n",
       "norm_nucleoli             False\n",
       "mitoses                   False\n",
       "class                     False\n",
       "dtype: bool"
      ]
     },
     "metadata": {},
     "execution_count": 494
    }
   ],
   "metadata": {}
  },
  {
   "cell_type": "code",
   "execution_count": 495,
   "source": [
    "df.info()"
   ],
   "outputs": [
    {
     "output_type": "stream",
     "name": "stdout",
     "text": [
      "<class 'pandas.core.frame.DataFrame'>\n",
      "RangeIndex: 699 entries, 0 to 698\n",
      "Data columns (total 10 columns):\n",
      " #   Column                  Non-Null Count  Dtype \n",
      "---  ------                  --------------  ----- \n",
      " 0   clump_thickness         699 non-null    int64 \n",
      " 1   unif_cell_size          699 non-null    int64 \n",
      " 2   unif_cell_shape         699 non-null    int64 \n",
      " 3   marg_adhesion           699 non-null    int64 \n",
      " 4   single_epith_cell_size  699 non-null    int64 \n",
      " 5   bare_nuclei             699 non-null    object\n",
      " 6   bland_chrom             699 non-null    int64 \n",
      " 7   norm_nucleoli           699 non-null    int64 \n",
      " 8   mitoses                 699 non-null    int64 \n",
      " 9   class                   699 non-null    int64 \n",
      "dtypes: int64(9), object(1)\n",
      "memory usage: 54.7+ KB\n"
     ]
    }
   ],
   "metadata": {}
  },
  {
   "cell_type": "code",
   "execution_count": 496,
   "source": [
    "# the column bare_nuclei is object but the value is numeric so converting to numeric\r\n",
    "# df['bare_nuclei'] = pd.to_numeric(df['bare_nuclei'])"
   ],
   "outputs": [],
   "metadata": {}
  },
  {
   "cell_type": "markdown",
   "source": [
    "# Outliers Detection and treatment\r\n",
    "- Boxplots are the great way of detecting outliers, Once the outliers have been detected.\r\n",
    "- They can be imputed with the 5th and 95th percentiles."
   ],
   "metadata": {}
  },
  {
   "cell_type": "code",
   "execution_count": 497,
   "source": [
    "df.columns"
   ],
   "outputs": [
    {
     "output_type": "execute_result",
     "data": {
      "text/plain": [
       "Index(['clump_thickness', 'unif_cell_size', 'unif_cell_shape', 'marg_adhesion',\n",
       "       'single_epith_cell_size', 'bare_nuclei', 'bland_chrom', 'norm_nucleoli',\n",
       "       'mitoses', 'class'],\n",
       "      dtype='object')"
      ]
     },
     "metadata": {},
     "execution_count": 497
    }
   ],
   "metadata": {}
  },
  {
   "cell_type": "code",
   "execution_count": 498,
   "source": [
    "# Outlier detection using boxplots\r\n",
    "plt.figure(figsize=(20,15))\r\n",
    "plt.subplot(4,4,1)\r\n",
    "sns.boxplot(x=df.clump_thickness)\r\n",
    "plt.subplot(4,4,2)\r\n",
    "sns.boxplot(x=df.unif_cell_size)\r\n",
    "plt.subplot(4,4,3)\r\n",
    "sns.boxplot(x=df.unif_cell_shape)\r\n",
    "plt.subplot(4,4,4)\r\n",
    "sns.boxplot(x=df.marg_adhesion)\r\n",
    "plt.subplot(4,4,5)\r\n",
    "sns.boxplot(x=df.single_epith_cell_size)\r\n",
    "plt.subplot(4,4,6)\r\n",
    "sns.boxplot(x=df.bland_chrom)\r\n",
    "plt.subplot(4,4,7)\r\n",
    "sns.boxplot(x=df.norm_nucleoli)\r\n",
    "plt.subplot(4,4,8)\r\n",
    "sns.boxplot(x=df.mitoses)"
   ],
   "outputs": [
    {
     "output_type": "execute_result",
     "data": {
      "text/plain": [
       "<AxesSubplot:xlabel='mitoses'>"
      ]
     },
     "metadata": {},
     "execution_count": 498
    },
    {
     "output_type": "display_data",
     "data": {
      "text/plain": [
       "<Figure size 1440x1080 with 8 Axes>"
      ],
      "image/png": "[encoded data removed]"
     },
     "metadata": {
      "needs_background": "light"
     }
    }
   ],
   "metadata": {}
  },
  {
   "cell_type": "code",
   "execution_count": 499,
   "source": [
    "# Removing outliears as they required\r\n",
    "\r\n",
    "df['marg_adhesion']=df['marg_adhesion'].clip(lower=df['marg_adhesion'].quantile(0.0), upper=df['marg_adhesion'].quantile(0.90))\r\n",
    "df['single_epith_cell_size']=df['single_epith_cell_size'].clip(lower=df['single_epith_cell_size'].quantile(0.0), upper=df['single_epith_cell_size'].quantile(0.90))\r\n",
    "df['bland_chrom']=df['bland_chrom'].clip(lower=df['bland_chrom'].quantile(0.0), upper=df['bland_chrom'].quantile(0.95))\r\n",
    "df['norm_nucleoli']=df['norm_nucleoli'].clip(lower=df['norm_nucleoli'].quantile(0.0), upper=df['norm_nucleoli'].quantile(0.88))\r\n",
    "df['mitoses']=df['mitoses'].clip(lower=df['mitoses'].quantile(0.0), upper=df['mitoses'].quantile(0.82))"
   ],
   "outputs": [],
   "metadata": {}
  },
  {
   "cell_type": "code",
   "execution_count": 500,
   "source": [
    "# Outlier detection using boxplots\r\n",
    "plt.figure(figsize=(20,15))\r\n",
    "plt.subplot(4,4,1)\r\n",
    "sns.boxplot(x=df.clump_thickness)\r\n",
    "plt.subplot(4,4,2)\r\n",
    "sns.boxplot(x=df.unif_cell_size)\r\n",
    "plt.subplot(4,4,3)\r\n",
    "sns.boxplot(x=df.unif_cell_shape)\r\n",
    "plt.subplot(4,4,4)\r\n",
    "sns.boxplot(x=df.marg_adhesion)\r\n",
    "plt.subplot(4,4,5)\r\n",
    "sns.boxplot(x=df.single_epith_cell_size)\r\n",
    "plt.subplot(4,4,6)\r\n",
    "sns.boxplot(x=df.bland_chrom)\r\n",
    "plt.subplot(4,4,7)\r\n",
    "sns.boxplot(x=df.norm_nucleoli)\r\n",
    "plt.subplot(4,4,8)\r\n",
    "sns.boxplot(x=df.mitoses)"
   ],
   "outputs": [
    {
     "output_type": "execute_result",
     "data": {
      "text/plain": [
       "<AxesSubplot:xlabel='mitoses'>"
      ]
     },
     "metadata": {},
     "execution_count": 500
    },
    {
     "output_type": "display_data",
     "data": {
      "text/plain": [
       "<Figure size 1440x1080 with 8 Axes>"
      ],
      "image/png": "[encoded data removed]"
     },
     "metadata": {
      "needs_background": "light"
     }
    }
   ],
   "metadata": {}
  },
  {
   "cell_type": "code",
   "execution_count": 501,
   "source": [
    "f, ax = plt.subplots(figsize=(10, 10))\r\n",
    "corr = df.corr(\"pearson\")\r\n",
    "sns.heatmap(corr, mask=np.zeros_like(corr, dtype=np.bool), cmap=sns.diverging_palette(220, 10, as_cmap=True),\r\n",
    "            square=True, ax=ax,annot=True)"
   ],
   "outputs": [
    {
     "output_type": "execute_result",
     "data": {
      "text/plain": [
       "<AxesSubplot:>"
      ]
     },
     "metadata": {},
     "execution_count": 501
    },
    {
     "output_type": "display_data",
     "data": {
      "text/plain": [
       "<Figure size 720x720 with 2 Axes>"
      ],
      "image/png": "[encoded data removed]"
     },
     "metadata": {
      "needs_background": "light"
     }
    }
   ],
   "metadata": {}
  },
  {
   "cell_type": "code",
   "execution_count": 502,
   "source": [
    "#we want to predict class based on other columns (which are input)\r\n",
    "\r\n",
    "X =np.array(df.drop(['class'], axis=1))\r\n",
    "y = np.array(df['class'])\r\n",
    "\r\n",
    "X_train, X_test, y_train, y_test = train_test_split(X, y, test_size = 0.2)"
   ],
   "outputs": [],
   "metadata": {}
  },
  {
   "cell_type": "code",
   "execution_count": 503,
   "source": [
    "#use kNearest Neighbors model (classifier)\r\n",
    "clf = neighbors.KNeighborsClassifier()\r\n",
    "clf.fit(X_train,y_train)\r\n",
    "\r\n",
    "accuracy = clf.score(X_test,y_test)\r\n",
    "print(accuracy)"
   ],
   "outputs": [
    {
     "output_type": "stream",
     "name": "stdout",
     "text": [
      "0.9857142857142858\n"
     ]
    }
   ],
   "metadata": {}
  },
  {
   "cell_type": "markdown",
   "source": [
    "# Testing single row (new data)"
   ],
   "metadata": {}
  },
  {
   "cell_type": "code",
   "execution_count": 504,
   "source": [
    "#now predict for some new  data (i.e different data)\r\n",
    "\r\n",
    "example_measures = np.array([4,2,1,1,1,2,3,2,1])\r\n",
    "example_measures = example_measures.reshape(1,9)\r\n",
    "prediction = clf.predict(example_measures)\r\n",
    "print(prediction)"
   ],
   "outputs": [
    {
     "output_type": "stream",
     "name": "stdout",
     "text": [
      "[2]\n"
     ]
    }
   ],
   "metadata": {}
  },
  {
   "cell_type": "code",
   "execution_count": 505,
   "source": [
    "#do more predictions, now 3 inputs (i.e 3 rows of 9 cols)\r\n",
    "example_measures = np.array([[4,2,1,1,1,2,3,2,1],[4,2,1,2,2,2,3,2,1],[5,5,1,5,5,6,4,5,7]])\r\n",
    "\r\n",
    "example_measures = example_measures.reshape(example_measures.shape[0],-1) #or example_measures.reshape(1,-1)\r\n",
    "prediction = clf.predict(example_measures)\r\n",
    "print(prediction)"
   ],
   "outputs": [
    {
     "output_type": "stream",
     "name": "stdout",
     "text": [
      "[2 2 2]\n"
     ]
    }
   ],
   "metadata": {}
  }
 ],
 "metadata": {
  "orig_nbformat": 4,
  "language_info": {
   "name": "python"
  }
 },
 "nbformat": 4,
 "nbformat_minor": 2
}