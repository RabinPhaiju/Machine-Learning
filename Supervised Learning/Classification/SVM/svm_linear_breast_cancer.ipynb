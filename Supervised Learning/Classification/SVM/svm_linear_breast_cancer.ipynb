{
 "cells": [
  {
   "cell_type": "markdown",
   "source": [
    "Attribute                     \tDomain\r\n",
    "   -- -----------------------------------------\r\n",
    "   1. Sample code number    \t\tid number\r\n",
    "   2. Clump Thickness               \t1 - 10\r\n",
    "   3. Uniformity of Cell Size       \t1 - 10\r\n",
    "   4. Uniformity of Cell Shape      \t1 - 10\r\n",
    "   5. Marginal Adhesion             \t1 - 10\r\n",
    "   6. Single Epithelial Cell Size   \t1 - 10\r\n",
    "   7. Bare Nuclei                   \t\t1 - 10\r\n",
    "   8. Bland Chromatin               \t1 - 10\r\n",
    "   9. Normal Nucleoli               \t\t1 - 10\r\n",
    "  10. Mitoses                       \t\t1 - 10\r\n",
    "  11. Class:                        (2 for benign, 4 for malignant)"
   ],
   "metadata": {}
  },
  {
   "cell_type": "code",
   "execution_count": 82,
   "source": [
    "import pandas as pd\r\n",
    "import numpy as np\r\n",
    "\r\n",
    "from sklearn import preprocessing\r\n",
    "from sklearn.model_selection import train_test_split\r\n",
    "\r\n",
    "#import svm\r\n",
    "from sklearn import svm"
   ],
   "outputs": [],
   "metadata": {}
  },
  {
   "cell_type": "code",
   "execution_count": 83,
   "source": [
    "df = pd.read_csv(\"breast-cancer-wisconsin.csv\")\r\n",
    "\r\n",
    "df.replace('?',-99999,inplace=True)\r\n",
    "\r\n",
    "#remove id column as it is just patient record id.....so drop\r\n",
    "df.drop(['id'], axis=1, inplace=True)\r\n",
    "df.head()"
   ],
   "outputs": [
    {
     "output_type": "execute_result",
     "data": {
      "text/plain": [
       "   clump_thickness  unif_cell_size  unif_cell_shape  marg_adhesion  \\\n",
       "0                5               1                1              1   \n",
       "1                5               4                4              5   \n",
       "2                3               1                1              1   \n",
       "3                6               8                8              1   \n",
       "4                4               1                1              3   \n",
       "\n",
       "   single_epith_cell_size bare_nuclei  bland_chrom  norm_nucleoli  mitoses  \\\n",
       "0                       2           1            3              1        1   \n",
       "1                       7          10            3              2        1   \n",
       "2                       2           2            3              1        1   \n",
       "3                       3           4            3              7        1   \n",
       "4                       2           1            3              1        1   \n",
       "\n",
       "   class  \n",
       "0      2  \n",
       "1      2  \n",
       "2      2  \n",
       "3      2  \n",
       "4      2  "
      ],
      "text/html": [
       "<div>\n",
       "<style scoped>\n",
       "    .dataframe tbody tr th:only-of-type {\n",
       "        vertical-align: middle;\n",
       "    }\n",
       "\n",
       "    .dataframe tbody tr th {\n",
       "        vertical-align: top;\n",
       "    }\n",
       "\n",
       "    .dataframe thead th {\n",
       "        text-align: right;\n",
       "    }\n",
       "</style>\n",
       "<table border=\"1\" class=\"dataframe\">\n",
       "  <thead>\n",
       "    <tr style=\"text-align: right;\">\n",
       "      <th></th>\n",
       "      <th>clump_thickness</th>\n",
       "      <th>unif_cell_size</th>\n",
       "      <th>unif_cell_shape</th>\n",
       "      <th>marg_adhesion</th>\n",
       "      <th>single_epith_cell_size</th>\n",
       "      <th>bare_nuclei</th>\n",
       "      <th>bland_chrom</th>\n",
       "      <th>norm_nucleoli</th>\n",
       "      <th>mitoses</th>\n",
       "      <th>class</th>\n",
       "    </tr>\n",
       "  </thead>\n",
       "  <tbody>\n",
       "    <tr>\n",
       "      <th>0</th>\n",
       "      <td>5</td>\n",
       "      <td>1</td>\n",
       "      <td>1</td>\n",
       "      <td>1</td>\n",
       "      <td>2</td>\n",
       "      <td>1</td>\n",
       "      <td>3</td>\n",
       "      <td>1</td>\n",
       "      <td>1</td>\n",
       "      <td>2</td>\n",
       "    </tr>\n",
       "    <tr>\n",
       "      <th>1</th>\n",
       "      <td>5</td>\n",
       "      <td>4</td>\n",
       "      <td>4</td>\n",
       "      <td>5</td>\n",
       "      <td>7</td>\n",
       "      <td>10</td>\n",
       "      <td>3</td>\n",
       "      <td>2</td>\n",
       "      <td>1</td>\n",
       "      <td>2</td>\n",
       "    </tr>\n",
       "    <tr>\n",
       "      <th>2</th>\n",
       "      <td>3</td>\n",
       "      <td>1</td>\n",
       "      <td>1</td>\n",
       "      <td>1</td>\n",
       "      <td>2</td>\n",
       "      <td>2</td>\n",
       "      <td>3</td>\n",
       "      <td>1</td>\n",
       "      <td>1</td>\n",
       "      <td>2</td>\n",
       "    </tr>\n",
       "    <tr>\n",
       "      <th>3</th>\n",
       "      <td>6</td>\n",
       "      <td>8</td>\n",
       "      <td>8</td>\n",
       "      <td>1</td>\n",
       "      <td>3</td>\n",
       "      <td>4</td>\n",
       "      <td>3</td>\n",
       "      <td>7</td>\n",
       "      <td>1</td>\n",
       "      <td>2</td>\n",
       "    </tr>\n",
       "    <tr>\n",
       "      <th>4</th>\n",
       "      <td>4</td>\n",
       "      <td>1</td>\n",
       "      <td>1</td>\n",
       "      <td>3</td>\n",
       "      <td>2</td>\n",
       "      <td>1</td>\n",
       "      <td>3</td>\n",
       "      <td>1</td>\n",
       "      <td>1</td>\n",
       "      <td>2</td>\n",
       "    </tr>\n",
       "  </tbody>\n",
       "</table>\n",
       "</div>"
      ]
     },
     "metadata": {},
     "execution_count": 83
    }
   ],
   "metadata": {}
  },
  {
   "cell_type": "code",
   "execution_count": 84,
   "source": [
    "#we want to predict class based on other columns (which are input)\r\n",
    "\r\n",
    "X =np.array(df.drop(['class'], axis=1))\r\n",
    "y = np.array(df['class'])\r\n",
    "\r\n",
    "X_train, X_test, y_train, y_test = train_test_split(X, y, test_size = 0.2)\r\n",
    "\r\n",
    "#use svm , SVC (classifier) with default parameters\r\n",
    "#Gaussian Radial Basis Function (RBF) --> default\r\n",
    "#kernel --> linear\r\n",
    "clf = svm.SVC(kernel='linear')\r\n",
    "clf.fit(X_train,y_train)\r\n",
    "\r\n",
    "accuracy = clf.score(X_test,y_test)\r\n",
    "print(accuracy)"
   ],
   "outputs": [
    {
     "output_type": "stream",
     "name": "stdout",
     "text": [
      "0.9642857142857143\n"
     ]
    }
   ],
   "metadata": {}
  },
  {
   "cell_type": "code",
   "execution_count": 85,
   "source": [
    "#now predict for some new  data (i.e different data)\r\n",
    "\r\n",
    "example_measures = np.array([4,2,1,1,1,2,3,2,1])\r\n",
    "print(example_measures.shape)\r\n",
    "#reshape to 1 row and 9 columns\r\n",
    "example_measures = example_measures.reshape(1,9) #or example_measures.reshape(1,-1)\r\n",
    "print(example_measures.shape)\r\n",
    "\r\n",
    "prediction = clf.predict(example_measures)\r\n",
    "print(prediction)"
   ],
   "outputs": [
    {
     "output_type": "stream",
     "name": "stdout",
     "text": [
      "(9,)\n",
      "(1, 9)\n",
      "[2]\n"
     ]
    }
   ],
   "metadata": {}
  },
  {
   "cell_type": "code",
   "execution_count": 86,
   "source": [
    "#do more predictions, now 3 inputs (i.e 3 rows of 9 cols)\r\n",
    "example_measures = np.array([[4,2,1,1,1,2,3,2,1],[4,2,1,2,2,2,3,2,1],[5,5,1,5,5,6,4,5,7]])\r\n",
    "print(example_measures.shape)\r\n",
    "length = len(example_measures)  #or   example_measures.shape[0]\r\n",
    "print(length)\r\n",
    "example_measures = example_measures.reshape(length,-1) #or example_measures.reshape(1,-1)\r\n",
    "prediction = clf.predict(example_measures)\r\n",
    "print(prediction)"
   ],
   "outputs": [
    {
     "output_type": "stream",
     "name": "stdout",
     "text": [
      "(3, 9)\n",
      "3\n",
      "[2 2 4]\n"
     ]
    }
   ],
   "metadata": {}
  },
  {
   "cell_type": "code",
   "execution_count": null,
   "source": [],
   "outputs": [],
   "metadata": {}
  }
 ],
 "metadata": {
  "orig_nbformat": 4,
  "language_info": {
   "name": "python"
  }
 },
 "nbformat": 4,
 "nbformat_minor": 2
}