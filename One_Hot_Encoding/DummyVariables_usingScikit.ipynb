{
 "cells": [
  {
   "cell_type": "code",
   "execution_count": 38,
   "source": [
    "import pandas as pd\r\n",
    "import numpy as np\r\n",
    "from sklearn import linear_model"
   ],
   "outputs": [],
   "metadata": {}
  },
  {
   "cell_type": "code",
   "execution_count": 39,
   "source": [
    "df = pd.read_csv(\"realEstateRates_multipleCities.csv\")\r\n",
    "df"
   ],
   "outputs": [
    {
     "output_type": "execute_result",
     "data": {
      "text/plain": [
       "      town  area    price\n",
       "0   Nagpur  2500   550000\n",
       "1   Nagpur  3000   570000\n",
       "2   Nagpur  3200   620000\n",
       "3   Nagpur  3800   690000\n",
       "4   Nagpur  4200   730000\n",
       "5   Indore  2400   570000\n",
       "6   Indore  2800   600000\n",
       "7   Indore  3000   650000\n",
       "8   Indore  3600   740000\n",
       "9     Pune  2600   690000\n",
       "10    Pune  3200   800000\n",
       "11    Pune  3600   900000\n",
       "12    Pune  4000  1100000"
      ],
      "text/html": [
       "<div>\n",
       "<style scoped>\n",
       "    .dataframe tbody tr th:only-of-type {\n",
       "        vertical-align: middle;\n",
       "    }\n",
       "\n",
       "    .dataframe tbody tr th {\n",
       "        vertical-align: top;\n",
       "    }\n",
       "\n",
       "    .dataframe thead th {\n",
       "        text-align: right;\n",
       "    }\n",
       "</style>\n",
       "<table border=\"1\" class=\"dataframe\">\n",
       "  <thead>\n",
       "    <tr style=\"text-align: right;\">\n",
       "      <th></th>\n",
       "      <th>town</th>\n",
       "      <th>area</th>\n",
       "      <th>price</th>\n",
       "    </tr>\n",
       "  </thead>\n",
       "  <tbody>\n",
       "    <tr>\n",
       "      <th>0</th>\n",
       "      <td>Nagpur</td>\n",
       "      <td>2500</td>\n",
       "      <td>550000</td>\n",
       "    </tr>\n",
       "    <tr>\n",
       "      <th>1</th>\n",
       "      <td>Nagpur</td>\n",
       "      <td>3000</td>\n",
       "      <td>570000</td>\n",
       "    </tr>\n",
       "    <tr>\n",
       "      <th>2</th>\n",
       "      <td>Nagpur</td>\n",
       "      <td>3200</td>\n",
       "      <td>620000</td>\n",
       "    </tr>\n",
       "    <tr>\n",
       "      <th>3</th>\n",
       "      <td>Nagpur</td>\n",
       "      <td>3800</td>\n",
       "      <td>690000</td>\n",
       "    </tr>\n",
       "    <tr>\n",
       "      <th>4</th>\n",
       "      <td>Nagpur</td>\n",
       "      <td>4200</td>\n",
       "      <td>730000</td>\n",
       "    </tr>\n",
       "    <tr>\n",
       "      <th>5</th>\n",
       "      <td>Indore</td>\n",
       "      <td>2400</td>\n",
       "      <td>570000</td>\n",
       "    </tr>\n",
       "    <tr>\n",
       "      <th>6</th>\n",
       "      <td>Indore</td>\n",
       "      <td>2800</td>\n",
       "      <td>600000</td>\n",
       "    </tr>\n",
       "    <tr>\n",
       "      <th>7</th>\n",
       "      <td>Indore</td>\n",
       "      <td>3000</td>\n",
       "      <td>650000</td>\n",
       "    </tr>\n",
       "    <tr>\n",
       "      <th>8</th>\n",
       "      <td>Indore</td>\n",
       "      <td>3600</td>\n",
       "      <td>740000</td>\n",
       "    </tr>\n",
       "    <tr>\n",
       "      <th>9</th>\n",
       "      <td>Pune</td>\n",
       "      <td>2600</td>\n",
       "      <td>690000</td>\n",
       "    </tr>\n",
       "    <tr>\n",
       "      <th>10</th>\n",
       "      <td>Pune</td>\n",
       "      <td>3200</td>\n",
       "      <td>800000</td>\n",
       "    </tr>\n",
       "    <tr>\n",
       "      <th>11</th>\n",
       "      <td>Pune</td>\n",
       "      <td>3600</td>\n",
       "      <td>900000</td>\n",
       "    </tr>\n",
       "    <tr>\n",
       "      <th>12</th>\n",
       "      <td>Pune</td>\n",
       "      <td>4000</td>\n",
       "      <td>1100000</td>\n",
       "    </tr>\n",
       "  </tbody>\n",
       "</table>\n",
       "</div>"
      ]
     },
     "metadata": {},
     "execution_count": 39
    }
   ],
   "metadata": {}
  },
  {
   "cell_type": "markdown",
   "source": [
    "## Categorical variables\n",
    "The towns are given as text (i.e names). The text cannot be used in model. Model requires numerics. Once model is built it can be used for prediction.\n",
    "\n",
    "Such variables are called Categorial variables. \n",
    "Categorical variables are divided into two types:\n",
    "    1. Nominal variables --> here categories does not have any numeric ordering. No ordering relation exists\n",
    "    2. Ordinal variables --> here categories  have some sort of  numeric ordering\n",
    "\n",
    "Nominal variables examples\n",
    "     1. The names of city (or town) belongs to Nominal variables\n",
    "     2. gender as male or female belongs to Nominal variables\n",
    "     3. color as red, green, blue\n",
    "\n",
    "Ordinal variables examples\n",
    "    1. degree in college --> graduate, masters, phd\n",
    "    2. customer feedback --> satisfied, neutral, dissatisfied\n",
    "    3. scores --> high, medium, low"
   ],
   "metadata": {}
  },
  {
   "cell_type": "markdown",
   "source": [
    "## Using oneHotEncoder of scikit\n",
    "1. import LabelEncoder from sklearn\n",
    "2. do label encoding on town column using LabelEncoder \n",
    "2. copy dataframe to another dataframe \n",
    "3. fit & transform the town column "
   ],
   "metadata": {}
  },
  {
   "cell_type": "code",
   "execution_count": 40,
   "source": [
    "# 1.import LabelEncoder \r\n",
    "from sklearn.preprocessing import LabelEncoder\r\n",
    "\r\n",
    "# 2.create labelEncoder object\r\n",
    "labelEnc = LabelEncoder()\r\n",
    "\r\n",
    "# 3.copy dataframe\r\n",
    "df_labelEnc = df\r\n",
    "\r\n",
    "# 4.fit the model , its called fit & transform.\r\n",
    "# It assigns integers to town names\r\n",
    "labelEnc.fit_transform(df_labelEnc.town)"
   ],
   "outputs": [
    {
     "output_type": "execute_result",
     "data": {
      "text/plain": [
       "array([1, 1, 1, 1, 1, 0, 0, 0, 0, 2, 2, 2, 2])"
      ]
     },
     "metadata": {},
     "execution_count": 40
    }
   ],
   "metadata": {}
  },
  {
   "cell_type": "code",
   "execution_count": 41,
   "source": [
    "#replace city_name by the transformed column to the dataframe\r\n",
    "df_labelEnc.town = labelEnc.fit_transform(df_labelEnc.town)\r\n",
    "df_labelEnc"
   ],
   "outputs": [
    {
     "output_type": "execute_result",
     "data": {
      "text/plain": [
       "    town  area    price\n",
       "0      1  2500   550000\n",
       "1      1  3000   570000\n",
       "2      1  3200   620000\n",
       "3      1  3800   690000\n",
       "4      1  4200   730000\n",
       "5      0  2400   570000\n",
       "6      0  2800   600000\n",
       "7      0  3000   650000\n",
       "8      0  3600   740000\n",
       "9      2  2600   690000\n",
       "10     2  3200   800000\n",
       "11     2  3600   900000\n",
       "12     2  4000  1100000"
      ],
      "text/html": [
       "<div>\n",
       "<style scoped>\n",
       "    .dataframe tbody tr th:only-of-type {\n",
       "        vertical-align: middle;\n",
       "    }\n",
       "\n",
       "    .dataframe tbody tr th {\n",
       "        vertical-align: top;\n",
       "    }\n",
       "\n",
       "    .dataframe thead th {\n",
       "        text-align: right;\n",
       "    }\n",
       "</style>\n",
       "<table border=\"1\" class=\"dataframe\">\n",
       "  <thead>\n",
       "    <tr style=\"text-align: right;\">\n",
       "      <th></th>\n",
       "      <th>town</th>\n",
       "      <th>area</th>\n",
       "      <th>price</th>\n",
       "    </tr>\n",
       "  </thead>\n",
       "  <tbody>\n",
       "    <tr>\n",
       "      <th>0</th>\n",
       "      <td>1</td>\n",
       "      <td>2500</td>\n",
       "      <td>550000</td>\n",
       "    </tr>\n",
       "    <tr>\n",
       "      <th>1</th>\n",
       "      <td>1</td>\n",
       "      <td>3000</td>\n",
       "      <td>570000</td>\n",
       "    </tr>\n",
       "    <tr>\n",
       "      <th>2</th>\n",
       "      <td>1</td>\n",
       "      <td>3200</td>\n",
       "      <td>620000</td>\n",
       "    </tr>\n",
       "    <tr>\n",
       "      <th>3</th>\n",
       "      <td>1</td>\n",
       "      <td>3800</td>\n",
       "      <td>690000</td>\n",
       "    </tr>\n",
       "    <tr>\n",
       "      <th>4</th>\n",
       "      <td>1</td>\n",
       "      <td>4200</td>\n",
       "      <td>730000</td>\n",
       "    </tr>\n",
       "    <tr>\n",
       "      <th>5</th>\n",
       "      <td>0</td>\n",
       "      <td>2400</td>\n",
       "      <td>570000</td>\n",
       "    </tr>\n",
       "    <tr>\n",
       "      <th>6</th>\n",
       "      <td>0</td>\n",
       "      <td>2800</td>\n",
       "      <td>600000</td>\n",
       "    </tr>\n",
       "    <tr>\n",
       "      <th>7</th>\n",
       "      <td>0</td>\n",
       "      <td>3000</td>\n",
       "      <td>650000</td>\n",
       "    </tr>\n",
       "    <tr>\n",
       "      <th>8</th>\n",
       "      <td>0</td>\n",
       "      <td>3600</td>\n",
       "      <td>740000</td>\n",
       "    </tr>\n",
       "    <tr>\n",
       "      <th>9</th>\n",
       "      <td>2</td>\n",
       "      <td>2600</td>\n",
       "      <td>690000</td>\n",
       "    </tr>\n",
       "    <tr>\n",
       "      <th>10</th>\n",
       "      <td>2</td>\n",
       "      <td>3200</td>\n",
       "      <td>800000</td>\n",
       "    </tr>\n",
       "    <tr>\n",
       "      <th>11</th>\n",
       "      <td>2</td>\n",
       "      <td>3600</td>\n",
       "      <td>900000</td>\n",
       "    </tr>\n",
       "    <tr>\n",
       "      <th>12</th>\n",
       "      <td>2</td>\n",
       "      <td>4000</td>\n",
       "      <td>1100000</td>\n",
       "    </tr>\n",
       "  </tbody>\n",
       "</table>\n",
       "</div>"
      ]
     },
     "metadata": {},
     "execution_count": 41
    }
   ],
   "metadata": {}
  },
  {
   "cell_type": "markdown",
   "source": [
    "## SKK:\r\n",
    "    - There is some issue with categorical_features parameter with OneHotEncoder(). Hence X is taken as 1D array\r\n",
    "    - X2 is separately formed from dataframe , which is area column\r\n",
    "    - X2 is appended (concat) to X using numpy to create X_final\r\n"
   ],
   "metadata": {}
  },
  {
   "cell_type": "code",
   "execution_count": 42,
   "source": [
    "#create 1D array (note its not dataframe )\r\n",
    "X = df_labelEnc[['town']].values\r\n",
    "X"
   ],
   "outputs": [
    {
     "output_type": "execute_result",
     "data": {
      "text/plain": [
       "array([[1],\n",
       "       [1],\n",
       "       [1],\n",
       "       [1],\n",
       "       [1],\n",
       "       [0],\n",
       "       [0],\n",
       "       [0],\n",
       "       [0],\n",
       "       [2],\n",
       "       [2],\n",
       "       [2],\n",
       "       [2]])"
      ]
     },
     "metadata": {},
     "execution_count": 42
    }
   ],
   "metadata": {}
  },
  {
   "cell_type": "code",
   "execution_count": 43,
   "source": [
    "#create y \r\n",
    "y_price = df_labelEnc.price\r\n",
    "y_price"
   ],
   "outputs": [
    {
     "output_type": "execute_result",
     "data": {
      "text/plain": [
       "0      550000\n",
       "1      570000\n",
       "2      620000\n",
       "3      690000\n",
       "4      730000\n",
       "5      570000\n",
       "6      600000\n",
       "7      650000\n",
       "8      740000\n",
       "9      690000\n",
       "10     800000\n",
       "11     900000\n",
       "12    1100000\n",
       "Name: price, dtype: int64"
      ]
     },
     "metadata": {},
     "execution_count": 43
    }
   ],
   "metadata": {}
  },
  {
   "cell_type": "code",
   "execution_count": 44,
   "source": [
    "#import oneHotEncoder from sklearn\r\n",
    "from sklearn.preprocessing import  OneHotEncoder\r\n",
    "\r\n",
    "#OneHotEncoder() takes categorical_features as parameter. \r\n",
    "oneHot_Enc = OneHotEncoder(categories='auto')   #to remove warnings"
   ],
   "outputs": [],
   "metadata": {}
  },
  {
   "cell_type": "code",
   "execution_count": 45,
   "source": [
    "#fit_transform() creates three dummy variables\r\n",
    "x_city = oneHot_Enc.fit_transform(X).toarray()\r\n",
    "x_city"
   ],
   "outputs": [
    {
     "output_type": "execute_result",
     "data": {
      "text/plain": [
       "array([[0., 1., 0.],\n",
       "       [0., 1., 0.],\n",
       "       [0., 1., 0.],\n",
       "       [0., 1., 0.],\n",
       "       [0., 1., 0.],\n",
       "       [1., 0., 0.],\n",
       "       [1., 0., 0.],\n",
       "       [1., 0., 0.],\n",
       "       [1., 0., 0.],\n",
       "       [0., 0., 1.],\n",
       "       [0., 0., 1.],\n",
       "       [0., 0., 1.],\n",
       "       [0., 0., 1.]])"
      ]
     },
     "metadata": {},
     "execution_count": 45
    }
   ],
   "metadata": {}
  },
  {
   "cell_type": "code",
   "execution_count": 46,
   "source": [
    "x_area = df_labelEnc[['area']].values\r\n",
    "x_area"
   ],
   "outputs": [
    {
     "output_type": "execute_result",
     "data": {
      "text/plain": [
       "array([[2500],\n",
       "       [3000],\n",
       "       [3200],\n",
       "       [3800],\n",
       "       [4200],\n",
       "       [2400],\n",
       "       [2800],\n",
       "       [3000],\n",
       "       [3600],\n",
       "       [2600],\n",
       "       [3200],\n",
       "       [3600],\n",
       "       [4000]], dtype=int64)"
      ]
     },
     "metadata": {},
     "execution_count": 46
    }
   ],
   "metadata": {}
  },
  {
   "cell_type": "code",
   "execution_count": 47,
   "source": [
    "#append area column \r\n",
    "X_final = np.concatenate((x_city, x_area), axis=1)\r\n",
    "X_final"
   ],
   "outputs": [
    {
     "output_type": "execute_result",
     "data": {
      "text/plain": [
       "array([[0.0e+00, 1.0e+00, 0.0e+00, 2.5e+03],\n",
       "       [0.0e+00, 1.0e+00, 0.0e+00, 3.0e+03],\n",
       "       [0.0e+00, 1.0e+00, 0.0e+00, 3.2e+03],\n",
       "       [0.0e+00, 1.0e+00, 0.0e+00, 3.8e+03],\n",
       "       [0.0e+00, 1.0e+00, 0.0e+00, 4.2e+03],\n",
       "       [1.0e+00, 0.0e+00, 0.0e+00, 2.4e+03],\n",
       "       [1.0e+00, 0.0e+00, 0.0e+00, 2.8e+03],\n",
       "       [1.0e+00, 0.0e+00, 0.0e+00, 3.0e+03],\n",
       "       [1.0e+00, 0.0e+00, 0.0e+00, 3.6e+03],\n",
       "       [0.0e+00, 0.0e+00, 1.0e+00, 2.6e+03],\n",
       "       [0.0e+00, 0.0e+00, 1.0e+00, 3.2e+03],\n",
       "       [0.0e+00, 0.0e+00, 1.0e+00, 3.6e+03],\n",
       "       [0.0e+00, 0.0e+00, 1.0e+00, 4.0e+03]])"
      ]
     },
     "metadata": {},
     "execution_count": 47
    }
   ],
   "metadata": {}
  },
  {
   "cell_type": "markdown",
   "source": [
    "\n",
    "## dummy variable trap and its handling\n",
    "    Drop one of the dummy variable column also. \n",
    "    This is to avoid dummy variable trap (and avoid messing machine learning model). \n",
    "    As one of variable can be derived from rest of variables (i.e 3rd can be derived from 1st and 2nd)"
   ],
   "metadata": {}
  },
  {
   "cell_type": "code",
   "execution_count": 48,
   "source": [
    "#To avoid dummy variable trap, drop one of the column\r\n",
    "X_final = X_final[:, 1:]\r\n",
    "X_final"
   ],
   "outputs": [
    {
     "output_type": "execute_result",
     "data": {
      "text/plain": [
       "array([[1.0e+00, 0.0e+00, 2.5e+03],\n",
       "       [1.0e+00, 0.0e+00, 3.0e+03],\n",
       "       [1.0e+00, 0.0e+00, 3.2e+03],\n",
       "       [1.0e+00, 0.0e+00, 3.8e+03],\n",
       "       [1.0e+00, 0.0e+00, 4.2e+03],\n",
       "       [0.0e+00, 0.0e+00, 2.4e+03],\n",
       "       [0.0e+00, 0.0e+00, 2.8e+03],\n",
       "       [0.0e+00, 0.0e+00, 3.0e+03],\n",
       "       [0.0e+00, 0.0e+00, 3.6e+03],\n",
       "       [0.0e+00, 1.0e+00, 2.6e+03],\n",
       "       [0.0e+00, 1.0e+00, 3.2e+03],\n",
       "       [0.0e+00, 1.0e+00, 3.6e+03],\n",
       "       [0.0e+00, 1.0e+00, 4.0e+03]])"
      ]
     },
     "metadata": {},
     "execution_count": 48
    }
   ],
   "metadata": {}
  },
  {
   "cell_type": "code",
   "execution_count": 49,
   "source": [
    "from sklearn.linear_model import LinearRegression\r\n",
    "model = LinearRegression()\r\n",
    "\r\n",
    "model.fit(X_final,y)\r\n",
    "\r\n",
    "# to check accuracy of your model\r\n",
    "model.score(X_final,y_price)"
   ],
   "outputs": [
    {
     "output_type": "execute_result",
     "data": {
      "text/plain": [
       "0.9072810389654646"
      ]
     },
     "metadata": {},
     "execution_count": 49
    }
   ],
   "metadata": {}
  },
  {
   "cell_type": "code",
   "execution_count": 50,
   "source": [
    "#predict price for area for a particular city \r\n",
    "#Lets predict for 5200 and for Pune city ---- so for  area =5200, Nagpur = 0, pune = 1\r\n",
    "x_input = [0, 1,5200]\r\n",
    "model.predict([x_input])"
   ],
   "outputs": [
    {
     "output_type": "execute_result",
     "data": {
      "text/plain": [
       "array([1187542.91251605])"
      ]
     },
     "metadata": {},
     "execution_count": 50
    }
   ],
   "metadata": {}
  },
  {
   "cell_type": "code",
   "execution_count": 51,
   "source": [
    "#Lets predict for 4800 and for Indore city \r\n",
    "#so for  area =4800, nagpur = 0, pune = 0\r\n",
    "x_input = [ 0, 0, 4800]\r\n",
    "model.predict([x_input])"
   ],
   "outputs": [
    {
     "output_type": "execute_result",
     "data": {
      "text/plain": [
       "array([955042.91251561])"
      ]
     },
     "metadata": {},
     "execution_count": 51
    }
   ],
   "metadata": {}
  },
  {
   "cell_type": "code",
   "execution_count": 52,
   "source": [
    "#Lets predict for 5300 and for Nagpur city \r\n",
    "#so for  area =5300, Nagpur =1, pune = 0\r\n",
    "x_input = [1, 0, 5300]\r\n",
    "model.predict([x_input])"
   ],
   "outputs": [
    {
     "output_type": "execute_result",
     "data": {
      "text/plain": [
       "array([965775.19380077])"
      ]
     },
     "metadata": {},
     "execution_count": 52
    }
   ],
   "metadata": {}
  }
 ],
 "metadata": {
  "kernelspec": {
   "display_name": "Python 3",
   "language": "python",
   "name": "python3"
  },
  "language_info": {
   "codemirror_mode": {
    "name": "ipython",
    "version": 3
   },
   "file_extension": ".py",
   "mimetype": "text/x-python",
   "name": "python",
   "nbconvert_exporter": "python",
   "pygments_lexer": "ipython3",
   "version": "3.7.0"
  }
 },
 "nbformat": 4,
 "nbformat_minor": 2
}